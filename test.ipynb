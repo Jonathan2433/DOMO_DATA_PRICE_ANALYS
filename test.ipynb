{
 "cells": [
  {
   "cell_type": "code",
   "execution_count": 1,
   "id": "initial_id",
   "metadata": {
    "collapsed": true,
    "ExecuteTime": {
     "end_time": "2024-03-31T19:21:21.697377500Z",
     "start_time": "2024-03-31T19:21:21.481075600Z"
    }
   },
   "outputs": [],
   "source": [
    "from DataPreprocessor import DataPreprocessor\n",
    "from  BaselineFiter import BaselineFiter\n",
    "import numpy as np\n",
    "from sklearn.preprocessing import RobustScaler\n",
    "from sklearn.model_selection import train_test_split\n",
    "from sklearn.preprocessing import OneHotEncoder\n",
    "from sklearn.ensemble import RandomForestRegressor\n",
    "from sklearn.metrics import mean_squared_error, mean_absolute_error, r2_score"
   ]
  },
  {
   "cell_type": "code",
   "execution_count": 2,
   "outputs": [],
   "source": [
    "pipeline = DataPreprocessor.DataPreprocessor()"
   ],
   "metadata": {
    "collapsed": false,
    "ExecuteTime": {
     "end_time": "2024-03-31T19:21:21.712993Z",
     "start_time": "2024-03-31T19:21:21.697377500Z"
    }
   },
   "id": "f68832936b52403e"
  },
  {
   "cell_type": "code",
   "execution_count": 3,
   "outputs": [],
   "source": [
    "X_transformed = pipeline.transform('DATA/IN/extract_gold_dvf.csv')"
   ],
   "metadata": {
    "collapsed": false,
    "ExecuteTime": {
     "end_time": "2024-03-31T19:21:28.978046100Z",
     "start_time": "2024-03-31T19:21:21.713991400Z"
    }
   },
   "id": "2f664f7b7beecc34"
  },
  {
   "cell_type": "code",
   "execution_count": 5,
   "outputs": [
    {
     "name": "stdout",
     "output_type": "stream",
     "text": [
      "{'Mean Squared Error': 12691063220.712524, 'Mean Absolute Error': 73280.5003430298, 'R-squared': 0.6922466927808169}\n"
     ]
    }
   ],
   "source": [
    "# Instanciation de la classe\n",
    "ml_processor = BaselineFiter.BaselineFiter()\n",
    "\n",
    "# Ajustement (encodage + entraînement)\n",
    "ml_processor.fit(X_transformed)\n",
    "\n",
    "# Évaluation sur l'ensemble de test\n",
    "metrics = ml_processor.evaluate()\n",
    "print(metrics)"
   ],
   "metadata": {
    "collapsed": false,
    "ExecuteTime": {
     "end_time": "2024-03-31T19:22:33.639016400Z",
     "start_time": "2024-03-31T19:21:28.995038800Z"
    }
   },
   "id": "1b0fde6932e31fca"
  }
 ],
 "metadata": {
  "kernelspec": {
   "display_name": "Python 3",
   "language": "python",
   "name": "python3"
  },
  "language_info": {
   "codemirror_mode": {
    "name": "ipython",
    "version": 2
   },
   "file_extension": ".py",
   "mimetype": "text/x-python",
   "name": "python",
   "nbconvert_exporter": "python",
   "pygments_lexer": "ipython2",
   "version": "2.7.6"
  }
 },
 "nbformat": 4,
 "nbformat_minor": 5
}
