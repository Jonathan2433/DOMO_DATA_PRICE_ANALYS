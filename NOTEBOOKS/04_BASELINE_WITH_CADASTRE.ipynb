{
 "cells": [
  {
   "cell_type": "markdown",
   "source": [
    "# IMPORT DES LIBRAIRIES"
   ],
   "metadata": {
    "collapsed": false
   },
   "id": "c7dfb25a3adb5a58"
  },
  {
   "cell_type": "code",
   "execution_count": 1,
   "id": "initial_id",
   "metadata": {
    "collapsed": true,
    "ExecuteTime": {
     "end_time": "2024-04-18T09:29:04.360190Z",
     "start_time": "2024-04-18T09:29:02.982259800Z"
    }
   },
   "outputs": [],
   "source": [
    "import pandas as pd\n",
    "import numpy as np\n",
    "from sklearn.preprocessing import RobustScaler\n",
    "from sklearn.model_selection import train_test_split\n",
    "from sklearn.preprocessing import OneHotEncoder\n",
    "from sklearn.ensemble import RandomForestRegressor\n",
    "from sklearn.metrics import mean_squared_error, mean_absolute_error, r2_score\n",
    "from sklearn.decomposition import PCA\n",
    "from sklearn.pipeline import make_pipeline"
   ]
  },
  {
   "cell_type": "markdown",
   "source": [
    "# OPTIONS PANDAS "
   ],
   "metadata": {
    "collapsed": false
   },
   "id": "e35f89db3e87f3e5"
  },
  {
   "cell_type": "code",
   "execution_count": 2,
   "outputs": [],
   "source": [
    "pd.options.display.float_format = '{:.0f}'.format"
   ],
   "metadata": {
    "collapsed": false,
    "ExecuteTime": {
     "end_time": "2024-04-18T09:29:04.376916Z",
     "start_time": "2024-04-18T09:29:04.362319400Z"
    }
   },
   "id": "fb6698c97cdd74ac"
  },
  {
   "cell_type": "markdown",
   "source": [
    "# OUVERTURE DE NOTRE DATASET"
   ],
   "metadata": {
    "collapsed": false
   },
   "id": "c6f9561c275b906d"
  },
  {
   "cell_type": "code",
   "execution_count": 3,
   "outputs": [
    {
     "name": "stderr",
     "output_type": "stream",
     "text": [
      "C:\\Users\\jonat\\AppData\\Local\\Temp\\ipykernel_15588\\197683011.py:1: DtypeWarning: Columns (15,17) have mixed types. Specify dtype option on import or set low_memory=False.\n",
      "  df = pd.read_csv('../DATA/OUT/dataset_hors_outliers_surfaces_and_piece.csv')\n"
     ]
    },
    {
     "data": {
      "text/plain": "   NoDisp DateMutation  ValeurFonciere  NoVoie  BTQ TypeVoie CodeVoie  \\\n0       1   2021-04-26          311650      16  NaN      RUE     0270   \n1       1   2021-04-26          122000      28  NaN      CRS     0840   \n2       1   2021-04-23          420612      47  NaN      RUE     0144   \n3       1   2021-04-19          167000       1  NaN      RUE     0030   \n4       1   2021-05-05          450000      11  NaN      ALL     1180   \n\n                   Voie     CP           Commune  ...  Year  Month  \\\n0  DE LA GRANGE DIMIERE  33850           LEOGNAN  ...  2021      4   \n1             DE VERDUN  33470     GUJAN MESTRAS  ...  2021      4   \n2       JEAN MARIE PELT  33380              MIOS  ...  2021      4   \n3          ARMAND DANEY  33470     GUJAN MESTRAS  ...  2021      4   \n4   FRERES DUPUY CAZAUX  33260  LA TESTE-DE-BUCH  ...  2021      5   \n\n   AvecTerrain  SurfaceBatiCat  SurfaceCarrez Localisation  ID PrixTerrainM2  \\\n0        False    (80.0, 90.0]             84   33238000AA   1             0   \n1        False   (0.999, 35.0]              0   33199000BO   2             0   \n2         True  (118.0, 144.0]              0   33284000CT   3           693   \n3        False    (47.0, 60.0]             49   33199000BO   4             0   \n4         True  (100.0, 118.0]              0   33529000CT   5           658   \n\n   PrixBatiM2  PrixCarrezM2  \n0        3710          3707  \n1        3588             0  \n2        3235             0  \n3        3408          3398  \n4        4286             0  \n\n[5 rows x 44 columns]",
      "text/html": "<div>\n<style scoped>\n    .dataframe tbody tr th:only-of-type {\n        vertical-align: middle;\n    }\n\n    .dataframe tbody tr th {\n        vertical-align: top;\n    }\n\n    .dataframe thead th {\n        text-align: right;\n    }\n</style>\n<table border=\"1\" class=\"dataframe\">\n  <thead>\n    <tr style=\"text-align: right;\">\n      <th></th>\n      <th>NoDisp</th>\n      <th>DateMutation</th>\n      <th>ValeurFonciere</th>\n      <th>NoVoie</th>\n      <th>BTQ</th>\n      <th>TypeVoie</th>\n      <th>CodeVoie</th>\n      <th>Voie</th>\n      <th>CP</th>\n      <th>Commune</th>\n      <th>...</th>\n      <th>Year</th>\n      <th>Month</th>\n      <th>AvecTerrain</th>\n      <th>SurfaceBatiCat</th>\n      <th>SurfaceCarrez</th>\n      <th>Localisation</th>\n      <th>ID</th>\n      <th>PrixTerrainM2</th>\n      <th>PrixBatiM2</th>\n      <th>PrixCarrezM2</th>\n    </tr>\n  </thead>\n  <tbody>\n    <tr>\n      <th>0</th>\n      <td>1</td>\n      <td>2021-04-26</td>\n      <td>311650</td>\n      <td>16</td>\n      <td>NaN</td>\n      <td>RUE</td>\n      <td>0270</td>\n      <td>DE LA GRANGE DIMIERE</td>\n      <td>33850</td>\n      <td>LEOGNAN</td>\n      <td>...</td>\n      <td>2021</td>\n      <td>4</td>\n      <td>False</td>\n      <td>(80.0, 90.0]</td>\n      <td>84</td>\n      <td>33238000AA</td>\n      <td>1</td>\n      <td>0</td>\n      <td>3710</td>\n      <td>3707</td>\n    </tr>\n    <tr>\n      <th>1</th>\n      <td>1</td>\n      <td>2021-04-26</td>\n      <td>122000</td>\n      <td>28</td>\n      <td>NaN</td>\n      <td>CRS</td>\n      <td>0840</td>\n      <td>DE VERDUN</td>\n      <td>33470</td>\n      <td>GUJAN MESTRAS</td>\n      <td>...</td>\n      <td>2021</td>\n      <td>4</td>\n      <td>False</td>\n      <td>(0.999, 35.0]</td>\n      <td>0</td>\n      <td>33199000BO</td>\n      <td>2</td>\n      <td>0</td>\n      <td>3588</td>\n      <td>0</td>\n    </tr>\n    <tr>\n      <th>2</th>\n      <td>1</td>\n      <td>2021-04-23</td>\n      <td>420612</td>\n      <td>47</td>\n      <td>NaN</td>\n      <td>RUE</td>\n      <td>0144</td>\n      <td>JEAN MARIE PELT</td>\n      <td>33380</td>\n      <td>MIOS</td>\n      <td>...</td>\n      <td>2021</td>\n      <td>4</td>\n      <td>True</td>\n      <td>(118.0, 144.0]</td>\n      <td>0</td>\n      <td>33284000CT</td>\n      <td>3</td>\n      <td>693</td>\n      <td>3235</td>\n      <td>0</td>\n    </tr>\n    <tr>\n      <th>3</th>\n      <td>1</td>\n      <td>2021-04-19</td>\n      <td>167000</td>\n      <td>1</td>\n      <td>NaN</td>\n      <td>RUE</td>\n      <td>0030</td>\n      <td>ARMAND DANEY</td>\n      <td>33470</td>\n      <td>GUJAN MESTRAS</td>\n      <td>...</td>\n      <td>2021</td>\n      <td>4</td>\n      <td>False</td>\n      <td>(47.0, 60.0]</td>\n      <td>49</td>\n      <td>33199000BO</td>\n      <td>4</td>\n      <td>0</td>\n      <td>3408</td>\n      <td>3398</td>\n    </tr>\n    <tr>\n      <th>4</th>\n      <td>1</td>\n      <td>2021-05-05</td>\n      <td>450000</td>\n      <td>11</td>\n      <td>NaN</td>\n      <td>ALL</td>\n      <td>1180</td>\n      <td>FRERES DUPUY CAZAUX</td>\n      <td>33260</td>\n      <td>LA TESTE-DE-BUCH</td>\n      <td>...</td>\n      <td>2021</td>\n      <td>5</td>\n      <td>True</td>\n      <td>(100.0, 118.0]</td>\n      <td>0</td>\n      <td>33529000CT</td>\n      <td>5</td>\n      <td>658</td>\n      <td>4286</td>\n      <td>0</td>\n    </tr>\n  </tbody>\n</table>\n<p>5 rows × 44 columns</p>\n</div>"
     },
     "execution_count": 3,
     "metadata": {},
     "output_type": "execute_result"
    }
   ],
   "source": [
    "df = pd.read_csv('../DATA/OUT/dataset_hors_outliers_surfaces_and_piece.csv')\n",
    "df.head()"
   ],
   "metadata": {
    "collapsed": false,
    "ExecuteTime": {
     "end_time": "2024-04-18T09:29:04.970173300Z",
     "start_time": "2024-04-18T09:29:04.378876900Z"
    }
   },
   "id": "f891b02072fc7ae6"
  },
  {
   "cell_type": "markdown",
   "source": [
    "# SUPPRESSION DES FEATURES NON ESSENTIELLES"
   ],
   "metadata": {
    "collapsed": false
   },
   "id": "6a26c3e7182eb97a"
  },
  {
   "cell_type": "code",
   "execution_count": 4,
   "outputs": [
    {
     "data": {
      "text/plain": "ValeurFonciere             0\nNombreLots                 0\nCodeTypeLocal              0\nSurfaceReelleBati          0\nNombrePiecesPrincipales    0\nSurfaceTerrain             0\nYear                       0\nSurfaceCarrez              0\nLocalisation               0\ndtype: int64"
     },
     "execution_count": 4,
     "metadata": {},
     "output_type": "execute_result"
    }
   ],
   "source": [
    "# Préparation de df_model en excluant les colonnes spécifiées dans votre code initial\n",
    "columns_to_drop = ['NoDisp', 'NoVoie', 'BTQ', 'TypeVoie', 'CodeVoie', 'Voie', 'CP', 'Commune',\n",
    "                   'CodeDepartement', 'CodeCommune', 'PrefixeSection', 'Section', 'NoPlan',\n",
    "                   'PremierLot', 'SurfaceCarrez1erLot', 'DeuxiemeLot', 'SurfaceCarrez2emeLot',\n",
    "                   'TroisiemeLot', 'SurfaceCarrez3emeLot', 'QuatriemeLot', 'SurfaceCarrez4emeLot',\n",
    "                   'CinquiemeLot', 'SurfaceCarrez5emeLot', 'NatureCulture', 'NatureCultureSpeciale',\n",
    "                   'slice', 'quarter', 'Month', 'DateMutation', 'SurfaceBatiCat', 'ID',\n",
    "                   'PrixTerrainM2', 'PrixBatiM2', 'PrixCarrezM2', 'AvecTerrain']\n",
    "\n",
    "# Créer df_model\n",
    "df_model = df.drop(columns=columns_to_drop)\n",
    "\n",
    "# Vérifier s'il reste des colonnes non numériques qui doivent être exclues ou traitées séparément\n",
    "df_model.select_dtypes(exclude=['number']).columns.tolist()\n",
    "\n",
    "df_model = df_model.dropna(subset=['ValeurFonciere', 'SurfaceReelleBati', 'Localisation'])\n",
    "df_model.isna().sum()"
   ],
   "metadata": {
    "collapsed": false,
    "ExecuteTime": {
     "end_time": "2024-04-18T09:31:45.043558800Z",
     "start_time": "2024-04-18T09:31:44.987169400Z"
    }
   },
   "id": "156b32678daedfc6"
  },
  {
   "cell_type": "code",
   "execution_count": 5,
   "outputs": [
    {
     "data": {
      "text/plain": "(147461, 9)"
     },
     "execution_count": 5,
     "metadata": {},
     "output_type": "execute_result"
    }
   ],
   "source": [
    "df_model.shape"
   ],
   "metadata": {
    "collapsed": false,
    "ExecuteTime": {
     "end_time": "2024-04-18T09:35:47.748249900Z",
     "start_time": "2024-04-18T09:35:47.730397200Z"
    }
   },
   "id": "78f69e5a962cbeef"
  },
  {
   "cell_type": "markdown",
   "source": [
    "# TRANSFORMATION DE LOCALISATION EN NUMERIQUE (ONE HOT ENCODER)"
   ],
   "metadata": {
    "collapsed": false
   },
   "id": "ea281012af850cb7"
  },
  {
   "cell_type": "code",
   "execution_count": 9,
   "outputs": [],
   "source": [
    "# Réinitialiser l'index pour s'assurer que l'alignement est conservé après la suppression des NaN\n",
    "df_model.reset_index(drop=True, inplace=True)\n",
    "\n",
    "# Préparer la colonne Localisation pour le One-Hot Encoding\n",
    "localisation = df_model[['Localisation']]\n",
    "\n",
    "# Instancier le OneHotEncoder\n",
    "encoder = OneHotEncoder(sparse_output=False)\n",
    "localisation_encoded = encoder.fit_transform(localisation)\n",
    "\n",
    "# Convertir les résultats encodés en DataFrame\n",
    "localisation_encoded_df = pd.DataFrame(localisation_encoded,\n",
    "                                       columns=encoder.get_feature_names_out(['Localisation']))\n",
    "\n",
    "# Réinitialiser l'index sur le DataFrame encodé pour garantir l'alignement lors de la fusion\n",
    "localisation_encoded_df.reset_index(drop=True, inplace=True)\n",
    "\n",
    "# Fusionner le DataFrame encodé avec le df original en s'assurant que les indices sont alignés\n",
    "df_model = pd.concat([df_model, localisation_encoded_df], axis=1)\n",
    "\n",
    "# Supprimer la colonne 'CP' originale\n",
    "df_model = df_model.drop(columns=['Localisation'])"
   ],
   "metadata": {
    "collapsed": false,
    "ExecuteTime": {
     "end_time": "2024-04-18T09:45:12.798886100Z",
     "start_time": "2024-04-18T09:44:57.336397100Z"
    }
   },
   "id": "c952788f011cbefd"
  },
  {
   "cell_type": "markdown",
   "source": [
    "# SEPARATION DU JEU DE DONNES"
   ],
   "metadata": {
    "collapsed": false
   },
   "id": "812b9736c84afd2e"
  },
  {
   "cell_type": "code",
   "execution_count": 11,
   "outputs": [],
   "source": [
    "# Séparation du jeu de données en X (caractéristiques) et y (cible)\n",
    "X, y = df_model.drop(columns=[\"ValeurFonciere\"]), df_model[\"ValeurFonciere\"]\n",
    "\n",
    "# Séparation en ensembles de train, de test, et de validation\n",
    "X_train, X_test, y_train, y_test = train_test_split(X, y, test_size=0.33, random_state=42)\n",
    "X_test, X_val, y_test, y_val = train_test_split(X_test, y_test, test_size=0.10, random_state=42)"
   ],
   "metadata": {
    "collapsed": false,
    "ExecuteTime": {
     "end_time": "2024-04-18T09:46:07.715956200Z",
     "start_time": "2024-04-18T09:45:58.123357600Z"
    }
   },
   "id": "6e88b4db33de5c31"
  },
  {
   "cell_type": "code",
   "execution_count": 12,
   "outputs": [
    {
     "name": "stdout",
     "output_type": "stream",
     "text": [
      "X_train : 98798, X_test : 43796, X_val : 4867\n"
     ]
    }
   ],
   "source": [
    "# Instancier le RobustScaler\n",
    "scaler = RobustScaler()\n",
    "\n",
    "# Sélectionner les colonnes numériques dans X_train pour l'application du RobustScaler\n",
    "num_cols = X_train.select_dtypes(include=['number']).columns\n",
    "\n",
    "# Appliquer le RobustScaler uniquement sur les colonnes numériques de l'ensemble d'entraînement\n",
    "X_train[num_cols] = scaler.fit_transform(X_train[num_cols])\n",
    "\n",
    "# Utiliser le scaler ajusté pour transformer les ensembles de test et de validation\n",
    "X_test[num_cols] = scaler.transform(X_test[num_cols])\n",
    "X_val[num_cols] = scaler.transform(X_val[num_cols])\n",
    "\n",
    "print(f'X_train : {X_train.shape[0]}, X_test : {X_test.shape[0]}, X_val : {X_val.shape[0]}')"
   ],
   "metadata": {
    "collapsed": false,
    "ExecuteTime": {
     "end_time": "2024-04-18T09:46:41.128977800Z",
     "start_time": "2024-04-18T09:46:17.372704Z"
    }
   },
   "id": "736c73aab8b32f64"
  },
  {
   "cell_type": "code",
   "execution_count": 13,
   "outputs": [],
   "source": [
    "# Étape 1: Instancier le modèle\n",
    "rf = RandomForestRegressor(n_estimators=100, random_state=42)"
   ],
   "metadata": {
    "collapsed": false,
    "ExecuteTime": {
     "end_time": "2024-04-18T09:46:43.711994100Z",
     "start_time": "2024-04-18T09:46:43.689285600Z"
    }
   },
   "id": "f038a6e27a8a06de"
  },
  {
   "cell_type": "code",
   "execution_count": 14,
   "outputs": [
    {
     "data": {
      "text/plain": "RandomForestRegressor(random_state=42)",
      "text/html": "<style>#sk-container-id-1 {\n  /* Definition of color scheme common for light and dark mode */\n  --sklearn-color-text: black;\n  --sklearn-color-line: gray;\n  /* Definition of color scheme for unfitted estimators */\n  --sklearn-color-unfitted-level-0: #fff5e6;\n  --sklearn-color-unfitted-level-1: #f6e4d2;\n  --sklearn-color-unfitted-level-2: #ffe0b3;\n  --sklearn-color-unfitted-level-3: chocolate;\n  /* Definition of color scheme for fitted estimators */\n  --sklearn-color-fitted-level-0: #f0f8ff;\n  --sklearn-color-fitted-level-1: #d4ebff;\n  --sklearn-color-fitted-level-2: #b3dbfd;\n  --sklearn-color-fitted-level-3: cornflowerblue;\n\n  /* Specific color for light theme */\n  --sklearn-color-text-on-default-background: var(--sg-text-color, var(--theme-code-foreground, var(--jp-content-font-color1, black)));\n  --sklearn-color-background: var(--sg-background-color, var(--theme-background, var(--jp-layout-color0, white)));\n  --sklearn-color-border-box: var(--sg-text-color, var(--theme-code-foreground, var(--jp-content-font-color1, black)));\n  --sklearn-color-icon: #696969;\n\n  @media (prefers-color-scheme: dark) {\n    /* Redefinition of color scheme for dark theme */\n    --sklearn-color-text-on-default-background: var(--sg-text-color, var(--theme-code-foreground, var(--jp-content-font-color1, white)));\n    --sklearn-color-background: var(--sg-background-color, var(--theme-background, var(--jp-layout-color0, #111)));\n    --sklearn-color-border-box: var(--sg-text-color, var(--theme-code-foreground, var(--jp-content-font-color1, white)));\n    --sklearn-color-icon: #878787;\n  }\n}\n\n#sk-container-id-1 {\n  color: var(--sklearn-color-text);\n}\n\n#sk-container-id-1 pre {\n  padding: 0;\n}\n\n#sk-container-id-1 input.sk-hidden--visually {\n  border: 0;\n  clip: rect(1px 1px 1px 1px);\n  clip: rect(1px, 1px, 1px, 1px);\n  height: 1px;\n  margin: -1px;\n  overflow: hidden;\n  padding: 0;\n  position: absolute;\n  width: 1px;\n}\n\n#sk-container-id-1 div.sk-dashed-wrapped {\n  border: 1px dashed var(--sklearn-color-line);\n  margin: 0 0.4em 0.5em 0.4em;\n  box-sizing: border-box;\n  padding-bottom: 0.4em;\n  background-color: var(--sklearn-color-background);\n}\n\n#sk-container-id-1 div.sk-container {\n  /* jupyter's `normalize.less` sets `[hidden] { display: none; }`\n     but bootstrap.min.css set `[hidden] { display: none !important; }`\n     so we also need the `!important` here to be able to override the\n     default hidden behavior on the sphinx rendered scikit-learn.org.\n     See: https://github.com/scikit-learn/scikit-learn/issues/21755 */\n  display: inline-block !important;\n  position: relative;\n}\n\n#sk-container-id-1 div.sk-text-repr-fallback {\n  display: none;\n}\n\ndiv.sk-parallel-item,\ndiv.sk-serial,\ndiv.sk-item {\n  /* draw centered vertical line to link estimators */\n  background-image: linear-gradient(var(--sklearn-color-text-on-default-background), var(--sklearn-color-text-on-default-background));\n  background-size: 2px 100%;\n  background-repeat: no-repeat;\n  background-position: center center;\n}\n\n/* Parallel-specific style estimator block */\n\n#sk-container-id-1 div.sk-parallel-item::after {\n  content: \"\";\n  width: 100%;\n  border-bottom: 2px solid var(--sklearn-color-text-on-default-background);\n  flex-grow: 1;\n}\n\n#sk-container-id-1 div.sk-parallel {\n  display: flex;\n  align-items: stretch;\n  justify-content: center;\n  background-color: var(--sklearn-color-background);\n  position: relative;\n}\n\n#sk-container-id-1 div.sk-parallel-item {\n  display: flex;\n  flex-direction: column;\n}\n\n#sk-container-id-1 div.sk-parallel-item:first-child::after {\n  align-self: flex-end;\n  width: 50%;\n}\n\n#sk-container-id-1 div.sk-parallel-item:last-child::after {\n  align-self: flex-start;\n  width: 50%;\n}\n\n#sk-container-id-1 div.sk-parallel-item:only-child::after {\n  width: 0;\n}\n\n/* Serial-specific style estimator block */\n\n#sk-container-id-1 div.sk-serial {\n  display: flex;\n  flex-direction: column;\n  align-items: center;\n  background-color: var(--sklearn-color-background);\n  padding-right: 1em;\n  padding-left: 1em;\n}\n\n\n/* Toggleable style: style used for estimator/Pipeline/ColumnTransformer box that is\nclickable and can be expanded/collapsed.\n- Pipeline and ColumnTransformer use this feature and define the default style\n- Estimators will overwrite some part of the style using the `sk-estimator` class\n*/\n\n/* Pipeline and ColumnTransformer style (default) */\n\n#sk-container-id-1 div.sk-toggleable {\n  /* Default theme specific background. It is overwritten whether we have a\n  specific estimator or a Pipeline/ColumnTransformer */\n  background-color: var(--sklearn-color-background);\n}\n\n/* Toggleable label */\n#sk-container-id-1 label.sk-toggleable__label {\n  cursor: pointer;\n  display: block;\n  width: 100%;\n  margin-bottom: 0;\n  padding: 0.5em;\n  box-sizing: border-box;\n  text-align: center;\n}\n\n#sk-container-id-1 label.sk-toggleable__label-arrow:before {\n  /* Arrow on the left of the label */\n  content: \"▸\";\n  float: left;\n  margin-right: 0.25em;\n  color: var(--sklearn-color-icon);\n}\n\n#sk-container-id-1 label.sk-toggleable__label-arrow:hover:before {\n  color: var(--sklearn-color-text);\n}\n\n/* Toggleable content - dropdown */\n\n#sk-container-id-1 div.sk-toggleable__content {\n  max-height: 0;\n  max-width: 0;\n  overflow: hidden;\n  text-align: left;\n  /* unfitted */\n  background-color: var(--sklearn-color-unfitted-level-0);\n}\n\n#sk-container-id-1 div.sk-toggleable__content.fitted {\n  /* fitted */\n  background-color: var(--sklearn-color-fitted-level-0);\n}\n\n#sk-container-id-1 div.sk-toggleable__content pre {\n  margin: 0.2em;\n  border-radius: 0.25em;\n  color: var(--sklearn-color-text);\n  /* unfitted */\n  background-color: var(--sklearn-color-unfitted-level-0);\n}\n\n#sk-container-id-1 div.sk-toggleable__content.fitted pre {\n  /* unfitted */\n  background-color: var(--sklearn-color-fitted-level-0);\n}\n\n#sk-container-id-1 input.sk-toggleable__control:checked~div.sk-toggleable__content {\n  /* Expand drop-down */\n  max-height: 200px;\n  max-width: 100%;\n  overflow: auto;\n}\n\n#sk-container-id-1 input.sk-toggleable__control:checked~label.sk-toggleable__label-arrow:before {\n  content: \"▾\";\n}\n\n/* Pipeline/ColumnTransformer-specific style */\n\n#sk-container-id-1 div.sk-label input.sk-toggleable__control:checked~label.sk-toggleable__label {\n  color: var(--sklearn-color-text);\n  background-color: var(--sklearn-color-unfitted-level-2);\n}\n\n#sk-container-id-1 div.sk-label.fitted input.sk-toggleable__control:checked~label.sk-toggleable__label {\n  background-color: var(--sklearn-color-fitted-level-2);\n}\n\n/* Estimator-specific style */\n\n/* Colorize estimator box */\n#sk-container-id-1 div.sk-estimator input.sk-toggleable__control:checked~label.sk-toggleable__label {\n  /* unfitted */\n  background-color: var(--sklearn-color-unfitted-level-2);\n}\n\n#sk-container-id-1 div.sk-estimator.fitted input.sk-toggleable__control:checked~label.sk-toggleable__label {\n  /* fitted */\n  background-color: var(--sklearn-color-fitted-level-2);\n}\n\n#sk-container-id-1 div.sk-label label.sk-toggleable__label,\n#sk-container-id-1 div.sk-label label {\n  /* The background is the default theme color */\n  color: var(--sklearn-color-text-on-default-background);\n}\n\n/* On hover, darken the color of the background */\n#sk-container-id-1 div.sk-label:hover label.sk-toggleable__label {\n  color: var(--sklearn-color-text);\n  background-color: var(--sklearn-color-unfitted-level-2);\n}\n\n/* Label box, darken color on hover, fitted */\n#sk-container-id-1 div.sk-label.fitted:hover label.sk-toggleable__label.fitted {\n  color: var(--sklearn-color-text);\n  background-color: var(--sklearn-color-fitted-level-2);\n}\n\n/* Estimator label */\n\n#sk-container-id-1 div.sk-label label {\n  font-family: monospace;\n  font-weight: bold;\n  display: inline-block;\n  line-height: 1.2em;\n}\n\n#sk-container-id-1 div.sk-label-container {\n  text-align: center;\n}\n\n/* Estimator-specific */\n#sk-container-id-1 div.sk-estimator {\n  font-family: monospace;\n  border: 1px dotted var(--sklearn-color-border-box);\n  border-radius: 0.25em;\n  box-sizing: border-box;\n  margin-bottom: 0.5em;\n  /* unfitted */\n  background-color: var(--sklearn-color-unfitted-level-0);\n}\n\n#sk-container-id-1 div.sk-estimator.fitted {\n  /* fitted */\n  background-color: var(--sklearn-color-fitted-level-0);\n}\n\n/* on hover */\n#sk-container-id-1 div.sk-estimator:hover {\n  /* unfitted */\n  background-color: var(--sklearn-color-unfitted-level-2);\n}\n\n#sk-container-id-1 div.sk-estimator.fitted:hover {\n  /* fitted */\n  background-color: var(--sklearn-color-fitted-level-2);\n}\n\n/* Specification for estimator info (e.g. \"i\" and \"?\") */\n\n/* Common style for \"i\" and \"?\" */\n\n.sk-estimator-doc-link,\na:link.sk-estimator-doc-link,\na:visited.sk-estimator-doc-link {\n  float: right;\n  font-size: smaller;\n  line-height: 1em;\n  font-family: monospace;\n  background-color: var(--sklearn-color-background);\n  border-radius: 1em;\n  height: 1em;\n  width: 1em;\n  text-decoration: none !important;\n  margin-left: 1ex;\n  /* unfitted */\n  border: var(--sklearn-color-unfitted-level-1) 1pt solid;\n  color: var(--sklearn-color-unfitted-level-1);\n}\n\n.sk-estimator-doc-link.fitted,\na:link.sk-estimator-doc-link.fitted,\na:visited.sk-estimator-doc-link.fitted {\n  /* fitted */\n  border: var(--sklearn-color-fitted-level-1) 1pt solid;\n  color: var(--sklearn-color-fitted-level-1);\n}\n\n/* On hover */\ndiv.sk-estimator:hover .sk-estimator-doc-link:hover,\n.sk-estimator-doc-link:hover,\ndiv.sk-label-container:hover .sk-estimator-doc-link:hover,\n.sk-estimator-doc-link:hover {\n  /* unfitted */\n  background-color: var(--sklearn-color-unfitted-level-3);\n  color: var(--sklearn-color-background);\n  text-decoration: none;\n}\n\ndiv.sk-estimator.fitted:hover .sk-estimator-doc-link.fitted:hover,\n.sk-estimator-doc-link.fitted:hover,\ndiv.sk-label-container:hover .sk-estimator-doc-link.fitted:hover,\n.sk-estimator-doc-link.fitted:hover {\n  /* fitted */\n  background-color: var(--sklearn-color-fitted-level-3);\n  color: var(--sklearn-color-background);\n  text-decoration: none;\n}\n\n/* Span, style for the box shown on hovering the info icon */\n.sk-estimator-doc-link span {\n  display: none;\n  z-index: 9999;\n  position: relative;\n  font-weight: normal;\n  right: .2ex;\n  padding: .5ex;\n  margin: .5ex;\n  width: min-content;\n  min-width: 20ex;\n  max-width: 50ex;\n  color: var(--sklearn-color-text);\n  box-shadow: 2pt 2pt 4pt #999;\n  /* unfitted */\n  background: var(--sklearn-color-unfitted-level-0);\n  border: .5pt solid var(--sklearn-color-unfitted-level-3);\n}\n\n.sk-estimator-doc-link.fitted span {\n  /* fitted */\n  background: var(--sklearn-color-fitted-level-0);\n  border: var(--sklearn-color-fitted-level-3);\n}\n\n.sk-estimator-doc-link:hover span {\n  display: block;\n}\n\n/* \"?\"-specific style due to the `<a>` HTML tag */\n\n#sk-container-id-1 a.estimator_doc_link {\n  float: right;\n  font-size: 1rem;\n  line-height: 1em;\n  font-family: monospace;\n  background-color: var(--sklearn-color-background);\n  border-radius: 1rem;\n  height: 1rem;\n  width: 1rem;\n  text-decoration: none;\n  /* unfitted */\n  color: var(--sklearn-color-unfitted-level-1);\n  border: var(--sklearn-color-unfitted-level-1) 1pt solid;\n}\n\n#sk-container-id-1 a.estimator_doc_link.fitted {\n  /* fitted */\n  border: var(--sklearn-color-fitted-level-1) 1pt solid;\n  color: var(--sklearn-color-fitted-level-1);\n}\n\n/* On hover */\n#sk-container-id-1 a.estimator_doc_link:hover {\n  /* unfitted */\n  background-color: var(--sklearn-color-unfitted-level-3);\n  color: var(--sklearn-color-background);\n  text-decoration: none;\n}\n\n#sk-container-id-1 a.estimator_doc_link.fitted:hover {\n  /* fitted */\n  background-color: var(--sklearn-color-fitted-level-3);\n}\n</style><div id=\"sk-container-id-1\" class=\"sk-top-container\"><div class=\"sk-text-repr-fallback\"><pre>RandomForestRegressor(random_state=42)</pre><b>In a Jupyter environment, please rerun this cell to show the HTML representation or trust the notebook. <br />On GitHub, the HTML representation is unable to render, please try loading this page with nbviewer.org.</b></div><div class=\"sk-container\" hidden><div class=\"sk-item\"><div class=\"sk-estimator fitted sk-toggleable\"><input class=\"sk-toggleable__control sk-hidden--visually\" id=\"sk-estimator-id-1\" type=\"checkbox\" checked><label for=\"sk-estimator-id-1\" class=\"sk-toggleable__label fitted sk-toggleable__label-arrow fitted\">&nbsp;&nbsp;RandomForestRegressor<a class=\"sk-estimator-doc-link fitted\" rel=\"noreferrer\" target=\"_blank\" href=\"https://scikit-learn.org/1.4/modules/generated/sklearn.ensemble.RandomForestRegressor.html\">?<span>Documentation for RandomForestRegressor</span></a><span class=\"sk-estimator-doc-link fitted\">i<span>Fitted</span></span></label><div class=\"sk-toggleable__content fitted\"><pre>RandomForestRegressor(random_state=42)</pre></div> </div></div></div></div>"
     },
     "execution_count": 14,
     "metadata": {},
     "output_type": "execute_result"
    }
   ],
   "source": [
    "# Étape 2: Entraîner le modèle\n",
    "rf.fit(X_train, y_train)"
   ],
   "metadata": {
    "collapsed": false,
    "ExecuteTime": {
     "end_time": "2024-04-18T10:27:36.763611700Z",
     "start_time": "2024-04-18T09:46:51.030217Z"
    }
   },
   "id": "197bc37e76249fb4"
  },
  {
   "cell_type": "code",
   "execution_count": 15,
   "outputs": [],
   "source": [
    "# Étape 3: Faire des prédictions sur l'ensemble de test\n",
    "y_pred = rf.predict(X_test)"
   ],
   "metadata": {
    "collapsed": false,
    "ExecuteTime": {
     "end_time": "2024-04-18T11:21:05.666897600Z",
     "start_time": "2024-04-18T11:21:00.177567600Z"
    }
   },
   "id": "aad45fa2bdad4ebf"
  },
  {
   "cell_type": "code",
   "execution_count": 16,
   "outputs": [
    {
     "name": "stdout",
     "output_type": "stream",
     "text": [
      "Mean Squared Error: 16266102786.646383\n",
      "Mean Absolute Error: 82415.63284752515\n",
      "R-squared: 50 % du prix est expliquer par nos features actuelles\n"
     ]
    }
   ],
   "source": [
    "# Étape 4: Évaluer les performances\n",
    "mse = mean_squared_error(y_test, y_pred)\n",
    "mae = mean_absolute_error(y_test, y_pred)\n",
    "r2 = r2_score(y_test, y_pred)\n",
    "\n",
    "print(f\"Mean Squared Error: {mse}\")\n",
    "print(f\"Mean Absolute Error: {mae}\")\n",
    "print(f\"R-squared: {round(r2*100)} % du prix est expliquer par nos features actuelles\")"
   ],
   "metadata": {
    "collapsed": false,
    "ExecuteTime": {
     "end_time": "2024-04-18T11:21:06.890082100Z",
     "start_time": "2024-04-18T11:21:06.837342500Z"
    }
   },
   "id": "9e62c7dc9c26c21c"
  }
 ],
 "metadata": {
  "kernelspec": {
   "display_name": "Python 3",
   "language": "python",
   "name": "python3"
  },
  "language_info": {
   "codemirror_mode": {
    "name": "ipython",
    "version": 2
   },
   "file_extension": ".py",
   "mimetype": "text/x-python",
   "name": "python",
   "nbconvert_exporter": "python",
   "pygments_lexer": "ipython2",
   "version": "2.7.6"
  }
 },
 "nbformat": 4,
 "nbformat_minor": 5
}
