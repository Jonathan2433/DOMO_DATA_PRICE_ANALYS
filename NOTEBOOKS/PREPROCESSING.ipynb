{
 "cells": [
  {
   "cell_type": "markdown",
   "source": [
    "# IMPORT DES LIBRAIRIES"
   ],
   "metadata": {
    "collapsed": false
   },
   "id": "c7dfb25a3adb5a58"
  },
  {
   "cell_type": "code",
   "execution_count": 9,
   "id": "initial_id",
   "metadata": {
    "collapsed": true,
    "ExecuteTime": {
     "end_time": "2024-03-29T19:51:00.418887600Z",
     "start_time": "2024-03-29T19:51:00.405791900Z"
    }
   },
   "outputs": [],
   "source": [
    "import pandas as pd\n",
    "import numpy as np"
   ]
  },
  {
   "cell_type": "markdown",
   "source": [
    "# OPTIONS PANDAS "
   ],
   "metadata": {
    "collapsed": false
   },
   "id": "e35f89db3e87f3e5"
  },
  {
   "cell_type": "code",
   "execution_count": 10,
   "outputs": [],
   "source": [
    "pd.options.display.float_format = '{:.0f}'.format"
   ],
   "metadata": {
    "collapsed": false,
    "ExecuteTime": {
     "end_time": "2024-03-29T19:51:01.527608800Z",
     "start_time": "2024-03-29T19:51:01.517511900Z"
    }
   },
   "id": "fb6698c97cdd74ac"
  },
  {
   "cell_type": "markdown",
   "source": [
    "# OUVERTURE DE NOTRE DATASET"
   ],
   "metadata": {
    "collapsed": false
   },
   "id": "c6f9561c275b906d"
  },
  {
   "cell_type": "code",
   "execution_count": 11,
   "outputs": [
    {
     "name": "stderr",
     "output_type": "stream",
     "text": [
      "C:\\Users\\jonat\\AppData\\Local\\Temp\\ipykernel_30704\\249013501.py:1: DtypeWarning: Columns (15,17,24) have mixed types. Specify dtype option on import or set low_memory=False.\n",
      "  df = pd.read_csv('../DATA/IN/extract_gold_dvf.csv', sep=';')\n"
     ]
    },
    {
     "data": {
      "text/plain": "   NoDisp DateMutation ValeurFonciere  NoVoie  BTQ TypeVoie CodeVoie  \\\n0       1   2021-04-26         311650      16  NaN      RUE     0270   \n1       1   2021-04-26         122000      28  NaN      CRS     0840   \n2       1   2021-04-23         420612      47  NaN      RUE     0144   \n3       1   2021-04-19         167000       1  NaN      RUE     0030   \n4       1   2021-05-05         450000      11  NaN      ALL     1180   \n\n                   Voie     CP           Commune  ...  SurfaceCarrez4emeLot  \\\n0  DE LA GRANGE DIMIERE  33850           LEOGNAN  ...                   NaN   \n1             DE VERDUN  33470     GUJAN MESTRAS  ...                   NaN   \n2       JEAN MARIE PELT  33380              MIOS  ...                   NaN   \n3          ARMAND DANEY  33470     GUJAN MESTRAS  ...                   NaN   \n4   FRERES DUPUY CAZAUX  33260  LA TESTE-DE-BUCH  ...                   NaN   \n\n   CinquiemeLot  SurfaceCarrez5emeLot NombreLots  CodeTypeLocal  \\\n0           NaN                   NaN          1              1   \n1           NaN                   NaN          1              1   \n2           NaN                   NaN          0              1   \n3           NaN                   NaN          2              2   \n4           NaN                   NaN          0              1   \n\n  SurfaceReelleBati NombrePiecesPrincipales NatureCulture  \\\n0                84                       4           NaN   \n1                34                       2           NaN   \n2               130                       4             S   \n3                49                       2           NaN   \n4               105                       4             S   \n\n  NatureCultureSpeciale  SurfaceTerrain  \n0                   NaN             NaN  \n1                   NaN             NaN  \n2                   NaN             607  \n3                   NaN             NaN  \n4                   NaN             684  \n\n[5 rows x 32 columns]",
      "text/html": "<div>\n<style scoped>\n    .dataframe tbody tr th:only-of-type {\n        vertical-align: middle;\n    }\n\n    .dataframe tbody tr th {\n        vertical-align: top;\n    }\n\n    .dataframe thead th {\n        text-align: right;\n    }\n</style>\n<table border=\"1\" class=\"dataframe\">\n  <thead>\n    <tr style=\"text-align: right;\">\n      <th></th>\n      <th>NoDisp</th>\n      <th>DateMutation</th>\n      <th>ValeurFonciere</th>\n      <th>NoVoie</th>\n      <th>BTQ</th>\n      <th>TypeVoie</th>\n      <th>CodeVoie</th>\n      <th>Voie</th>\n      <th>CP</th>\n      <th>Commune</th>\n      <th>...</th>\n      <th>SurfaceCarrez4emeLot</th>\n      <th>CinquiemeLot</th>\n      <th>SurfaceCarrez5emeLot</th>\n      <th>NombreLots</th>\n      <th>CodeTypeLocal</th>\n      <th>SurfaceReelleBati</th>\n      <th>NombrePiecesPrincipales</th>\n      <th>NatureCulture</th>\n      <th>NatureCultureSpeciale</th>\n      <th>SurfaceTerrain</th>\n    </tr>\n  </thead>\n  <tbody>\n    <tr>\n      <th>0</th>\n      <td>1</td>\n      <td>2021-04-26</td>\n      <td>311650</td>\n      <td>16</td>\n      <td>NaN</td>\n      <td>RUE</td>\n      <td>0270</td>\n      <td>DE LA GRANGE DIMIERE</td>\n      <td>33850</td>\n      <td>LEOGNAN</td>\n      <td>...</td>\n      <td>NaN</td>\n      <td>NaN</td>\n      <td>NaN</td>\n      <td>1</td>\n      <td>1</td>\n      <td>84</td>\n      <td>4</td>\n      <td>NaN</td>\n      <td>NaN</td>\n      <td>NaN</td>\n    </tr>\n    <tr>\n      <th>1</th>\n      <td>1</td>\n      <td>2021-04-26</td>\n      <td>122000</td>\n      <td>28</td>\n      <td>NaN</td>\n      <td>CRS</td>\n      <td>0840</td>\n      <td>DE VERDUN</td>\n      <td>33470</td>\n      <td>GUJAN MESTRAS</td>\n      <td>...</td>\n      <td>NaN</td>\n      <td>NaN</td>\n      <td>NaN</td>\n      <td>1</td>\n      <td>1</td>\n      <td>34</td>\n      <td>2</td>\n      <td>NaN</td>\n      <td>NaN</td>\n      <td>NaN</td>\n    </tr>\n    <tr>\n      <th>2</th>\n      <td>1</td>\n      <td>2021-04-23</td>\n      <td>420612</td>\n      <td>47</td>\n      <td>NaN</td>\n      <td>RUE</td>\n      <td>0144</td>\n      <td>JEAN MARIE PELT</td>\n      <td>33380</td>\n      <td>MIOS</td>\n      <td>...</td>\n      <td>NaN</td>\n      <td>NaN</td>\n      <td>NaN</td>\n      <td>0</td>\n      <td>1</td>\n      <td>130</td>\n      <td>4</td>\n      <td>S</td>\n      <td>NaN</td>\n      <td>607</td>\n    </tr>\n    <tr>\n      <th>3</th>\n      <td>1</td>\n      <td>2021-04-19</td>\n      <td>167000</td>\n      <td>1</td>\n      <td>NaN</td>\n      <td>RUE</td>\n      <td>0030</td>\n      <td>ARMAND DANEY</td>\n      <td>33470</td>\n      <td>GUJAN MESTRAS</td>\n      <td>...</td>\n      <td>NaN</td>\n      <td>NaN</td>\n      <td>NaN</td>\n      <td>2</td>\n      <td>2</td>\n      <td>49</td>\n      <td>2</td>\n      <td>NaN</td>\n      <td>NaN</td>\n      <td>NaN</td>\n    </tr>\n    <tr>\n      <th>4</th>\n      <td>1</td>\n      <td>2021-05-05</td>\n      <td>450000</td>\n      <td>11</td>\n      <td>NaN</td>\n      <td>ALL</td>\n      <td>1180</td>\n      <td>FRERES DUPUY CAZAUX</td>\n      <td>33260</td>\n      <td>LA TESTE-DE-BUCH</td>\n      <td>...</td>\n      <td>NaN</td>\n      <td>NaN</td>\n      <td>NaN</td>\n      <td>0</td>\n      <td>1</td>\n      <td>105</td>\n      <td>4</td>\n      <td>S</td>\n      <td>NaN</td>\n      <td>684</td>\n    </tr>\n  </tbody>\n</table>\n<p>5 rows × 32 columns</p>\n</div>"
     },
     "execution_count": 11,
     "metadata": {},
     "output_type": "execute_result"
    }
   ],
   "source": [
    "df = pd.read_csv('../DATA/IN/extract_gold_dvf.csv', sep=';')\n",
    "df.head()"
   ],
   "metadata": {
    "collapsed": false,
    "ExecuteTime": {
     "end_time": "2024-03-29T19:51:03.126439800Z",
     "start_time": "2024-03-29T19:51:02.660251500Z"
    }
   },
   "id": "f891b02072fc7ae6"
  },
  {
   "cell_type": "code",
   "execution_count": 12,
   "outputs": [
    {
     "name": "stderr",
     "output_type": "stream",
     "text": [
      "C:\\Users\\jonat\\AppData\\Local\\Temp\\ipykernel_30704\\3730214780.py:1: DtypeWarning: Columns (15,17,24) have mixed types. Specify dtype option on import or set low_memory=False.\n",
      "  df = pd.read_csv('../DATA/IN/extract_gold_dvf.csv', sep=';')\n",
      "C:\\Users\\jonat\\AppData\\Local\\Temp\\ipykernel_30704\\3730214780.py:58: SettingWithCopyWarning: \n",
      "A value is trying to be set on a copy of a slice from a DataFrame.\n",
      "Try using .loc[row_indexer,col_indexer] = value instead\n",
      "\n",
      "See the caveats in the documentation: https://pandas.pydata.org/pandas-docs/stable/user_guide/indexing.html#returning-a-view-versus-a-copy\n",
      "  bien_avec_terrain['PrixTerrainM2'] = bien_avec_terrain['ValeurFonciere'] / bien_avec_terrain['SurfaceTerrain']\n",
      "C:\\Users\\jonat\\AppData\\Local\\Temp\\ipykernel_30704\\3730214780.py:61: SettingWithCopyWarning: \n",
      "A value is trying to be set on a copy of a slice from a DataFrame\n",
      "\n",
      "See the caveats in the documentation: https://pandas.pydata.org/pandas-docs/stable/user_guide/indexing.html#returning-a-view-versus-a-copy\n",
      "  bien_avec_terrain['PrixTerrainM2'].replace(np.inf, 0, inplace=True)\n",
      "C:\\Users\\jonat\\AppData\\Local\\Temp\\ipykernel_30704\\3730214780.py:101: SettingWithCopyWarning: \n",
      "A value is trying to be set on a copy of a slice from a DataFrame.\n",
      "Try using .loc[row_indexer,col_indexer] = value instead\n",
      "\n",
      "See the caveats in the documentation: https://pandas.pydata.org/pandas-docs/stable/user_guide/indexing.html#returning-a-view-versus-a-copy\n",
      "  bien_avec_carrez['PrixCarrezM2'] = bien_avec_carrez['ValeurFonciere'] / bien_avec_carrez['SurfaceCarrez']\n",
      "C:\\Users\\jonat\\AppData\\Local\\Temp\\ipykernel_30704\\3730214780.py:104: SettingWithCopyWarning: \n",
      "A value is trying to be set on a copy of a slice from a DataFrame\n",
      "\n",
      "See the caveats in the documentation: https://pandas.pydata.org/pandas-docs/stable/user_guide/indexing.html#returning-a-view-versus-a-copy\n",
      "  bien_avec_carrez['PrixCarrezM2'].replace(np.inf, 0, inplace=True)\n"
     ]
    }
   ],
   "source": [
    "# df = pd.read_csv('../DATA/IN/extract_gold_dvf.csv', sep=';')\n",
    "# \n",
    "# # Ajout d'une colonne ID qui sera un identifiant unique pour chaque ligne (commençant à 1)\n",
    "# df['ID'] = range(1, len(df) + 1)\n",
    "# \n",
    "# # Vérification de l'ajout de la colonne ID\n",
    "# df[['ID'] + df.columns.tolist()[:-1]].head()\n",
    "\n",
    "# # Modification of ValeurFonciere\n",
    "# df['ValeurFonciere'] = df['ValeurFonciere'].str.replace(',', '.').astype(float)\n",
    "# \n",
    "# # Modification of SurfaceCarrez\n",
    "# df['SurfaceCarrez1erLot'] = df['SurfaceCarrez1erLot'].str.replace(',', '.').astype(float)\n",
    "# df['SurfaceCarrez2emeLot'] = df['SurfaceCarrez2emeLot'].str.replace(',', '.').astype(float)\n",
    "# df['SurfaceCarrez3emeLot'] = df['SurfaceCarrez3emeLot'].str.replace(',', '.').astype(float)\n",
    "# df['SurfaceCarrez4emeLot'] = df['SurfaceCarrez4emeLot'].str.replace(',', '.').astype(float)\n",
    "# df['SurfaceCarrez5emeLot'] = df['SurfaceCarrez5emeLot'].str.replace(',', '.').astype(float)\n",
    "\n",
    "# Modification of NoVoie and SurfaceTerrain and& SurfaceCarrez\n",
    "# \n",
    "# #Transform NA values to 0\n",
    "# df['NoVoie'] = df['NoVoie'].fillna(0)\n",
    "# df['SurfaceTerrain'] = df['SurfaceTerrain'].fillna(0)\n",
    "# \n",
    "# df['SurfaceCarrez1erLot'] = df['SurfaceCarrez1erLot'].fillna(0)\n",
    "# df['SurfaceCarrez2emeLot'] = df['SurfaceCarrez2emeLot'].fillna(0)\n",
    "# df['SurfaceCarrez3emeLot'] = df['SurfaceCarrez3emeLot'].fillna(0)\n",
    "# df['SurfaceCarrez4emeLot'] = df['SurfaceCarrez4emeLot'].fillna(0)\n",
    "# df['SurfaceCarrez5emeLot'] = df['SurfaceCarrez5emeLot'].fillna(0)\n",
    "\n",
    "# # Modification of NoVoie type\n",
    "# df['NoVoie'] = df['NoVoie'].astype(int)\n",
    "\n",
    "                                                # Modification of non numeric values of NombrePiecesPrincipales \n",
    "                                                df['NombrePiecesPrincipales'] = (\n",
    "                                                    pd.to_numeric(df['NombrePiecesPrincipales'],\n",
    "                                                                  errors='coerce')\n",
    "                                                    .fillna(0)\n",
    "                                                )\n",
    "\n",
    "# Modification of NombrePiecesPrincipales type\n",
    "# # df['NombrePiecesPrincipales'] = df['NombrePiecesPrincipales'].astype(int)\n",
    "# \n",
    "# # Convertir la colonne 'DateMutation' en datetime si ce n'est pas déjà fait\n",
    "# df['DateMutation'] = pd.to_datetime(df['DateMutation'])\n",
    "# \n",
    "# # Extraire l'année \n",
    "# df['Year'] = df['DateMutation'].dt.year\n",
    "\n",
    "# Calcul de la surface carrez totale\n",
    "# df['SurfaceCarrez'] = df['SurfaceCarrez1erLot'] + df['SurfaceCarrez2emeLot'] + df['SurfaceCarrez3emeLot'] + df['SurfaceCarrez4emeLot'] + df['SurfaceCarrez5emeLot']\n",
    "\n",
    "################################################################################OUTLIERS################################################################################\n",
    "# ISOLER LES BIENS AVEC TERRAINS\n",
    "bien_avec_terrain = df.loc[(df['SurfaceTerrain'] > 0)]\n",
    "\n",
    "df['PrixTerrainM2'] = df['ValeurFonciere'] / df['SurfaceTerrain']\n",
    "bien_avec_terrain['PrixTerrainM2'] = bien_avec_terrain['ValeurFonciere'] / bien_avec_terrain['SurfaceTerrain']\n",
    "# Remplacez les valeurs infinies par zéro.\n",
    "df['PrixTerrainM2'].replace(np.inf, 0, inplace=True)\n",
    "bien_avec_terrain['PrixTerrainM2'].replace(np.inf, 0, inplace=True)\n",
    "\n",
    "# CALCUL DE NOTRE PREMIER QUARTILE\n",
    "q1_prix_terrain = bien_avec_terrain['PrixTerrainM2'].quantile([.25])\n",
    "q1_prix_terrain = q1_prix_terrain[0.25]\n",
    "q3_prix_terrain = bien_avec_terrain['PrixTerrainM2'].quantile([.75])\n",
    "q3_prix_terrain = q3_prix_terrain[0.75]\n",
    "\n",
    "# CALCUL DE NOTRE ECART INTER QUARTILES\n",
    "iqr_prix_terrain = q3_prix_terrain - q1_prix_terrain\n",
    "\n",
    "\n",
    "\n",
    "outliers_prix_terrain_m2_inferieur = q1_prix_terrain - (1.5 * iqr_prix_terrain)\n",
    "outliers_prix_terrain_m2_superieur = q3_prix_terrain + (1.5 * iqr_prix_terrain)\n",
    "\n",
    "\n",
    "\n",
    "outliers_surface_terrain = df.loc[(df['PrixTerrainM2'] > outliers_prix_terrain_m2_superieur) | (df['PrixTerrainM2'] < outliers_prix_terrain_m2_inferieur)]\n",
    "\n",
    "df['PrixBatiM2'] = df['ValeurFonciere'] / df['SurfaceReelleBati']\n",
    "\n",
    "# CALCUL DE NOTRE PREMIER QUARTILE\n",
    "q1_prix_bati = df['PrixBatiM2'].quantile([.25])\n",
    "q1_prix_bati = q1_prix_bati[0.25]\n",
    "q3_prix_bati = df['PrixBatiM2'].quantile([.75])\n",
    "q3_prix_bati = q3_prix_bati[0.75]\n",
    "\n",
    "# CALCUL DE NOTRE ECART INTER QUARTILES\n",
    "iqr_prix_bati = q3_prix_bati - q1_prix_bati\n",
    "\n",
    "outliers_prix_bati_m2_inferieur = q1_prix_bati - (1.5 * iqr_prix_bati)\n",
    "outliers_prix_bati_m2_superieur = q3_prix_bati + (1.5 * iqr_prix_bati)\n",
    "\n",
    "outliers_surface_bati = df.loc[(df['PrixBatiM2'] > outliers_prix_bati_m2_superieur) | (df['PrixBatiM2'] < outliers_prix_bati_m2_inferieur)]\n",
    "\n",
    "# ISOLER LES BIENS AVEC UNE SURFACE CARREZ\n",
    "bien_avec_carrez = df.loc[(df['SurfaceCarrez'] > 0)]\n",
    "\n",
    "df['PrixCarrezM2'] = df['ValeurFonciere'] / df['SurfaceCarrez']\n",
    "bien_avec_carrez['PrixCarrezM2'] = bien_avec_carrez['ValeurFonciere'] / bien_avec_carrez['SurfaceCarrez']\n",
    "# Remplacez les valeurs infinies par zéro.\n",
    "df['PrixCarrezM2'].replace(np.inf, 0, inplace=True)\n",
    "bien_avec_carrez['PrixCarrezM2'].replace(np.inf, 0, inplace=True)\n",
    "\n",
    "# CALCUL DE NOTRE PREMIER QUARTILE\n",
    "q1_prix_carrez = bien_avec_carrez['PrixCarrezM2'].quantile([.25])\n",
    "q1_prix_carrez = q1_prix_carrez[0.25]\n",
    "q3_prix_carrez = bien_avec_carrez['PrixCarrezM2'].quantile([.75])\n",
    "q3_prix_carrez = q3_prix_carrez[0.75]\n",
    "\n",
    "# CALCUL DE NOTRE ECART INTER QUARTILES\n",
    "iqr_prix_carrez = q3_prix_carrez - q1_prix_carrez\n",
    "\n",
    "outliers_prix_carrez_m2_inferieur = q1_prix_carrez - (1.5 * iqr_prix_carrez)\n",
    "outliers_prix_carrez_m2_superieur = q3_prix_carrez + (1.5 * iqr_prix_carrez)\n",
    "\n",
    "outliers_surface_carrez = df.loc[(df['PrixCarrezM2'] > outliers_prix_carrez_m2_superieur) | (df['PrixCarrezM2'] < outliers_prix_carrez_m2_inferieur)]\n",
    "\n",
    "# Concaténation des ID des outliers\n",
    "ids_outliers = pd.concat([outliers_surface_bati['ID'], outliers_surface_terrain['ID'], outliers_surface_carrez['ID']])\n",
    "\n",
    "# Suppression des duplicatas\n",
    "ids_outliers = ids_outliers.drop_duplicates()\n",
    "\n",
    "# Filtrage de df pour exclure les outliers\n",
    "df_clean = df[~df['ID'].isin(ids_outliers)]\n",
    "\n",
    "# CALCUL DE NOTRE PREMIER QUARTILE\n",
    "q1_nb_piece = df['NombrePiecesPrincipales'].quantile([.25])\n",
    "q1_nb_piece = q1_nb_piece[0.25]\n",
    "q3_nb_piece = df['NombrePiecesPrincipales'].quantile([.75])\n",
    "q3_nb_piece = q3_nb_piece[0.75]\n",
    "\n",
    "# CALCUL DE NOTRE ECART INTER QUARTILES\n",
    "iqr_nb_piece = q3_nb_piece - q1_nb_piece\n",
    "\n",
    "outliers_nb_pieces_inferieur = q1_nb_piece - (1.5 * iqr_nb_piece)\n",
    "outliers_nb_pieces_superieur = q3_nb_piece + (1.5 * iqr_nb_piece)\n",
    "\n",
    "outliers_nb_pieces = df.loc[(df['NombrePiecesPrincipales'] > outliers_nb_pieces_superieur) | (df['NombrePiecesPrincipales'] < outliers_nb_pieces_inferieur)]\n",
    "\n",
    "# Concaténation des ID des outliers\n",
    "ids_outliers = pd.concat([outliers_surface_bati['ID'], outliers_surface_terrain['ID'], outliers_surface_carrez['ID'], outliers_nb_pieces['ID']])\n",
    "\n",
    "# Suppression des duplicatas\n",
    "ids_outliers = ids_outliers.drop_duplicates()\n",
    "\n",
    "# Filtrage de df pour exclure les outliers\n",
    "df_clean_with_nb_piece = df[~df['ID'].isin(ids_outliers)]\n",
    "\n",
    "################################################################################FIN OUTLIERS################################################################################\n",
    "\n",
    "# Préparation de df_model en excluant les colonnes spécifiées dans votre code initial\n",
    "columns_to_drop = ['NoDisp', 'NoVoie', 'BTQ', 'TypeVoie', 'CodeVoie', 'Voie', 'Commune',\n",
    "                   'CodeDepartement', 'CodeCommune', 'PrefixeSection', 'Section', 'NoPlan',\n",
    "                   'PremierLot', 'SurfaceCarrez1erLot', 'DeuxiemeLot', 'SurfaceCarrez2emeLot',\n",
    "                   'TroisiemeLot', 'SurfaceCarrez3emeLot', 'QuatriemeLot', 'SurfaceCarrez4emeLot',\n",
    "                   'CinquiemeLot', 'SurfaceCarrez5emeLot', 'NatureCulture', 'NatureCultureSpeciale',\n",
    "                   'DateMutation', 'ID', 'PrixTerrainM2', 'PrixBatiM2', 'PrixCarrezM2']\n",
    "0,\n",
    "# Créer df_model\n",
    "df_model = df_clean_with_nb_piece.drop(columns=columns_to_drop)\n",
    "\n",
    "df_model = df_model.dropna(subset=['ValeurFonciere', 'SurfaceReelleBati', 'CP'])\n",
    "\n",
    "# Réinitialiser l'index pour s'assurer que l'alignement est conservé après la suppression des NaN\n",
    "df_model.reset_index(drop=True, inplace=True)"
   ],
   "metadata": {
    "collapsed": false,
    "ExecuteTime": {
     "end_time": "2024-03-29T19:51:07.844958400Z",
     "start_time": "2024-03-29T19:51:07.168794100Z"
    }
   },
   "id": "d4071458eaf175ff"
  },
  {
   "cell_type": "code",
   "execution_count": 13,
   "outputs": [
    {
     "data": {
      "text/plain": "        ValeurFonciere     CP  NombreLots  CodeTypeLocal  SurfaceReelleBati  \\\n0               311650  33850           1              1                 84   \n1               122000  33470           1              1                 34   \n2               420612  33380           0              1                130   \n3               167000  33470           2              2                 49   \n4               450000  33260           0              1                105   \n...                ...    ...         ...            ...                ...   \n147504          234150  33990           0              1                103   \n147505          159300  33340           0              1                103   \n147506          159300  33340           0              1                103   \n147507          283925  33780           0              1                132   \n147508           97000  33780           1              1                 18   \n\n        NombrePiecesPrincipales  SurfaceTerrain  Year  SurfaceCarrez  \n0                             4               0  2021             84  \n1                             2               0  2021              0  \n2                             4             607  2021              0  \n3                             2               0  2021             49  \n4                             4             684  2021              0  \n...                         ...             ...   ...            ...  \n147504                        6             880  2020              0  \n147505                        5             162  2020              0  \n147506                        5             500  2020              0  \n147507                        6             601  2020              0  \n147508                        2               0  2020             32  \n\n[147509 rows x 9 columns]",
      "text/html": "<div>\n<style scoped>\n    .dataframe tbody tr th:only-of-type {\n        vertical-align: middle;\n    }\n\n    .dataframe tbody tr th {\n        vertical-align: top;\n    }\n\n    .dataframe thead th {\n        text-align: right;\n    }\n</style>\n<table border=\"1\" class=\"dataframe\">\n  <thead>\n    <tr style=\"text-align: right;\">\n      <th></th>\n      <th>ValeurFonciere</th>\n      <th>CP</th>\n      <th>NombreLots</th>\n      <th>CodeTypeLocal</th>\n      <th>SurfaceReelleBati</th>\n      <th>NombrePiecesPrincipales</th>\n      <th>SurfaceTerrain</th>\n      <th>Year</th>\n      <th>SurfaceCarrez</th>\n    </tr>\n  </thead>\n  <tbody>\n    <tr>\n      <th>0</th>\n      <td>311650</td>\n      <td>33850</td>\n      <td>1</td>\n      <td>1</td>\n      <td>84</td>\n      <td>4</td>\n      <td>0</td>\n      <td>2021</td>\n      <td>84</td>\n    </tr>\n    <tr>\n      <th>1</th>\n      <td>122000</td>\n      <td>33470</td>\n      <td>1</td>\n      <td>1</td>\n      <td>34</td>\n      <td>2</td>\n      <td>0</td>\n      <td>2021</td>\n      <td>0</td>\n    </tr>\n    <tr>\n      <th>2</th>\n      <td>420612</td>\n      <td>33380</td>\n      <td>0</td>\n      <td>1</td>\n      <td>130</td>\n      <td>4</td>\n      <td>607</td>\n      <td>2021</td>\n      <td>0</td>\n    </tr>\n    <tr>\n      <th>3</th>\n      <td>167000</td>\n      <td>33470</td>\n      <td>2</td>\n      <td>2</td>\n      <td>49</td>\n      <td>2</td>\n      <td>0</td>\n      <td>2021</td>\n      <td>49</td>\n    </tr>\n    <tr>\n      <th>4</th>\n      <td>450000</td>\n      <td>33260</td>\n      <td>0</td>\n      <td>1</td>\n      <td>105</td>\n      <td>4</td>\n      <td>684</td>\n      <td>2021</td>\n      <td>0</td>\n    </tr>\n    <tr>\n      <th>...</th>\n      <td>...</td>\n      <td>...</td>\n      <td>...</td>\n      <td>...</td>\n      <td>...</td>\n      <td>...</td>\n      <td>...</td>\n      <td>...</td>\n      <td>...</td>\n    </tr>\n    <tr>\n      <th>147504</th>\n      <td>234150</td>\n      <td>33990</td>\n      <td>0</td>\n      <td>1</td>\n      <td>103</td>\n      <td>6</td>\n      <td>880</td>\n      <td>2020</td>\n      <td>0</td>\n    </tr>\n    <tr>\n      <th>147505</th>\n      <td>159300</td>\n      <td>33340</td>\n      <td>0</td>\n      <td>1</td>\n      <td>103</td>\n      <td>5</td>\n      <td>162</td>\n      <td>2020</td>\n      <td>0</td>\n    </tr>\n    <tr>\n      <th>147506</th>\n      <td>159300</td>\n      <td>33340</td>\n      <td>0</td>\n      <td>1</td>\n      <td>103</td>\n      <td>5</td>\n      <td>500</td>\n      <td>2020</td>\n      <td>0</td>\n    </tr>\n    <tr>\n      <th>147507</th>\n      <td>283925</td>\n      <td>33780</td>\n      <td>0</td>\n      <td>1</td>\n      <td>132</td>\n      <td>6</td>\n      <td>601</td>\n      <td>2020</td>\n      <td>0</td>\n    </tr>\n    <tr>\n      <th>147508</th>\n      <td>97000</td>\n      <td>33780</td>\n      <td>1</td>\n      <td>1</td>\n      <td>18</td>\n      <td>2</td>\n      <td>0</td>\n      <td>2020</td>\n      <td>32</td>\n    </tr>\n  </tbody>\n</table>\n<p>147509 rows × 9 columns</p>\n</div>"
     },
     "execution_count": 13,
     "metadata": {},
     "output_type": "execute_result"
    }
   ],
   "source": [
    "df_model"
   ],
   "metadata": {
    "collapsed": false,
    "ExecuteTime": {
     "end_time": "2024-03-29T19:51:11.026095600Z",
     "start_time": "2024-03-29T19:51:10.997262100Z"
    }
   },
   "id": "fa474d68e6dbd8f7"
  },
  {
   "cell_type": "code",
   "execution_count": null,
   "outputs": [],
   "source": [],
   "metadata": {
    "collapsed": false
   },
   "id": "c8bcfc24a168155c"
  }
 ],
 "metadata": {
  "kernelspec": {
   "display_name": "Python 3",
   "language": "python",
   "name": "python3"
  },
  "language_info": {
   "codemirror_mode": {
    "name": "ipython",
    "version": 2
   },
   "file_extension": ".py",
   "mimetype": "text/x-python",
   "name": "python",
   "nbconvert_exporter": "python",
   "pygments_lexer": "ipython2",
   "version": "2.7.6"
  }
 },
 "nbformat": 4,
 "nbformat_minor": 5
}
