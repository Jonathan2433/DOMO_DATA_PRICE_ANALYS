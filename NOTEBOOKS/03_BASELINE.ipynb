{
 "cells": [
  {
   "cell_type": "markdown",
   "source": [
    "# IMPORT DES LIBRAIRIES"
   ],
   "metadata": {
    "collapsed": false
   },
   "id": "c7dfb25a3adb5a58"
  },
  {
   "cell_type": "code",
   "execution_count": 1,
   "id": "initial_id",
   "metadata": {
    "collapsed": true,
    "ExecuteTime": {
     "end_time": "2024-06-09T15:43:03.688530500Z",
     "start_time": "2024-06-09T15:43:03.467552100Z"
    }
   },
   "outputs": [],
   "source": [
    "import pandas as pd\n",
    "import numpy as np\n",
    "from sklearn.preprocessing import RobustScaler\n",
    "from sklearn.model_selection import train_test_split\n",
    "from sklearn.preprocessing import OneHotEncoder\n",
    "from sklearn.ensemble import RandomForestRegressor\n",
    "from sklearn.metrics import mean_squared_error, mean_absolute_error, r2_score\n",
    "from sklearn.decomposition import PCA\n",
    "from sklearn.pipeline import make_pipeline"
   ]
  },
  {
   "cell_type": "markdown",
   "source": [
    "# OPTIONS PANDAS "
   ],
   "metadata": {
    "collapsed": false
   },
   "id": "e35f89db3e87f3e5"
  },
  {
   "cell_type": "code",
   "execution_count": 2,
   "outputs": [],
   "source": [
    "pd.options.display.float_format = '{:.0f}'.format"
   ],
   "metadata": {
    "collapsed": false,
    "ExecuteTime": {
     "end_time": "2024-06-09T15:43:04.728239100Z",
     "start_time": "2024-06-09T15:43:04.710495200Z"
    }
   },
   "id": "fb6698c97cdd74ac"
  },
  {
   "cell_type": "markdown",
   "source": [
    "# OUVERTURE DE NOTRE DATASET"
   ],
   "metadata": {
    "collapsed": false
   },
   "id": "c6f9561c275b906d"
  },
  {
   "cell_type": "code",
   "execution_count": 3,
   "outputs": [
    {
     "data": {
      "text/plain": "    Prix     DT_Date  SurfaceTerrain  SurfaceBati  SurfaceCarrez  NombreLots  \\\n0 165000  2019-01-04             970           70              0           4   \n1 509100  2019-01-09             821          193              0           6   \n2  80000  2019-01-09               0           16             15           1   \n3 382700  2019-01-10            1428          129              0           4   \n4 421000  2019-01-08             337          136              0           6   \n\n   NombrePiecesPrincipales  NoDisp  NoVoie  BTQ  ...                 slice  \\\n0                        0       1      19  NaN  ...  [150000.0, 200000.0)   \n1                        0       1       5  NaN  ...  [500000.0, 600000.0)   \n2                        1       1      33  NaN  ...   [50000.0, 100000.0)   \n3                        0       2       8    B  ...  [300000.0, 400000.0)   \n4                        0       1      52  NaN  ...  [400000.0, 500000.0)   \n\n  quarter  Year  Month AvecTerrain   SurfaceBatiCat ID PrixTerrainM2  \\\n0       1  2019      1        True     (60.0, 70.0]  1           170   \n1       1  2019      1        True  (144.0, 1000.0]  2           620   \n2       1  2019      1       False    (0.999, 35.0]  3             0   \n3       1  2019      1        True   (117.0, 144.0]  4           268   \n4       1  2019      1        True   (117.0, 144.0]  5          1249   \n\n  PrixBatiM2  PrixCarrezM2  \n0       2357             0  \n1       2638             0  \n2       5000          5239  \n3       2967             0  \n4       3096             0  \n\n[5 rows x 28 columns]",
      "text/html": "<div>\n<style scoped>\n    .dataframe tbody tr th:only-of-type {\n        vertical-align: middle;\n    }\n\n    .dataframe tbody tr th {\n        vertical-align: top;\n    }\n\n    .dataframe thead th {\n        text-align: right;\n    }\n</style>\n<table border=\"1\" class=\"dataframe\">\n  <thead>\n    <tr style=\"text-align: right;\">\n      <th></th>\n      <th>Prix</th>\n      <th>DT_Date</th>\n      <th>SurfaceTerrain</th>\n      <th>SurfaceBati</th>\n      <th>SurfaceCarrez</th>\n      <th>NombreLots</th>\n      <th>NombrePiecesPrincipales</th>\n      <th>NoDisp</th>\n      <th>NoVoie</th>\n      <th>BTQ</th>\n      <th>...</th>\n      <th>slice</th>\n      <th>quarter</th>\n      <th>Year</th>\n      <th>Month</th>\n      <th>AvecTerrain</th>\n      <th>SurfaceBatiCat</th>\n      <th>ID</th>\n      <th>PrixTerrainM2</th>\n      <th>PrixBatiM2</th>\n      <th>PrixCarrezM2</th>\n    </tr>\n  </thead>\n  <tbody>\n    <tr>\n      <th>0</th>\n      <td>165000</td>\n      <td>2019-01-04</td>\n      <td>970</td>\n      <td>70</td>\n      <td>0</td>\n      <td>4</td>\n      <td>0</td>\n      <td>1</td>\n      <td>19</td>\n      <td>NaN</td>\n      <td>...</td>\n      <td>[150000.0, 200000.0)</td>\n      <td>1</td>\n      <td>2019</td>\n      <td>1</td>\n      <td>True</td>\n      <td>(60.0, 70.0]</td>\n      <td>1</td>\n      <td>170</td>\n      <td>2357</td>\n      <td>0</td>\n    </tr>\n    <tr>\n      <th>1</th>\n      <td>509100</td>\n      <td>2019-01-09</td>\n      <td>821</td>\n      <td>193</td>\n      <td>0</td>\n      <td>6</td>\n      <td>0</td>\n      <td>1</td>\n      <td>5</td>\n      <td>NaN</td>\n      <td>...</td>\n      <td>[500000.0, 600000.0)</td>\n      <td>1</td>\n      <td>2019</td>\n      <td>1</td>\n      <td>True</td>\n      <td>(144.0, 1000.0]</td>\n      <td>2</td>\n      <td>620</td>\n      <td>2638</td>\n      <td>0</td>\n    </tr>\n    <tr>\n      <th>2</th>\n      <td>80000</td>\n      <td>2019-01-09</td>\n      <td>0</td>\n      <td>16</td>\n      <td>15</td>\n      <td>1</td>\n      <td>1</td>\n      <td>1</td>\n      <td>33</td>\n      <td>NaN</td>\n      <td>...</td>\n      <td>[50000.0, 100000.0)</td>\n      <td>1</td>\n      <td>2019</td>\n      <td>1</td>\n      <td>False</td>\n      <td>(0.999, 35.0]</td>\n      <td>3</td>\n      <td>0</td>\n      <td>5000</td>\n      <td>5239</td>\n    </tr>\n    <tr>\n      <th>3</th>\n      <td>382700</td>\n      <td>2019-01-10</td>\n      <td>1428</td>\n      <td>129</td>\n      <td>0</td>\n      <td>4</td>\n      <td>0</td>\n      <td>2</td>\n      <td>8</td>\n      <td>B</td>\n      <td>...</td>\n      <td>[300000.0, 400000.0)</td>\n      <td>1</td>\n      <td>2019</td>\n      <td>1</td>\n      <td>True</td>\n      <td>(117.0, 144.0]</td>\n      <td>4</td>\n      <td>268</td>\n      <td>2967</td>\n      <td>0</td>\n    </tr>\n    <tr>\n      <th>4</th>\n      <td>421000</td>\n      <td>2019-01-08</td>\n      <td>337</td>\n      <td>136</td>\n      <td>0</td>\n      <td>6</td>\n      <td>0</td>\n      <td>1</td>\n      <td>52</td>\n      <td>NaN</td>\n      <td>...</td>\n      <td>[400000.0, 500000.0)</td>\n      <td>1</td>\n      <td>2019</td>\n      <td>1</td>\n      <td>True</td>\n      <td>(117.0, 144.0]</td>\n      <td>5</td>\n      <td>1249</td>\n      <td>3096</td>\n      <td>0</td>\n    </tr>\n  </tbody>\n</table>\n<p>5 rows × 28 columns</p>\n</div>"
     },
     "execution_count": 3,
     "metadata": {},
     "output_type": "execute_result"
    }
   ],
   "source": [
    "df = pd.read_csv('../DATA/OUT/dataset_hors_outliers_surfaces_and_piece.csv')\n",
    "df.head()"
   ],
   "metadata": {
    "collapsed": false,
    "ExecuteTime": {
     "end_time": "2024-06-09T15:43:06.084219300Z",
     "start_time": "2024-06-09T15:43:05.693403500Z"
    }
   },
   "id": "f891b02072fc7ae6"
  },
  {
   "cell_type": "markdown",
   "source": [
    "# SUPPRESSION DES FEATURES NON ESSENTIELLES"
   ],
   "metadata": {
    "collapsed": false
   },
   "id": "6a26c3e7182eb97a"
  },
  {
   "cell_type": "code",
   "execution_count": 4,
   "outputs": [
    {
     "data": {
      "text/plain": "Prix                       0\nSurfaceTerrain             0\nSurfaceBati                0\nSurfaceCarrez              0\nNombrePiecesPrincipales    0\nCodePostal                 0\nTypeLocalName              0\nYear                       0\ndtype: int64"
     },
     "execution_count": 4,
     "metadata": {},
     "output_type": "execute_result"
    }
   ],
   "source": [
    "# Préparation de df_model en excluant les colonnes spécifiées dans votre code initial\n",
    "columns_to_drop = ['NoDisp', 'NoVoie', 'BTQ', 'TypeVoie', 'CodeVoie', 'Voie', 'CommuneName', 'NombreLots', 'NatureCultureName', 'NatureCultureSpecialeName',\n",
    "                   'slice', 'quarter', 'Month', 'DT_Date', 'SurfaceBatiCat', 'ID',\n",
    "                   'PrixTerrainM2', 'PrixBatiM2', 'PrixCarrezM2', 'AvecTerrain']\n",
    "\n",
    "# Créer df_model\n",
    "df_model = df.drop(columns=columns_to_drop)\n",
    "\n",
    "# Vérifier s'il reste des colonnes non numériques qui doivent être exclues ou traitées séparément\n",
    "# df_model.select_dtypes(exclude=['number']).columns.tolist()\n",
    "\n",
    "df_model = df_model.dropna(subset=['Prix', 'SurfaceBati', 'CodePostal'])\n",
    "df_model.isna().sum()"
   ],
   "metadata": {
    "collapsed": false,
    "ExecuteTime": {
     "end_time": "2024-06-09T15:43:07.672578600Z",
     "start_time": "2024-06-09T15:43:07.638392700Z"
    }
   },
   "id": "156b32678daedfc6"
  },
  {
   "cell_type": "code",
   "execution_count": 5,
   "outputs": [
    {
     "data": {
      "text/plain": "(159545, 8)"
     },
     "execution_count": 5,
     "metadata": {},
     "output_type": "execute_result"
    }
   ],
   "source": [
    "df_model.shape"
   ],
   "metadata": {
    "collapsed": false,
    "ExecuteTime": {
     "end_time": "2024-06-09T15:43:08.368393900Z",
     "start_time": "2024-06-09T15:43:08.341522400Z"
    }
   },
   "id": "78f69e5a962cbeef"
  },
  {
   "cell_type": "code",
   "execution_count": 6,
   "outputs": [
    {
     "data": {
      "text/plain": "         Prix  SurfaceTerrain  SurfaceBati  SurfaceCarrez  \\\n0      165000             970           70              0   \n1      509100             821          193              0   \n2       80000               0           16             15   \n3      382700            1428          129              0   \n4      421000             337          136              0   \n...       ...             ...          ...            ...   \n159540 160000             273           50              0   \n159541 190000            1349           95              0   \n159542 190000             500           95              0   \n159543 288654             944           95              0   \n159544  75000              64           60              0   \n\n        NombrePiecesPrincipales  CodePostal TypeLocalName  Year  \n0                             0       33480        Maison  2019  \n1                             0       33320        Maison  2019  \n2                             1       33000   Appartement  2019  \n3                             0       33160        Maison  2019  \n4                             0       33300        Maison  2019  \n...                         ...         ...           ...   ...  \n159540                        0       33990        Maison  2023  \n159541                        0       33540        Maison  2023  \n159542                        0       33540        Maison  2023  \n159543                        0       33440        Maison  2023  \n159544                        0       33390        Maison  2023  \n\n[159545 rows x 8 columns]",
      "text/html": "<div>\n<style scoped>\n    .dataframe tbody tr th:only-of-type {\n        vertical-align: middle;\n    }\n\n    .dataframe tbody tr th {\n        vertical-align: top;\n    }\n\n    .dataframe thead th {\n        text-align: right;\n    }\n</style>\n<table border=\"1\" class=\"dataframe\">\n  <thead>\n    <tr style=\"text-align: right;\">\n      <th></th>\n      <th>Prix</th>\n      <th>SurfaceTerrain</th>\n      <th>SurfaceBati</th>\n      <th>SurfaceCarrez</th>\n      <th>NombrePiecesPrincipales</th>\n      <th>CodePostal</th>\n      <th>TypeLocalName</th>\n      <th>Year</th>\n    </tr>\n  </thead>\n  <tbody>\n    <tr>\n      <th>0</th>\n      <td>165000</td>\n      <td>970</td>\n      <td>70</td>\n      <td>0</td>\n      <td>0</td>\n      <td>33480</td>\n      <td>Maison</td>\n      <td>2019</td>\n    </tr>\n    <tr>\n      <th>1</th>\n      <td>509100</td>\n      <td>821</td>\n      <td>193</td>\n      <td>0</td>\n      <td>0</td>\n      <td>33320</td>\n      <td>Maison</td>\n      <td>2019</td>\n    </tr>\n    <tr>\n      <th>2</th>\n      <td>80000</td>\n      <td>0</td>\n      <td>16</td>\n      <td>15</td>\n      <td>1</td>\n      <td>33000</td>\n      <td>Appartement</td>\n      <td>2019</td>\n    </tr>\n    <tr>\n      <th>3</th>\n      <td>382700</td>\n      <td>1428</td>\n      <td>129</td>\n      <td>0</td>\n      <td>0</td>\n      <td>33160</td>\n      <td>Maison</td>\n      <td>2019</td>\n    </tr>\n    <tr>\n      <th>4</th>\n      <td>421000</td>\n      <td>337</td>\n      <td>136</td>\n      <td>0</td>\n      <td>0</td>\n      <td>33300</td>\n      <td>Maison</td>\n      <td>2019</td>\n    </tr>\n    <tr>\n      <th>...</th>\n      <td>...</td>\n      <td>...</td>\n      <td>...</td>\n      <td>...</td>\n      <td>...</td>\n      <td>...</td>\n      <td>...</td>\n      <td>...</td>\n    </tr>\n    <tr>\n      <th>159540</th>\n      <td>160000</td>\n      <td>273</td>\n      <td>50</td>\n      <td>0</td>\n      <td>0</td>\n      <td>33990</td>\n      <td>Maison</td>\n      <td>2023</td>\n    </tr>\n    <tr>\n      <th>159541</th>\n      <td>190000</td>\n      <td>1349</td>\n      <td>95</td>\n      <td>0</td>\n      <td>0</td>\n      <td>33540</td>\n      <td>Maison</td>\n      <td>2023</td>\n    </tr>\n    <tr>\n      <th>159542</th>\n      <td>190000</td>\n      <td>500</td>\n      <td>95</td>\n      <td>0</td>\n      <td>0</td>\n      <td>33540</td>\n      <td>Maison</td>\n      <td>2023</td>\n    </tr>\n    <tr>\n      <th>159543</th>\n      <td>288654</td>\n      <td>944</td>\n      <td>95</td>\n      <td>0</td>\n      <td>0</td>\n      <td>33440</td>\n      <td>Maison</td>\n      <td>2023</td>\n    </tr>\n    <tr>\n      <th>159544</th>\n      <td>75000</td>\n      <td>64</td>\n      <td>60</td>\n      <td>0</td>\n      <td>0</td>\n      <td>33390</td>\n      <td>Maison</td>\n      <td>2023</td>\n    </tr>\n  </tbody>\n</table>\n<p>159545 rows × 8 columns</p>\n</div>"
     },
     "execution_count": 6,
     "metadata": {},
     "output_type": "execute_result"
    }
   ],
   "source": [
    "df_model"
   ],
   "metadata": {
    "collapsed": false,
    "ExecuteTime": {
     "end_time": "2024-06-09T15:43:09.653996300Z",
     "start_time": "2024-06-09T15:43:09.637563900Z"
    }
   },
   "id": "3fa5269db2096d94"
  },
  {
   "cell_type": "markdown",
   "source": [
    "# TRANSFORMATION DE LOCALISATION EN NUMERIQUE (ONE HOT ENCODER)"
   ],
   "metadata": {
    "collapsed": false
   },
   "id": "ea281012af850cb7"
  },
  {
   "cell_type": "code",
   "execution_count": 7,
   "outputs": [],
   "source": [
    "# Assurez-vous qu'il n'y a pas de valeurs NaN dans 'CP' avant le One-Hot Encoding\n",
    "df_model = df_model.dropna(subset=['CodePostal'])\n",
    "\n",
    "# Réinitialiser l'index pour s'assurer que l'alignement est conservé après la suppression des NaN\n",
    "df_model.reset_index(drop=True, inplace=True)\n",
    "\n",
    "# Encoder les colonnes 'CodePostal' et 'TypeLocalName' avec OneHotEncoder\n",
    "categorical_cols = ['CodePostal', 'TypeLocalName']\n",
    "encoder = OneHotEncoder(sparse_output=False)\n",
    "encoded = encoder.fit_transform(df_model[categorical_cols])\n",
    "\n",
    "# Convertir les résultats encodés en DataFrame\n",
    "encoded_df = pd.DataFrame(encoded, columns=encoder.get_feature_names_out(categorical_cols))\n",
    "\n",
    "# Réinitialiser l'index sur le DataFrame encodé pour garantir l'alignement lors de la fusion\n",
    "encoded_df.reset_index(drop=True, inplace=True)\n",
    "\n",
    "# Fusionner le DataFrame encodé avec le df_model original en s'assurant que les indices sont alignés\n",
    "df_model = pd.concat([df_model, encoded_df], axis=1)\n",
    "\n",
    "# Supprimer les colonnes catégorielles originales\n",
    "df_model = df_model.drop(columns=categorical_cols)"
   ],
   "metadata": {
    "collapsed": false,
    "ExecuteTime": {
     "end_time": "2024-06-09T15:43:12.286433300Z",
     "start_time": "2024-06-09T15:43:12.107435300Z"
    }
   },
   "id": "c952788f011cbefd"
  },
  {
   "cell_type": "code",
   "execution_count": 8,
   "outputs": [
    {
     "data": {
      "text/plain": "         Prix  SurfaceTerrain  SurfaceBati  SurfaceCarrez  \\\n0      165000             970           70              0   \n1      509100             821          193              0   \n2       80000               0           16             15   \n3      382700            1428          129              0   \n4      421000             337          136              0   \n...       ...             ...          ...            ...   \n159540 160000             273           50              0   \n159541 190000            1349           95              0   \n159542 190000             500           95              0   \n159543 288654             944           95              0   \n159544  75000              64           60              0   \n\n        NombrePiecesPrincipales  Year  CodePostal_33000  CodePostal_33100  \\\n0                             0  2019                 0                 0   \n1                             0  2019                 0                 0   \n2                             1  2019                 1                 0   \n3                             0  2019                 0                 0   \n4                             0  2019                 0                 0   \n...                         ...   ...               ...               ...   \n159540                        0  2023                 0                 0   \n159541                        0  2023                 0                 0   \n159542                        0  2023                 0                 0   \n159543                        0  2023                 0                 0   \n159544                        0  2023                 0                 0   \n\n        CodePostal_33110  CodePostal_33112  ...  CodePostal_33890  \\\n0                      0                 0  ...                 0   \n1                      0                 0  ...                 0   \n2                      0                 0  ...                 0   \n3                      0                 0  ...                 0   \n4                      0                 0  ...                 0   \n...                  ...               ...  ...               ...   \n159540                 0                 0  ...                 0   \n159541                 0                 0  ...                 0   \n159542                 0                 0  ...                 0   \n159543                 0                 0  ...                 0   \n159544                 0                 0  ...                 0   \n\n        CodePostal_33910  CodePostal_33920  CodePostal_33930  \\\n0                      0                 0                 0   \n1                      0                 0                 0   \n2                      0                 0                 0   \n3                      0                 0                 0   \n4                      0                 0                 0   \n...                  ...               ...               ...   \n159540                 0                 0                 0   \n159541                 0                 0                 0   \n159542                 0                 0                 0   \n159543                 0                 0                 0   \n159544                 0                 0                 0   \n\n        CodePostal_33950  CodePostal_33970  CodePostal_33980  \\\n0                      0                 0                 0   \n1                      0                 0                 0   \n2                      0                 0                 0   \n3                      0                 0                 0   \n4                      0                 0                 0   \n...                  ...               ...               ...   \n159540                 0                 0                 0   \n159541                 0                 0                 0   \n159542                 0                 0                 0   \n159543                 0                 0                 0   \n159544                 0                 0                 0   \n\n        CodePostal_33990  TypeLocalName_Appartement  TypeLocalName_Maison  \n0                      0                          0                     1  \n1                      0                          0                     1  \n2                      0                          1                     0  \n3                      0                          0                     1  \n4                      0                          0                     1  \n...                  ...                        ...                   ...  \n159540                 1                          0                     1  \n159541                 0                          0                     1  \n159542                 0                          0                     1  \n159543                 0                          0                     1  \n159544                 0                          0                     1  \n\n[159545 rows x 108 columns]",
      "text/html": "<div>\n<style scoped>\n    .dataframe tbody tr th:only-of-type {\n        vertical-align: middle;\n    }\n\n    .dataframe tbody tr th {\n        vertical-align: top;\n    }\n\n    .dataframe thead th {\n        text-align: right;\n    }\n</style>\n<table border=\"1\" class=\"dataframe\">\n  <thead>\n    <tr style=\"text-align: right;\">\n      <th></th>\n      <th>Prix</th>\n      <th>SurfaceTerrain</th>\n      <th>SurfaceBati</th>\n      <th>SurfaceCarrez</th>\n      <th>NombrePiecesPrincipales</th>\n      <th>Year</th>\n      <th>CodePostal_33000</th>\n      <th>CodePostal_33100</th>\n      <th>CodePostal_33110</th>\n      <th>CodePostal_33112</th>\n      <th>...</th>\n      <th>CodePostal_33890</th>\n      <th>CodePostal_33910</th>\n      <th>CodePostal_33920</th>\n      <th>CodePostal_33930</th>\n      <th>CodePostal_33950</th>\n      <th>CodePostal_33970</th>\n      <th>CodePostal_33980</th>\n      <th>CodePostal_33990</th>\n      <th>TypeLocalName_Appartement</th>\n      <th>TypeLocalName_Maison</th>\n    </tr>\n  </thead>\n  <tbody>\n    <tr>\n      <th>0</th>\n      <td>165000</td>\n      <td>970</td>\n      <td>70</td>\n      <td>0</td>\n      <td>0</td>\n      <td>2019</td>\n      <td>0</td>\n      <td>0</td>\n      <td>0</td>\n      <td>0</td>\n      <td>...</td>\n      <td>0</td>\n      <td>0</td>\n      <td>0</td>\n      <td>0</td>\n      <td>0</td>\n      <td>0</td>\n      <td>0</td>\n      <td>0</td>\n      <td>0</td>\n      <td>1</td>\n    </tr>\n    <tr>\n      <th>1</th>\n      <td>509100</td>\n      <td>821</td>\n      <td>193</td>\n      <td>0</td>\n      <td>0</td>\n      <td>2019</td>\n      <td>0</td>\n      <td>0</td>\n      <td>0</td>\n      <td>0</td>\n      <td>...</td>\n      <td>0</td>\n      <td>0</td>\n      <td>0</td>\n      <td>0</td>\n      <td>0</td>\n      <td>0</td>\n      <td>0</td>\n      <td>0</td>\n      <td>0</td>\n      <td>1</td>\n    </tr>\n    <tr>\n      <th>2</th>\n      <td>80000</td>\n      <td>0</td>\n      <td>16</td>\n      <td>15</td>\n      <td>1</td>\n      <td>2019</td>\n      <td>1</td>\n      <td>0</td>\n      <td>0</td>\n      <td>0</td>\n      <td>...</td>\n      <td>0</td>\n      <td>0</td>\n      <td>0</td>\n      <td>0</td>\n      <td>0</td>\n      <td>0</td>\n      <td>0</td>\n      <td>0</td>\n      <td>1</td>\n      <td>0</td>\n    </tr>\n    <tr>\n      <th>3</th>\n      <td>382700</td>\n      <td>1428</td>\n      <td>129</td>\n      <td>0</td>\n      <td>0</td>\n      <td>2019</td>\n      <td>0</td>\n      <td>0</td>\n      <td>0</td>\n      <td>0</td>\n      <td>...</td>\n      <td>0</td>\n      <td>0</td>\n      <td>0</td>\n      <td>0</td>\n      <td>0</td>\n      <td>0</td>\n      <td>0</td>\n      <td>0</td>\n      <td>0</td>\n      <td>1</td>\n    </tr>\n    <tr>\n      <th>4</th>\n      <td>421000</td>\n      <td>337</td>\n      <td>136</td>\n      <td>0</td>\n      <td>0</td>\n      <td>2019</td>\n      <td>0</td>\n      <td>0</td>\n      <td>0</td>\n      <td>0</td>\n      <td>...</td>\n      <td>0</td>\n      <td>0</td>\n      <td>0</td>\n      <td>0</td>\n      <td>0</td>\n      <td>0</td>\n      <td>0</td>\n      <td>0</td>\n      <td>0</td>\n      <td>1</td>\n    </tr>\n    <tr>\n      <th>...</th>\n      <td>...</td>\n      <td>...</td>\n      <td>...</td>\n      <td>...</td>\n      <td>...</td>\n      <td>...</td>\n      <td>...</td>\n      <td>...</td>\n      <td>...</td>\n      <td>...</td>\n      <td>...</td>\n      <td>...</td>\n      <td>...</td>\n      <td>...</td>\n      <td>...</td>\n      <td>...</td>\n      <td>...</td>\n      <td>...</td>\n      <td>...</td>\n      <td>...</td>\n      <td>...</td>\n    </tr>\n    <tr>\n      <th>159540</th>\n      <td>160000</td>\n      <td>273</td>\n      <td>50</td>\n      <td>0</td>\n      <td>0</td>\n      <td>2023</td>\n      <td>0</td>\n      <td>0</td>\n      <td>0</td>\n      <td>0</td>\n      <td>...</td>\n      <td>0</td>\n      <td>0</td>\n      <td>0</td>\n      <td>0</td>\n      <td>0</td>\n      <td>0</td>\n      <td>0</td>\n      <td>1</td>\n      <td>0</td>\n      <td>1</td>\n    </tr>\n    <tr>\n      <th>159541</th>\n      <td>190000</td>\n      <td>1349</td>\n      <td>95</td>\n      <td>0</td>\n      <td>0</td>\n      <td>2023</td>\n      <td>0</td>\n      <td>0</td>\n      <td>0</td>\n      <td>0</td>\n      <td>...</td>\n      <td>0</td>\n      <td>0</td>\n      <td>0</td>\n      <td>0</td>\n      <td>0</td>\n      <td>0</td>\n      <td>0</td>\n      <td>0</td>\n      <td>0</td>\n      <td>1</td>\n    </tr>\n    <tr>\n      <th>159542</th>\n      <td>190000</td>\n      <td>500</td>\n      <td>95</td>\n      <td>0</td>\n      <td>0</td>\n      <td>2023</td>\n      <td>0</td>\n      <td>0</td>\n      <td>0</td>\n      <td>0</td>\n      <td>...</td>\n      <td>0</td>\n      <td>0</td>\n      <td>0</td>\n      <td>0</td>\n      <td>0</td>\n      <td>0</td>\n      <td>0</td>\n      <td>0</td>\n      <td>0</td>\n      <td>1</td>\n    </tr>\n    <tr>\n      <th>159543</th>\n      <td>288654</td>\n      <td>944</td>\n      <td>95</td>\n      <td>0</td>\n      <td>0</td>\n      <td>2023</td>\n      <td>0</td>\n      <td>0</td>\n      <td>0</td>\n      <td>0</td>\n      <td>...</td>\n      <td>0</td>\n      <td>0</td>\n      <td>0</td>\n      <td>0</td>\n      <td>0</td>\n      <td>0</td>\n      <td>0</td>\n      <td>0</td>\n      <td>0</td>\n      <td>1</td>\n    </tr>\n    <tr>\n      <th>159544</th>\n      <td>75000</td>\n      <td>64</td>\n      <td>60</td>\n      <td>0</td>\n      <td>0</td>\n      <td>2023</td>\n      <td>0</td>\n      <td>0</td>\n      <td>0</td>\n      <td>0</td>\n      <td>...</td>\n      <td>0</td>\n      <td>0</td>\n      <td>0</td>\n      <td>0</td>\n      <td>0</td>\n      <td>0</td>\n      <td>0</td>\n      <td>0</td>\n      <td>0</td>\n      <td>1</td>\n    </tr>\n  </tbody>\n</table>\n<p>159545 rows × 108 columns</p>\n</div>"
     },
     "execution_count": 8,
     "metadata": {},
     "output_type": "execute_result"
    }
   ],
   "source": [
    "df_model"
   ],
   "metadata": {
    "collapsed": false,
    "ExecuteTime": {
     "end_time": "2024-06-09T15:43:15.464533300Z",
     "start_time": "2024-06-09T15:43:15.404552600Z"
    }
   },
   "id": "e270855ebc34eb99"
  },
  {
   "cell_type": "markdown",
   "source": [
    "# SEPARATION DU JEU DE DONNES"
   ],
   "metadata": {
    "collapsed": false
   },
   "id": "812b9736c84afd2e"
  },
  {
   "cell_type": "code",
   "execution_count": 9,
   "outputs": [],
   "source": [
    "# Séparation du jeu de données en X (caractéristiques) et y (cible)\n",
    "X, y = df_model.drop(columns=[\"Prix\"]), df_model[\"Prix\"]\n",
    "\n",
    "# Séparation en ensembles de train, de test, et de validation\n",
    "X_train, X_test, y_train, y_test = train_test_split(X, y, test_size=0.33, random_state=42)\n",
    "X_test, X_val, y_test, y_val = train_test_split(X_test, y_test, test_size=0.10, random_state=42)"
   ],
   "metadata": {
    "collapsed": false,
    "ExecuteTime": {
     "end_time": "2024-06-09T15:43:21.906629500Z",
     "start_time": "2024-06-09T15:43:21.755233400Z"
    }
   },
   "id": "6e88b4db33de5c31"
  },
  {
   "cell_type": "code",
   "execution_count": 10,
   "outputs": [
    {
     "name": "stdout",
     "output_type": "stream",
     "text": [
      "X_train : 106895, X_test : 47385, X_val : 5265\n"
     ]
    }
   ],
   "source": [
    "# Instancier le RobustScaler\n",
    "scaler = RobustScaler()\n",
    "\n",
    "# Sélectionner les colonnes numériques dans X_train pour l'application du RobustScaler\n",
    "num_cols = X_train.select_dtypes(include=['number']).columns\n",
    "\n",
    "# Appliquer le RobustScaler uniquement sur les colonnes numériques de l'ensemble d'entraînement\n",
    "X_train[num_cols] = scaler.fit_transform(X_train[num_cols])\n",
    "\n",
    "# Utiliser le scaler ajusté pour transformer les ensembles de test et de validation\n",
    "X_test[num_cols] = scaler.transform(X_test[num_cols])\n",
    "X_val[num_cols] = scaler.transform(X_val[num_cols])\n",
    "\n",
    "print(f'X_train : {X_train.shape[0]}, X_test : {X_test.shape[0]}, X_val : {X_val.shape[0]}')"
   ],
   "metadata": {
    "collapsed": false,
    "ExecuteTime": {
     "end_time": "2024-06-09T15:43:23.264144Z",
     "start_time": "2024-06-09T15:43:22.775656200Z"
    }
   },
   "id": "736c73aab8b32f64"
  },
  {
   "cell_type": "code",
   "execution_count": 11,
   "outputs": [],
   "source": [
    "# Étape 1: Instancier le modèle\n",
    "rf = RandomForestRegressor(n_estimators=100, random_state=42)"
   ],
   "metadata": {
    "collapsed": false,
    "ExecuteTime": {
     "end_time": "2024-06-09T15:43:23.514031700Z",
     "start_time": "2024-06-09T15:43:23.503325Z"
    }
   },
   "id": "f038a6e27a8a06de"
  },
  {
   "cell_type": "code",
   "execution_count": 13,
   "outputs": [
    {
     "data": {
      "text/plain": "RandomForestRegressor(random_state=42)",
      "text/html": "<style>#sk-container-id-1 {\n  /* Definition of color scheme common for light and dark mode */\n  --sklearn-color-text: black;\n  --sklearn-color-line: gray;\n  /* Definition of color scheme for unfitted estimators */\n  --sklearn-color-unfitted-level-0: #fff5e6;\n  --sklearn-color-unfitted-level-1: #f6e4d2;\n  --sklearn-color-unfitted-level-2: #ffe0b3;\n  --sklearn-color-unfitted-level-3: chocolate;\n  /* Definition of color scheme for fitted estimators */\n  --sklearn-color-fitted-level-0: #f0f8ff;\n  --sklearn-color-fitted-level-1: #d4ebff;\n  --sklearn-color-fitted-level-2: #b3dbfd;\n  --sklearn-color-fitted-level-3: cornflowerblue;\n\n  /* Specific color for light theme */\n  --sklearn-color-text-on-default-background: var(--sg-text-color, var(--theme-code-foreground, var(--jp-content-font-color1, black)));\n  --sklearn-color-background: var(--sg-background-color, var(--theme-background, var(--jp-layout-color0, white)));\n  --sklearn-color-border-box: var(--sg-text-color, var(--theme-code-foreground, var(--jp-content-font-color1, black)));\n  --sklearn-color-icon: #696969;\n\n  @media (prefers-color-scheme: dark) {\n    /* Redefinition of color scheme for dark theme */\n    --sklearn-color-text-on-default-background: var(--sg-text-color, var(--theme-code-foreground, var(--jp-content-font-color1, white)));\n    --sklearn-color-background: var(--sg-background-color, var(--theme-background, var(--jp-layout-color0, #111)));\n    --sklearn-color-border-box: var(--sg-text-color, var(--theme-code-foreground, var(--jp-content-font-color1, white)));\n    --sklearn-color-icon: #878787;\n  }\n}\n\n#sk-container-id-1 {\n  color: var(--sklearn-color-text);\n}\n\n#sk-container-id-1 pre {\n  padding: 0;\n}\n\n#sk-container-id-1 input.sk-hidden--visually {\n  border: 0;\n  clip: rect(1px 1px 1px 1px);\n  clip: rect(1px, 1px, 1px, 1px);\n  height: 1px;\n  margin: -1px;\n  overflow: hidden;\n  padding: 0;\n  position: absolute;\n  width: 1px;\n}\n\n#sk-container-id-1 div.sk-dashed-wrapped {\n  border: 1px dashed var(--sklearn-color-line);\n  margin: 0 0.4em 0.5em 0.4em;\n  box-sizing: border-box;\n  padding-bottom: 0.4em;\n  background-color: var(--sklearn-color-background);\n}\n\n#sk-container-id-1 div.sk-container {\n  /* jupyter's `normalize.less` sets `[hidden] { display: none; }`\n     but bootstrap.min.css set `[hidden] { display: none !important; }`\n     so we also need the `!important` here to be able to override the\n     default hidden behavior on the sphinx rendered scikit-learn.org.\n     See: https://github.com/scikit-learn/scikit-learn/issues/21755 */\n  display: inline-block !important;\n  position: relative;\n}\n\n#sk-container-id-1 div.sk-text-repr-fallback {\n  display: none;\n}\n\ndiv.sk-parallel-item,\ndiv.sk-serial,\ndiv.sk-item {\n  /* draw centered vertical line to link estimators */\n  background-image: linear-gradient(var(--sklearn-color-text-on-default-background), var(--sklearn-color-text-on-default-background));\n  background-size: 2px 100%;\n  background-repeat: no-repeat;\n  background-position: center center;\n}\n\n/* Parallel-specific style estimator block */\n\n#sk-container-id-1 div.sk-parallel-item::after {\n  content: \"\";\n  width: 100%;\n  border-bottom: 2px solid var(--sklearn-color-text-on-default-background);\n  flex-grow: 1;\n}\n\n#sk-container-id-1 div.sk-parallel {\n  display: flex;\n  align-items: stretch;\n  justify-content: center;\n  background-color: var(--sklearn-color-background);\n  position: relative;\n}\n\n#sk-container-id-1 div.sk-parallel-item {\n  display: flex;\n  flex-direction: column;\n}\n\n#sk-container-id-1 div.sk-parallel-item:first-child::after {\n  align-self: flex-end;\n  width: 50%;\n}\n\n#sk-container-id-1 div.sk-parallel-item:last-child::after {\n  align-self: flex-start;\n  width: 50%;\n}\n\n#sk-container-id-1 div.sk-parallel-item:only-child::after {\n  width: 0;\n}\n\n/* Serial-specific style estimator block */\n\n#sk-container-id-1 div.sk-serial {\n  display: flex;\n  flex-direction: column;\n  align-items: center;\n  background-color: var(--sklearn-color-background);\n  padding-right: 1em;\n  padding-left: 1em;\n}\n\n\n/* Toggleable style: style used for estimator/Pipeline/ColumnTransformer box that is\nclickable and can be expanded/collapsed.\n- Pipeline and ColumnTransformer use this feature and define the default style\n- Estimators will overwrite some part of the style using the `sk-estimator` class\n*/\n\n/* Pipeline and ColumnTransformer style (default) */\n\n#sk-container-id-1 div.sk-toggleable {\n  /* Default theme specific background. It is overwritten whether we have a\n  specific estimator or a Pipeline/ColumnTransformer */\n  background-color: var(--sklearn-color-background);\n}\n\n/* Toggleable label */\n#sk-container-id-1 label.sk-toggleable__label {\n  cursor: pointer;\n  display: block;\n  width: 100%;\n  margin-bottom: 0;\n  padding: 0.5em;\n  box-sizing: border-box;\n  text-align: center;\n}\n\n#sk-container-id-1 label.sk-toggleable__label-arrow:before {\n  /* Arrow on the left of the label */\n  content: \"▸\";\n  float: left;\n  margin-right: 0.25em;\n  color: var(--sklearn-color-icon);\n}\n\n#sk-container-id-1 label.sk-toggleable__label-arrow:hover:before {\n  color: var(--sklearn-color-text);\n}\n\n/* Toggleable content - dropdown */\n\n#sk-container-id-1 div.sk-toggleable__content {\n  max-height: 0;\n  max-width: 0;\n  overflow: hidden;\n  text-align: left;\n  /* unfitted */\n  background-color: var(--sklearn-color-unfitted-level-0);\n}\n\n#sk-container-id-1 div.sk-toggleable__content.fitted {\n  /* fitted */\n  background-color: var(--sklearn-color-fitted-level-0);\n}\n\n#sk-container-id-1 div.sk-toggleable__content pre {\n  margin: 0.2em;\n  border-radius: 0.25em;\n  color: var(--sklearn-color-text);\n  /* unfitted */\n  background-color: var(--sklearn-color-unfitted-level-0);\n}\n\n#sk-container-id-1 div.sk-toggleable__content.fitted pre {\n  /* unfitted */\n  background-color: var(--sklearn-color-fitted-level-0);\n}\n\n#sk-container-id-1 input.sk-toggleable__control:checked~div.sk-toggleable__content {\n  /* Expand drop-down */\n  max-height: 200px;\n  max-width: 100%;\n  overflow: auto;\n}\n\n#sk-container-id-1 input.sk-toggleable__control:checked~label.sk-toggleable__label-arrow:before {\n  content: \"▾\";\n}\n\n/* Pipeline/ColumnTransformer-specific style */\n\n#sk-container-id-1 div.sk-label input.sk-toggleable__control:checked~label.sk-toggleable__label {\n  color: var(--sklearn-color-text);\n  background-color: var(--sklearn-color-unfitted-level-2);\n}\n\n#sk-container-id-1 div.sk-label.fitted input.sk-toggleable__control:checked~label.sk-toggleable__label {\n  background-color: var(--sklearn-color-fitted-level-2);\n}\n\n/* Estimator-specific style */\n\n/* Colorize estimator box */\n#sk-container-id-1 div.sk-estimator input.sk-toggleable__control:checked~label.sk-toggleable__label {\n  /* unfitted */\n  background-color: var(--sklearn-color-unfitted-level-2);\n}\n\n#sk-container-id-1 div.sk-estimator.fitted input.sk-toggleable__control:checked~label.sk-toggleable__label {\n  /* fitted */\n  background-color: var(--sklearn-color-fitted-level-2);\n}\n\n#sk-container-id-1 div.sk-label label.sk-toggleable__label,\n#sk-container-id-1 div.sk-label label {\n  /* The background is the default theme color */\n  color: var(--sklearn-color-text-on-default-background);\n}\n\n/* On hover, darken the color of the background */\n#sk-container-id-1 div.sk-label:hover label.sk-toggleable__label {\n  color: var(--sklearn-color-text);\n  background-color: var(--sklearn-color-unfitted-level-2);\n}\n\n/* Label box, darken color on hover, fitted */\n#sk-container-id-1 div.sk-label.fitted:hover label.sk-toggleable__label.fitted {\n  color: var(--sklearn-color-text);\n  background-color: var(--sklearn-color-fitted-level-2);\n}\n\n/* Estimator label */\n\n#sk-container-id-1 div.sk-label label {\n  font-family: monospace;\n  font-weight: bold;\n  display: inline-block;\n  line-height: 1.2em;\n}\n\n#sk-container-id-1 div.sk-label-container {\n  text-align: center;\n}\n\n/* Estimator-specific */\n#sk-container-id-1 div.sk-estimator {\n  font-family: monospace;\n  border: 1px dotted var(--sklearn-color-border-box);\n  border-radius: 0.25em;\n  box-sizing: border-box;\n  margin-bottom: 0.5em;\n  /* unfitted */\n  background-color: var(--sklearn-color-unfitted-level-0);\n}\n\n#sk-container-id-1 div.sk-estimator.fitted {\n  /* fitted */\n  background-color: var(--sklearn-color-fitted-level-0);\n}\n\n/* on hover */\n#sk-container-id-1 div.sk-estimator:hover {\n  /* unfitted */\n  background-color: var(--sklearn-color-unfitted-level-2);\n}\n\n#sk-container-id-1 div.sk-estimator.fitted:hover {\n  /* fitted */\n  background-color: var(--sklearn-color-fitted-level-2);\n}\n\n/* Specification for estimator info (e.g. \"i\" and \"?\") */\n\n/* Common style for \"i\" and \"?\" */\n\n.sk-estimator-doc-link,\na:link.sk-estimator-doc-link,\na:visited.sk-estimator-doc-link {\n  float: right;\n  font-size: smaller;\n  line-height: 1em;\n  font-family: monospace;\n  background-color: var(--sklearn-color-background);\n  border-radius: 1em;\n  height: 1em;\n  width: 1em;\n  text-decoration: none !important;\n  margin-left: 1ex;\n  /* unfitted */\n  border: var(--sklearn-color-unfitted-level-1) 1pt solid;\n  color: var(--sklearn-color-unfitted-level-1);\n}\n\n.sk-estimator-doc-link.fitted,\na:link.sk-estimator-doc-link.fitted,\na:visited.sk-estimator-doc-link.fitted {\n  /* fitted */\n  border: var(--sklearn-color-fitted-level-1) 1pt solid;\n  color: var(--sklearn-color-fitted-level-1);\n}\n\n/* On hover */\ndiv.sk-estimator:hover .sk-estimator-doc-link:hover,\n.sk-estimator-doc-link:hover,\ndiv.sk-label-container:hover .sk-estimator-doc-link:hover,\n.sk-estimator-doc-link:hover {\n  /* unfitted */\n  background-color: var(--sklearn-color-unfitted-level-3);\n  color: var(--sklearn-color-background);\n  text-decoration: none;\n}\n\ndiv.sk-estimator.fitted:hover .sk-estimator-doc-link.fitted:hover,\n.sk-estimator-doc-link.fitted:hover,\ndiv.sk-label-container:hover .sk-estimator-doc-link.fitted:hover,\n.sk-estimator-doc-link.fitted:hover {\n  /* fitted */\n  background-color: var(--sklearn-color-fitted-level-3);\n  color: var(--sklearn-color-background);\n  text-decoration: none;\n}\n\n/* Span, style for the box shown on hovering the info icon */\n.sk-estimator-doc-link span {\n  display: none;\n  z-index: 9999;\n  position: relative;\n  font-weight: normal;\n  right: .2ex;\n  padding: .5ex;\n  margin: .5ex;\n  width: min-content;\n  min-width: 20ex;\n  max-width: 50ex;\n  color: var(--sklearn-color-text);\n  box-shadow: 2pt 2pt 4pt #999;\n  /* unfitted */\n  background: var(--sklearn-color-unfitted-level-0);\n  border: .5pt solid var(--sklearn-color-unfitted-level-3);\n}\n\n.sk-estimator-doc-link.fitted span {\n  /* fitted */\n  background: var(--sklearn-color-fitted-level-0);\n  border: var(--sklearn-color-fitted-level-3);\n}\n\n.sk-estimator-doc-link:hover span {\n  display: block;\n}\n\n/* \"?\"-specific style due to the `<a>` HTML tag */\n\n#sk-container-id-1 a.estimator_doc_link {\n  float: right;\n  font-size: 1rem;\n  line-height: 1em;\n  font-family: monospace;\n  background-color: var(--sklearn-color-background);\n  border-radius: 1rem;\n  height: 1rem;\n  width: 1rem;\n  text-decoration: none;\n  /* unfitted */\n  color: var(--sklearn-color-unfitted-level-1);\n  border: var(--sklearn-color-unfitted-level-1) 1pt solid;\n}\n\n#sk-container-id-1 a.estimator_doc_link.fitted {\n  /* fitted */\n  border: var(--sklearn-color-fitted-level-1) 1pt solid;\n  color: var(--sklearn-color-fitted-level-1);\n}\n\n/* On hover */\n#sk-container-id-1 a.estimator_doc_link:hover {\n  /* unfitted */\n  background-color: var(--sklearn-color-unfitted-level-3);\n  color: var(--sklearn-color-background);\n  text-decoration: none;\n}\n\n#sk-container-id-1 a.estimator_doc_link.fitted:hover {\n  /* fitted */\n  background-color: var(--sklearn-color-fitted-level-3);\n}\n</style><div id=\"sk-container-id-1\" class=\"sk-top-container\"><div class=\"sk-text-repr-fallback\"><pre>RandomForestRegressor(random_state=42)</pre><b>In a Jupyter environment, please rerun this cell to show the HTML representation or trust the notebook. <br />On GitHub, the HTML representation is unable to render, please try loading this page with nbviewer.org.</b></div><div class=\"sk-container\" hidden><div class=\"sk-item\"><div class=\"sk-estimator fitted sk-toggleable\"><input class=\"sk-toggleable__control sk-hidden--visually\" id=\"sk-estimator-id-1\" type=\"checkbox\" checked><label for=\"sk-estimator-id-1\" class=\"sk-toggleable__label fitted sk-toggleable__label-arrow fitted\">&nbsp;&nbsp;RandomForestRegressor<a class=\"sk-estimator-doc-link fitted\" rel=\"noreferrer\" target=\"_blank\" href=\"https://scikit-learn.org/1.4/modules/generated/sklearn.ensemble.RandomForestRegressor.html\">?<span>Documentation for RandomForestRegressor</span></a><span class=\"sk-estimator-doc-link fitted\">i<span>Fitted</span></span></label><div class=\"sk-toggleable__content fitted\"><pre>RandomForestRegressor(random_state=42)</pre></div> </div></div></div></div>"
     },
     "execution_count": 13,
     "metadata": {},
     "output_type": "execute_result"
    }
   ],
   "source": [
    "# Étape 2: Entraîner le modèle\n",
    "rf.fit(X_train, y_train)"
   ],
   "metadata": {
    "collapsed": false,
    "ExecuteTime": {
     "end_time": "2024-06-09T15:45:55.236791500Z",
     "start_time": "2024-06-09T15:43:36.466142400Z"
    }
   },
   "id": "197bc37e76249fb4"
  },
  {
   "cell_type": "code",
   "execution_count": 14,
   "outputs": [
    {
     "name": "stdout",
     "output_type": "stream",
     "text": [
      "Mean Squared Error: 11278613216.023682\n",
      "Mean Absolute Error: 65509.68363187109\n",
      "R-squared: 68.16 % du prix est expliqué par nos features actuelles\n"
     ]
    }
   ],
   "source": [
    "# Étape 3: Prédire les valeurs sur l'ensemble de test\n",
    "y_pred = rf.predict(X_test)\n",
    "\n",
    "# Étape 4: Évaluer les performances\n",
    "mse = mean_squared_error(y_test, y_pred)\n",
    "mae = mean_absolute_error(y_test, y_pred)\n",
    "r2 = r2_score(y_test, y_pred)\n",
    "\n",
    "print(f\"Mean Squared Error: {mse}\")\n",
    "print(f\"Mean Absolute Error: {mae}\")\n",
    "print(f\"R-squared: {round(r2 * 100, 2)} % du prix est expliqué par nos features actuelles\")"
   ],
   "metadata": {
    "collapsed": false,
    "ExecuteTime": {
     "end_time": "2024-06-09T15:46:14.581001100Z",
     "start_time": "2024-06-09T15:46:12.672324200Z"
    }
   },
   "id": "9e62c7dc9c26c21c"
  },
  {
   "cell_type": "code",
   "execution_count": null,
   "outputs": [],
   "source": [],
   "metadata": {
    "collapsed": false
   },
   "id": "6100d0558908f6b6"
  }
 ],
 "metadata": {
  "kernelspec": {
   "display_name": "Python 3",
   "language": "python",
   "name": "python3"
  },
  "language_info": {
   "codemirror_mode": {
    "name": "ipython",
    "version": 2
   },
   "file_extension": ".py",
   "mimetype": "text/x-python",
   "name": "python",
   "nbconvert_exporter": "python",
   "pygments_lexer": "ipython2",
   "version": "2.7.6"
  }
 },
 "nbformat": 4,
 "nbformat_minor": 5
}
