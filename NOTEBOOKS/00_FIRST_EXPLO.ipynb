{
 "cells": [
  {
   "cell_type": "code",
   "execution_count": 1,
   "id": "initial_id",
   "metadata": {
    "collapsed": true,
    "ExecuteTime": {
     "end_time": "2024-01-10T14:01:08.436097500Z",
     "start_time": "2024-01-10T14:01:08.327292Z"
    }
   },
   "outputs": [],
   "source": [
    "import pandas as pd\n",
    "import seaborn as sns\n",
    "import plotly.express as px\n",
    "import plotly.graph_objects as go\n",
    "import matplotlib.pyplot as plt"
   ]
  },
  {
   "cell_type": "code",
   "execution_count": 8,
   "outputs": [
    {
     "name": "stderr",
     "output_type": "stream",
     "text": [
      "C:\\Users\\jonat\\AppData\\Local\\Temp\\ipykernel_27140\\2153843929.py:1: DtypeWarning: Columns (15,17) have mixed types. Specify dtype option on import or set low_memory=False.\n",
      "  df = pd.read_csv('../DATA/IN/extract_gold_dvf.csv', sep=';')\n"
     ]
    },
    {
     "data": {
      "text/plain": "        NoDisp DateMutation  ValeurFonciere  NoVoie  BTQ TypeVoie CodeVoie  \\\n0            1   2018-08-14       7000000.0    14.0  NaN      RUE     0100   \n1            1   2018-08-01      40000000.0    14.0    Y      RUE     0065   \n2            1   2018-08-27      13500000.0     1.0    B      NaN     B083   \n3            1   2018-08-13      19800000.0   412.0    C      NaN     B144   \n4            1   2018-08-13      19800000.0   412.0    C      NaN     B144   \n...        ...          ...             ...     ...  ...      ...      ...   \n175012       1   2023-03-01      37275000.0    54.0  NaN       AV     0510   \n175013       1   2023-03-29      32500000.0    52.0  NaN       AV     0700   \n175014       1   2023-06-29      22000000.0    30.0  NaN      CHE     0277   \n175015       1   2023-06-30      35400000.0    10.0  NaN      RUE     0287   \n175016       1   2023-06-29       8800000.0    30.0  NaN      CHE     0277   \n\n                      Voie     CP Commune  ...  SurfaceCarrez4emeLot  \\\n0          DU PETIT MOULIN  33230   ABZAC  ...                   NaN   \n1              JEAN ACHARD  33230   ABZAC  ...                   NaN   \n2              GRAND PIRON  33230   ABZAC  ...                   NaN   \n3           LES SERRES EST  33230   ABZAC  ...                   NaN   \n4           LES SERRES EST  33230   ABZAC  ...                   NaN   \n...                    ...    ...     ...  ...                   ...   \n175012        DU PIN FRANC  33370   YVRAC  ...                   NaN   \n175013     DES TABERNOTTES  33370   YVRAC  ...                   NaN   \n175014           DE CASSIN  33370   YVRAC  ...                   NaN   \n175015  LOT CLOS DU VALLON  33370   YVRAC  ...                   NaN   \n175016           DE CASSIN  33370   YVRAC  ...                   NaN   \n\n        CinquiemeLot  SurfaceCarrez5emeLot NombreLots  CodeTypeLocal  \\\n0                NaN                   NaN          0              1   \n1                NaN                   NaN          0              1   \n2                NaN                   NaN          0              1   \n3                NaN                   NaN          0              1   \n4                NaN                   NaN          0              1   \n...              ...                   ...        ...            ...   \n175012           NaN                   NaN          0              1   \n175013           NaN                   NaN          0              1   \n175014           NaN                   NaN          0              1   \n175015           NaN                   NaN          0              1   \n175016           NaN                   NaN          0              1   \n\n       SurfaceReelleBati  NombrePiecesPrincipales NatureCulture  \\\n0                   66.0                      4.0             T   \n1                  222.0                      6.0             S   \n2                  111.0                      4.0             S   \n3                  108.0                      4.0             P   \n4                  108.0                      4.0             S   \n...                  ...                      ...           ...   \n175012             120.0                      4.0             S   \n175013              90.0                      4.0             S   \n175014             100.0                      3.0             S   \n175015              95.0                      4.0             S   \n175016             100.0                      3.0             S   \n\n        NatureCultureSpeciale  SurfaceTerrain  \n0                         NaN           370.0  \n1                         NaN            83.0  \n2                         NaN           437.0  \n3                         NaN          2345.0  \n4                         NaN           288.0  \n...                       ...             ...  \n175012                    NaN           993.0  \n175013                    NaN           198.0  \n175014                    NaN           281.0  \n175015                    NaN           734.0  \n175016                    NaN           281.0  \n\n[175017 rows x 32 columns]",
      "text/html": "<div>\n<style scoped>\n    .dataframe tbody tr th:only-of-type {\n        vertical-align: middle;\n    }\n\n    .dataframe tbody tr th {\n        vertical-align: top;\n    }\n\n    .dataframe thead th {\n        text-align: right;\n    }\n</style>\n<table border=\"1\" class=\"dataframe\">\n  <thead>\n    <tr style=\"text-align: right;\">\n      <th></th>\n      <th>NoDisp</th>\n      <th>DateMutation</th>\n      <th>ValeurFonciere</th>\n      <th>NoVoie</th>\n      <th>BTQ</th>\n      <th>TypeVoie</th>\n      <th>CodeVoie</th>\n      <th>Voie</th>\n      <th>CP</th>\n      <th>Commune</th>\n      <th>...</th>\n      <th>SurfaceCarrez4emeLot</th>\n      <th>CinquiemeLot</th>\n      <th>SurfaceCarrez5emeLot</th>\n      <th>NombreLots</th>\n      <th>CodeTypeLocal</th>\n      <th>SurfaceReelleBati</th>\n      <th>NombrePiecesPrincipales</th>\n      <th>NatureCulture</th>\n      <th>NatureCultureSpeciale</th>\n      <th>SurfaceTerrain</th>\n    </tr>\n  </thead>\n  <tbody>\n    <tr>\n      <th>0</th>\n      <td>1</td>\n      <td>2018-08-14</td>\n      <td>7000000.0</td>\n      <td>14.0</td>\n      <td>NaN</td>\n      <td>RUE</td>\n      <td>0100</td>\n      <td>DU PETIT MOULIN</td>\n      <td>33230</td>\n      <td>ABZAC</td>\n      <td>...</td>\n      <td>NaN</td>\n      <td>NaN</td>\n      <td>NaN</td>\n      <td>0</td>\n      <td>1</td>\n      <td>66.0</td>\n      <td>4.0</td>\n      <td>T</td>\n      <td>NaN</td>\n      <td>370.0</td>\n    </tr>\n    <tr>\n      <th>1</th>\n      <td>1</td>\n      <td>2018-08-01</td>\n      <td>40000000.0</td>\n      <td>14.0</td>\n      <td>Y</td>\n      <td>RUE</td>\n      <td>0065</td>\n      <td>JEAN ACHARD</td>\n      <td>33230</td>\n      <td>ABZAC</td>\n      <td>...</td>\n      <td>NaN</td>\n      <td>NaN</td>\n      <td>NaN</td>\n      <td>0</td>\n      <td>1</td>\n      <td>222.0</td>\n      <td>6.0</td>\n      <td>S</td>\n      <td>NaN</td>\n      <td>83.0</td>\n    </tr>\n    <tr>\n      <th>2</th>\n      <td>1</td>\n      <td>2018-08-27</td>\n      <td>13500000.0</td>\n      <td>1.0</td>\n      <td>B</td>\n      <td>NaN</td>\n      <td>B083</td>\n      <td>GRAND PIRON</td>\n      <td>33230</td>\n      <td>ABZAC</td>\n      <td>...</td>\n      <td>NaN</td>\n      <td>NaN</td>\n      <td>NaN</td>\n      <td>0</td>\n      <td>1</td>\n      <td>111.0</td>\n      <td>4.0</td>\n      <td>S</td>\n      <td>NaN</td>\n      <td>437.0</td>\n    </tr>\n    <tr>\n      <th>3</th>\n      <td>1</td>\n      <td>2018-08-13</td>\n      <td>19800000.0</td>\n      <td>412.0</td>\n      <td>C</td>\n      <td>NaN</td>\n      <td>B144</td>\n      <td>LES SERRES EST</td>\n      <td>33230</td>\n      <td>ABZAC</td>\n      <td>...</td>\n      <td>NaN</td>\n      <td>NaN</td>\n      <td>NaN</td>\n      <td>0</td>\n      <td>1</td>\n      <td>108.0</td>\n      <td>4.0</td>\n      <td>P</td>\n      <td>NaN</td>\n      <td>2345.0</td>\n    </tr>\n    <tr>\n      <th>4</th>\n      <td>1</td>\n      <td>2018-08-13</td>\n      <td>19800000.0</td>\n      <td>412.0</td>\n      <td>C</td>\n      <td>NaN</td>\n      <td>B144</td>\n      <td>LES SERRES EST</td>\n      <td>33230</td>\n      <td>ABZAC</td>\n      <td>...</td>\n      <td>NaN</td>\n      <td>NaN</td>\n      <td>NaN</td>\n      <td>0</td>\n      <td>1</td>\n      <td>108.0</td>\n      <td>4.0</td>\n      <td>S</td>\n      <td>NaN</td>\n      <td>288.0</td>\n    </tr>\n    <tr>\n      <th>...</th>\n      <td>...</td>\n      <td>...</td>\n      <td>...</td>\n      <td>...</td>\n      <td>...</td>\n      <td>...</td>\n      <td>...</td>\n      <td>...</td>\n      <td>...</td>\n      <td>...</td>\n      <td>...</td>\n      <td>...</td>\n      <td>...</td>\n      <td>...</td>\n      <td>...</td>\n      <td>...</td>\n      <td>...</td>\n      <td>...</td>\n      <td>...</td>\n      <td>...</td>\n      <td>...</td>\n    </tr>\n    <tr>\n      <th>175012</th>\n      <td>1</td>\n      <td>2023-03-01</td>\n      <td>37275000.0</td>\n      <td>54.0</td>\n      <td>NaN</td>\n      <td>AV</td>\n      <td>0510</td>\n      <td>DU PIN FRANC</td>\n      <td>33370</td>\n      <td>YVRAC</td>\n      <td>...</td>\n      <td>NaN</td>\n      <td>NaN</td>\n      <td>NaN</td>\n      <td>0</td>\n      <td>1</td>\n      <td>120.0</td>\n      <td>4.0</td>\n      <td>S</td>\n      <td>NaN</td>\n      <td>993.0</td>\n    </tr>\n    <tr>\n      <th>175013</th>\n      <td>1</td>\n      <td>2023-03-29</td>\n      <td>32500000.0</td>\n      <td>52.0</td>\n      <td>NaN</td>\n      <td>AV</td>\n      <td>0700</td>\n      <td>DES TABERNOTTES</td>\n      <td>33370</td>\n      <td>YVRAC</td>\n      <td>...</td>\n      <td>NaN</td>\n      <td>NaN</td>\n      <td>NaN</td>\n      <td>0</td>\n      <td>1</td>\n      <td>90.0</td>\n      <td>4.0</td>\n      <td>S</td>\n      <td>NaN</td>\n      <td>198.0</td>\n    </tr>\n    <tr>\n      <th>175014</th>\n      <td>1</td>\n      <td>2023-06-29</td>\n      <td>22000000.0</td>\n      <td>30.0</td>\n      <td>NaN</td>\n      <td>CHE</td>\n      <td>0277</td>\n      <td>DE CASSIN</td>\n      <td>33370</td>\n      <td>YVRAC</td>\n      <td>...</td>\n      <td>NaN</td>\n      <td>NaN</td>\n      <td>NaN</td>\n      <td>0</td>\n      <td>1</td>\n      <td>100.0</td>\n      <td>3.0</td>\n      <td>S</td>\n      <td>NaN</td>\n      <td>281.0</td>\n    </tr>\n    <tr>\n      <th>175015</th>\n      <td>1</td>\n      <td>2023-06-30</td>\n      <td>35400000.0</td>\n      <td>10.0</td>\n      <td>NaN</td>\n      <td>RUE</td>\n      <td>0287</td>\n      <td>LOT CLOS DU VALLON</td>\n      <td>33370</td>\n      <td>YVRAC</td>\n      <td>...</td>\n      <td>NaN</td>\n      <td>NaN</td>\n      <td>NaN</td>\n      <td>0</td>\n      <td>1</td>\n      <td>95.0</td>\n      <td>4.0</td>\n      <td>S</td>\n      <td>NaN</td>\n      <td>734.0</td>\n    </tr>\n    <tr>\n      <th>175016</th>\n      <td>1</td>\n      <td>2023-06-29</td>\n      <td>8800000.0</td>\n      <td>30.0</td>\n      <td>NaN</td>\n      <td>CHE</td>\n      <td>0277</td>\n      <td>DE CASSIN</td>\n      <td>33370</td>\n      <td>YVRAC</td>\n      <td>...</td>\n      <td>NaN</td>\n      <td>NaN</td>\n      <td>NaN</td>\n      <td>0</td>\n      <td>1</td>\n      <td>100.0</td>\n      <td>3.0</td>\n      <td>S</td>\n      <td>NaN</td>\n      <td>281.0</td>\n    </tr>\n  </tbody>\n</table>\n<p>175017 rows × 32 columns</p>\n</div>"
     },
     "execution_count": 8,
     "metadata": {},
     "output_type": "execute_result"
    }
   ],
   "source": [
    "df = pd.read_csv('../DATA/IN/extract_gold_dvf.csv', sep=';')\n",
    "df"
   ],
   "metadata": {
    "collapsed": false,
    "ExecuteTime": {
     "end_time": "2023-12-13T15:48:41.681867900Z",
     "start_time": "2023-12-13T15:48:41.051876Z"
    }
   },
   "id": "ae1aed074775cda9"
  },
  {
   "cell_type": "code",
   "execution_count": 9,
   "outputs": [
    {
     "data": {
      "text/plain": "              NoDisp  ValeurFonciere         NoVoie             CP  \\\ncount  175017.000000    1.746440e+05  174137.000000  175017.000000   \nmean        1.047887    6.030615e+07     468.383549   33402.674677   \nstd         0.365134    1.910822e+08    1822.357863     263.844566   \nmin         1.000000    1.000000e+02       1.000000   33000.000000   \n25%         1.000000    1.660000e+07       9.000000   33185.000000   \n50%         1.000000    2.600000e+07      23.000000   33380.000000   \n75%         1.000000    4.190000e+07      70.000000   33610.000000   \nmax        43.000000    7.227737e+09    9999.000000   33990.000000   \n\n       CodeDepartement    CodeCommune  PrefixeSection         NoPlan  \\\ncount         175017.0  175017.000000      888.000000  175017.000000   \nmean              33.0     226.435781      211.127252     375.886428   \nstd                0.0     171.022436      173.697104     504.774861   \nmin               33.0       1.000000       41.000000       1.000000   \n25%               33.0      63.000000       41.000000      88.000000   \n50%               33.0     200.000000      107.000000     203.000000   \n75%               33.0     339.000000      346.250000     455.000000   \nmax               33.0     555.000000      495.000000    6250.000000   \n\n       SurfaceCarrez1erLot  SurfaceCarrez2emeLot  ...  SurfaceCarrez3emeLot  \\\ncount         30653.000000           2974.000000  ...            397.000000   \nmean           5667.154145           6058.263618  ...           5573.095718   \nstd            5569.021462           2672.573584  ...           3028.258151   \nmin             144.000000            189.000000  ...            804.000000   \n25%            3747.000000           4214.000000  ...           3581.000000   \n50%            5203.000000           6097.500000  ...           5756.000000   \n75%            6972.000000           7533.000000  ...           6783.000000   \nmax          620200.000000          31000.000000  ...          26234.000000   \n\n       QuatriemeLot  SurfaceCarrez4emeLot  CinquiemeLot  SurfaceCarrez5emeLot  \\\ncount    348.000000            114.000000     153.00000             83.000000   \nmean      61.212644           3733.894737      56.30719           2833.313253   \nstd      279.931240           3065.943806      78.43622           2509.206574   \nmin        2.000000            600.000000       2.00000            600.000000   \n25%        6.000000           2099.000000       7.00000           2379.000000   \n50%       20.000000           2099.000000      41.00000           2379.000000   \n75%       91.000000           4547.000000      93.00000           2379.000000   \nmax     5078.000000          15670.000000     867.00000          14470.000000   \n\n          NombreLots  CodeTypeLocal  SurfaceReelleBati  \\\ncount  175017.000000  175017.000000      175011.000000   \nmean        0.397601       1.375998          86.619047   \nstd         0.651137       0.484381          48.932895   \nmin         0.000000       1.000000           1.000000   \n25%         0.000000       1.000000          53.000000   \n50%         0.000000       1.000000          80.000000   \n75%         1.000000       2.000000         108.000000   \nmax        17.000000       2.000000        1000.000000   \n\n       NombrePiecesPrincipales  SurfaceTerrain  \ncount            175011.000000   115570.000000  \nmean                  3.538698     3095.653621  \nstd                   1.548442    19125.360711  \nmin                   0.000000        1.000000  \n25%                   2.000000      281.000000  \n50%                   4.000000      522.000000  \n75%                   4.000000      936.000000  \nmax                  54.000000   382680.000000  \n\n[8 rows x 21 columns]",
      "text/html": "<div>\n<style scoped>\n    .dataframe tbody tr th:only-of-type {\n        vertical-align: middle;\n    }\n\n    .dataframe tbody tr th {\n        vertical-align: top;\n    }\n\n    .dataframe thead th {\n        text-align: right;\n    }\n</style>\n<table border=\"1\" class=\"dataframe\">\n  <thead>\n    <tr style=\"text-align: right;\">\n      <th></th>\n      <th>NoDisp</th>\n      <th>ValeurFonciere</th>\n      <th>NoVoie</th>\n      <th>CP</th>\n      <th>CodeDepartement</th>\n      <th>CodeCommune</th>\n      <th>PrefixeSection</th>\n      <th>NoPlan</th>\n      <th>SurfaceCarrez1erLot</th>\n      <th>SurfaceCarrez2emeLot</th>\n      <th>...</th>\n      <th>SurfaceCarrez3emeLot</th>\n      <th>QuatriemeLot</th>\n      <th>SurfaceCarrez4emeLot</th>\n      <th>CinquiemeLot</th>\n      <th>SurfaceCarrez5emeLot</th>\n      <th>NombreLots</th>\n      <th>CodeTypeLocal</th>\n      <th>SurfaceReelleBati</th>\n      <th>NombrePiecesPrincipales</th>\n      <th>SurfaceTerrain</th>\n    </tr>\n  </thead>\n  <tbody>\n    <tr>\n      <th>count</th>\n      <td>175017.000000</td>\n      <td>1.746440e+05</td>\n      <td>174137.000000</td>\n      <td>175017.000000</td>\n      <td>175017.0</td>\n      <td>175017.000000</td>\n      <td>888.000000</td>\n      <td>175017.000000</td>\n      <td>30653.000000</td>\n      <td>2974.000000</td>\n      <td>...</td>\n      <td>397.000000</td>\n      <td>348.000000</td>\n      <td>114.000000</td>\n      <td>153.00000</td>\n      <td>83.000000</td>\n      <td>175017.000000</td>\n      <td>175017.000000</td>\n      <td>175011.000000</td>\n      <td>175011.000000</td>\n      <td>115570.000000</td>\n    </tr>\n    <tr>\n      <th>mean</th>\n      <td>1.047887</td>\n      <td>6.030615e+07</td>\n      <td>468.383549</td>\n      <td>33402.674677</td>\n      <td>33.0</td>\n      <td>226.435781</td>\n      <td>211.127252</td>\n      <td>375.886428</td>\n      <td>5667.154145</td>\n      <td>6058.263618</td>\n      <td>...</td>\n      <td>5573.095718</td>\n      <td>61.212644</td>\n      <td>3733.894737</td>\n      <td>56.30719</td>\n      <td>2833.313253</td>\n      <td>0.397601</td>\n      <td>1.375998</td>\n      <td>86.619047</td>\n      <td>3.538698</td>\n      <td>3095.653621</td>\n    </tr>\n    <tr>\n      <th>std</th>\n      <td>0.365134</td>\n      <td>1.910822e+08</td>\n      <td>1822.357863</td>\n      <td>263.844566</td>\n      <td>0.0</td>\n      <td>171.022436</td>\n      <td>173.697104</td>\n      <td>504.774861</td>\n      <td>5569.021462</td>\n      <td>2672.573584</td>\n      <td>...</td>\n      <td>3028.258151</td>\n      <td>279.931240</td>\n      <td>3065.943806</td>\n      <td>78.43622</td>\n      <td>2509.206574</td>\n      <td>0.651137</td>\n      <td>0.484381</td>\n      <td>48.932895</td>\n      <td>1.548442</td>\n      <td>19125.360711</td>\n    </tr>\n    <tr>\n      <th>min</th>\n      <td>1.000000</td>\n      <td>1.000000e+02</td>\n      <td>1.000000</td>\n      <td>33000.000000</td>\n      <td>33.0</td>\n      <td>1.000000</td>\n      <td>41.000000</td>\n      <td>1.000000</td>\n      <td>144.000000</td>\n      <td>189.000000</td>\n      <td>...</td>\n      <td>804.000000</td>\n      <td>2.000000</td>\n      <td>600.000000</td>\n      <td>2.00000</td>\n      <td>600.000000</td>\n      <td>0.000000</td>\n      <td>1.000000</td>\n      <td>1.000000</td>\n      <td>0.000000</td>\n      <td>1.000000</td>\n    </tr>\n    <tr>\n      <th>25%</th>\n      <td>1.000000</td>\n      <td>1.660000e+07</td>\n      <td>9.000000</td>\n      <td>33185.000000</td>\n      <td>33.0</td>\n      <td>63.000000</td>\n      <td>41.000000</td>\n      <td>88.000000</td>\n      <td>3747.000000</td>\n      <td>4214.000000</td>\n      <td>...</td>\n      <td>3581.000000</td>\n      <td>6.000000</td>\n      <td>2099.000000</td>\n      <td>7.00000</td>\n      <td>2379.000000</td>\n      <td>0.000000</td>\n      <td>1.000000</td>\n      <td>53.000000</td>\n      <td>2.000000</td>\n      <td>281.000000</td>\n    </tr>\n    <tr>\n      <th>50%</th>\n      <td>1.000000</td>\n      <td>2.600000e+07</td>\n      <td>23.000000</td>\n      <td>33380.000000</td>\n      <td>33.0</td>\n      <td>200.000000</td>\n      <td>107.000000</td>\n      <td>203.000000</td>\n      <td>5203.000000</td>\n      <td>6097.500000</td>\n      <td>...</td>\n      <td>5756.000000</td>\n      <td>20.000000</td>\n      <td>2099.000000</td>\n      <td>41.00000</td>\n      <td>2379.000000</td>\n      <td>0.000000</td>\n      <td>1.000000</td>\n      <td>80.000000</td>\n      <td>4.000000</td>\n      <td>522.000000</td>\n    </tr>\n    <tr>\n      <th>75%</th>\n      <td>1.000000</td>\n      <td>4.190000e+07</td>\n      <td>70.000000</td>\n      <td>33610.000000</td>\n      <td>33.0</td>\n      <td>339.000000</td>\n      <td>346.250000</td>\n      <td>455.000000</td>\n      <td>6972.000000</td>\n      <td>7533.000000</td>\n      <td>...</td>\n      <td>6783.000000</td>\n      <td>91.000000</td>\n      <td>4547.000000</td>\n      <td>93.00000</td>\n      <td>2379.000000</td>\n      <td>1.000000</td>\n      <td>2.000000</td>\n      <td>108.000000</td>\n      <td>4.000000</td>\n      <td>936.000000</td>\n    </tr>\n    <tr>\n      <th>max</th>\n      <td>43.000000</td>\n      <td>7.227737e+09</td>\n      <td>9999.000000</td>\n      <td>33990.000000</td>\n      <td>33.0</td>\n      <td>555.000000</td>\n      <td>495.000000</td>\n      <td>6250.000000</td>\n      <td>620200.000000</td>\n      <td>31000.000000</td>\n      <td>...</td>\n      <td>26234.000000</td>\n      <td>5078.000000</td>\n      <td>15670.000000</td>\n      <td>867.00000</td>\n      <td>14470.000000</td>\n      <td>17.000000</td>\n      <td>2.000000</td>\n      <td>1000.000000</td>\n      <td>54.000000</td>\n      <td>382680.000000</td>\n    </tr>\n  </tbody>\n</table>\n<p>8 rows × 21 columns</p>\n</div>"
     },
     "execution_count": 9,
     "metadata": {},
     "output_type": "execute_result"
    }
   ],
   "source": [
    "df.describe()"
   ],
   "metadata": {
    "collapsed": false,
    "ExecuteTime": {
     "end_time": "2023-12-13T15:48:54.480547300Z",
     "start_time": "2023-12-13T15:48:54.286239200Z"
    }
   },
   "id": "4fa285bcfd4ec428"
  },
  {
   "cell_type": "code",
   "execution_count": 13,
   "outputs": [],
   "source": [
    "import pandas as pd\n",
    "\n",
    "# Assuming df is your dataframe\n",
    "\n",
    "# Option 1: Fill NaN with a placeholder value, such as 0\n",
    "df['ValeurFonciere'] = df['ValeurFonciere'].fillna(0).astype(int)\n",
    "\n",
    "# Option 2: Drop rows with NaN or infinite values\n",
    "df = df.dropna(subset=['ValeurFonciere'])\n",
    "df['ValeurFonciere'] = df['ValeurFonciere'].astype(int)\n",
    "\n",
    "# Option 3: Convert to a nullable integer type\n",
    "df['ValeurFonciere'] = df['ValeurFonciere'].astype('Int64')\n",
    "\n",
    "# Now when you use df.describe() or simply print(df), it should show the numbers in your desired format.\n"
   ],
   "metadata": {
    "collapsed": false,
    "ExecuteTime": {
     "end_time": "2023-12-13T15:52:27.225613900Z",
     "start_time": "2023-12-13T15:52:27.193476300Z"
    }
   },
   "id": "4d897c4880b26319"
  },
  {
   "cell_type": "code",
   "execution_count": 14,
   "outputs": [
    {
     "data": {
      "text/plain": "(175017, 32)"
     },
     "execution_count": 14,
     "metadata": {},
     "output_type": "execute_result"
    }
   ],
   "source": [
    "df.shape"
   ],
   "metadata": {
    "collapsed": false,
    "ExecuteTime": {
     "end_time": "2023-12-13T15:52:35.520856200Z",
     "start_time": "2023-12-13T15:52:35.501886700Z"
    }
   },
   "id": "a9f8c9661b8d6e09"
  },
  {
   "cell_type": "code",
   "execution_count": 15,
   "outputs": [
    {
     "data": {
      "text/plain": "        NoDisp DateMutation  ValeurFonciere  NoVoie  BTQ TypeVoie CodeVoie  \\\n0            1   2018-08-14         7000000    14.0  NaN      RUE     0100   \n1            1   2018-08-01        40000000    14.0    Y      RUE     0065   \n2            1   2018-08-27        13500000     1.0    B      NaN     B083   \n3            1   2018-08-13        19800000   412.0    C      NaN     B144   \n4            1   2018-08-13        19800000   412.0    C      NaN     B144   \n...        ...          ...             ...     ...  ...      ...      ...   \n175012       1   2023-03-01        37275000    54.0  NaN       AV     0510   \n175013       1   2023-03-29        32500000    52.0  NaN       AV     0700   \n175014       1   2023-06-29        22000000    30.0  NaN      CHE     0277   \n175015       1   2023-06-30        35400000    10.0  NaN      RUE     0287   \n175016       1   2023-06-29         8800000    30.0  NaN      CHE     0277   \n\n                      Voie     CP Commune  ...  SurfaceCarrez4emeLot  \\\n0          DU PETIT MOULIN  33230   ABZAC  ...                   NaN   \n1              JEAN ACHARD  33230   ABZAC  ...                   NaN   \n2              GRAND PIRON  33230   ABZAC  ...                   NaN   \n3           LES SERRES EST  33230   ABZAC  ...                   NaN   \n4           LES SERRES EST  33230   ABZAC  ...                   NaN   \n...                    ...    ...     ...  ...                   ...   \n175012        DU PIN FRANC  33370   YVRAC  ...                   NaN   \n175013     DES TABERNOTTES  33370   YVRAC  ...                   NaN   \n175014           DE CASSIN  33370   YVRAC  ...                   NaN   \n175015  LOT CLOS DU VALLON  33370   YVRAC  ...                   NaN   \n175016           DE CASSIN  33370   YVRAC  ...                   NaN   \n\n        CinquiemeLot  SurfaceCarrez5emeLot NombreLots  CodeTypeLocal  \\\n0                NaN                   NaN          0              1   \n1                NaN                   NaN          0              1   \n2                NaN                   NaN          0              1   \n3                NaN                   NaN          0              1   \n4                NaN                   NaN          0              1   \n...              ...                   ...        ...            ...   \n175012           NaN                   NaN          0              1   \n175013           NaN                   NaN          0              1   \n175014           NaN                   NaN          0              1   \n175015           NaN                   NaN          0              1   \n175016           NaN                   NaN          0              1   \n\n       SurfaceReelleBati  NombrePiecesPrincipales NatureCulture  \\\n0                   66.0                      4.0             T   \n1                  222.0                      6.0             S   \n2                  111.0                      4.0             S   \n3                  108.0                      4.0             P   \n4                  108.0                      4.0             S   \n...                  ...                      ...           ...   \n175012             120.0                      4.0             S   \n175013              90.0                      4.0             S   \n175014             100.0                      3.0             S   \n175015              95.0                      4.0             S   \n175016             100.0                      3.0             S   \n\n        NatureCultureSpeciale  SurfaceTerrain  \n0                         NaN           370.0  \n1                         NaN            83.0  \n2                         NaN           437.0  \n3                         NaN          2345.0  \n4                         NaN           288.0  \n...                       ...             ...  \n175012                    NaN           993.0  \n175013                    NaN           198.0  \n175014                    NaN           281.0  \n175015                    NaN           734.0  \n175016                    NaN           281.0  \n\n[175017 rows x 32 columns]",
      "text/html": "<div>\n<style scoped>\n    .dataframe tbody tr th:only-of-type {\n        vertical-align: middle;\n    }\n\n    .dataframe tbody tr th {\n        vertical-align: top;\n    }\n\n    .dataframe thead th {\n        text-align: right;\n    }\n</style>\n<table border=\"1\" class=\"dataframe\">\n  <thead>\n    <tr style=\"text-align: right;\">\n      <th></th>\n      <th>NoDisp</th>\n      <th>DateMutation</th>\n      <th>ValeurFonciere</th>\n      <th>NoVoie</th>\n      <th>BTQ</th>\n      <th>TypeVoie</th>\n      <th>CodeVoie</th>\n      <th>Voie</th>\n      <th>CP</th>\n      <th>Commune</th>\n      <th>...</th>\n      <th>SurfaceCarrez4emeLot</th>\n      <th>CinquiemeLot</th>\n      <th>SurfaceCarrez5emeLot</th>\n      <th>NombreLots</th>\n      <th>CodeTypeLocal</th>\n      <th>SurfaceReelleBati</th>\n      <th>NombrePiecesPrincipales</th>\n      <th>NatureCulture</th>\n      <th>NatureCultureSpeciale</th>\n      <th>SurfaceTerrain</th>\n    </tr>\n  </thead>\n  <tbody>\n    <tr>\n      <th>0</th>\n      <td>1</td>\n      <td>2018-08-14</td>\n      <td>7000000</td>\n      <td>14.0</td>\n      <td>NaN</td>\n      <td>RUE</td>\n      <td>0100</td>\n      <td>DU PETIT MOULIN</td>\n      <td>33230</td>\n      <td>ABZAC</td>\n      <td>...</td>\n      <td>NaN</td>\n      <td>NaN</td>\n      <td>NaN</td>\n      <td>0</td>\n      <td>1</td>\n      <td>66.0</td>\n      <td>4.0</td>\n      <td>T</td>\n      <td>NaN</td>\n      <td>370.0</td>\n    </tr>\n    <tr>\n      <th>1</th>\n      <td>1</td>\n      <td>2018-08-01</td>\n      <td>40000000</td>\n      <td>14.0</td>\n      <td>Y</td>\n      <td>RUE</td>\n      <td>0065</td>\n      <td>JEAN ACHARD</td>\n      <td>33230</td>\n      <td>ABZAC</td>\n      <td>...</td>\n      <td>NaN</td>\n      <td>NaN</td>\n      <td>NaN</td>\n      <td>0</td>\n      <td>1</td>\n      <td>222.0</td>\n      <td>6.0</td>\n      <td>S</td>\n      <td>NaN</td>\n      <td>83.0</td>\n    </tr>\n    <tr>\n      <th>2</th>\n      <td>1</td>\n      <td>2018-08-27</td>\n      <td>13500000</td>\n      <td>1.0</td>\n      <td>B</td>\n      <td>NaN</td>\n      <td>B083</td>\n      <td>GRAND PIRON</td>\n      <td>33230</td>\n      <td>ABZAC</td>\n      <td>...</td>\n      <td>NaN</td>\n      <td>NaN</td>\n      <td>NaN</td>\n      <td>0</td>\n      <td>1</td>\n      <td>111.0</td>\n      <td>4.0</td>\n      <td>S</td>\n      <td>NaN</td>\n      <td>437.0</td>\n    </tr>\n    <tr>\n      <th>3</th>\n      <td>1</td>\n      <td>2018-08-13</td>\n      <td>19800000</td>\n      <td>412.0</td>\n      <td>C</td>\n      <td>NaN</td>\n      <td>B144</td>\n      <td>LES SERRES EST</td>\n      <td>33230</td>\n      <td>ABZAC</td>\n      <td>...</td>\n      <td>NaN</td>\n      <td>NaN</td>\n      <td>NaN</td>\n      <td>0</td>\n      <td>1</td>\n      <td>108.0</td>\n      <td>4.0</td>\n      <td>P</td>\n      <td>NaN</td>\n      <td>2345.0</td>\n    </tr>\n    <tr>\n      <th>4</th>\n      <td>1</td>\n      <td>2018-08-13</td>\n      <td>19800000</td>\n      <td>412.0</td>\n      <td>C</td>\n      <td>NaN</td>\n      <td>B144</td>\n      <td>LES SERRES EST</td>\n      <td>33230</td>\n      <td>ABZAC</td>\n      <td>...</td>\n      <td>NaN</td>\n      <td>NaN</td>\n      <td>NaN</td>\n      <td>0</td>\n      <td>1</td>\n      <td>108.0</td>\n      <td>4.0</td>\n      <td>S</td>\n      <td>NaN</td>\n      <td>288.0</td>\n    </tr>\n    <tr>\n      <th>...</th>\n      <td>...</td>\n      <td>...</td>\n      <td>...</td>\n      <td>...</td>\n      <td>...</td>\n      <td>...</td>\n      <td>...</td>\n      <td>...</td>\n      <td>...</td>\n      <td>...</td>\n      <td>...</td>\n      <td>...</td>\n      <td>...</td>\n      <td>...</td>\n      <td>...</td>\n      <td>...</td>\n      <td>...</td>\n      <td>...</td>\n      <td>...</td>\n      <td>...</td>\n      <td>...</td>\n    </tr>\n    <tr>\n      <th>175012</th>\n      <td>1</td>\n      <td>2023-03-01</td>\n      <td>37275000</td>\n      <td>54.0</td>\n      <td>NaN</td>\n      <td>AV</td>\n      <td>0510</td>\n      <td>DU PIN FRANC</td>\n      <td>33370</td>\n      <td>YVRAC</td>\n      <td>...</td>\n      <td>NaN</td>\n      <td>NaN</td>\n      <td>NaN</td>\n      <td>0</td>\n      <td>1</td>\n      <td>120.0</td>\n      <td>4.0</td>\n      <td>S</td>\n      <td>NaN</td>\n      <td>993.0</td>\n    </tr>\n    <tr>\n      <th>175013</th>\n      <td>1</td>\n      <td>2023-03-29</td>\n      <td>32500000</td>\n      <td>52.0</td>\n      <td>NaN</td>\n      <td>AV</td>\n      <td>0700</td>\n      <td>DES TABERNOTTES</td>\n      <td>33370</td>\n      <td>YVRAC</td>\n      <td>...</td>\n      <td>NaN</td>\n      <td>NaN</td>\n      <td>NaN</td>\n      <td>0</td>\n      <td>1</td>\n      <td>90.0</td>\n      <td>4.0</td>\n      <td>S</td>\n      <td>NaN</td>\n      <td>198.0</td>\n    </tr>\n    <tr>\n      <th>175014</th>\n      <td>1</td>\n      <td>2023-06-29</td>\n      <td>22000000</td>\n      <td>30.0</td>\n      <td>NaN</td>\n      <td>CHE</td>\n      <td>0277</td>\n      <td>DE CASSIN</td>\n      <td>33370</td>\n      <td>YVRAC</td>\n      <td>...</td>\n      <td>NaN</td>\n      <td>NaN</td>\n      <td>NaN</td>\n      <td>0</td>\n      <td>1</td>\n      <td>100.0</td>\n      <td>3.0</td>\n      <td>S</td>\n      <td>NaN</td>\n      <td>281.0</td>\n    </tr>\n    <tr>\n      <th>175015</th>\n      <td>1</td>\n      <td>2023-06-30</td>\n      <td>35400000</td>\n      <td>10.0</td>\n      <td>NaN</td>\n      <td>RUE</td>\n      <td>0287</td>\n      <td>LOT CLOS DU VALLON</td>\n      <td>33370</td>\n      <td>YVRAC</td>\n      <td>...</td>\n      <td>NaN</td>\n      <td>NaN</td>\n      <td>NaN</td>\n      <td>0</td>\n      <td>1</td>\n      <td>95.0</td>\n      <td>4.0</td>\n      <td>S</td>\n      <td>NaN</td>\n      <td>734.0</td>\n    </tr>\n    <tr>\n      <th>175016</th>\n      <td>1</td>\n      <td>2023-06-29</td>\n      <td>8800000</td>\n      <td>30.0</td>\n      <td>NaN</td>\n      <td>CHE</td>\n      <td>0277</td>\n      <td>DE CASSIN</td>\n      <td>33370</td>\n      <td>YVRAC</td>\n      <td>...</td>\n      <td>NaN</td>\n      <td>NaN</td>\n      <td>NaN</td>\n      <td>0</td>\n      <td>1</td>\n      <td>100.0</td>\n      <td>3.0</td>\n      <td>S</td>\n      <td>NaN</td>\n      <td>281.0</td>\n    </tr>\n  </tbody>\n</table>\n<p>175017 rows × 32 columns</p>\n</div>"
     },
     "execution_count": 15,
     "metadata": {},
     "output_type": "execute_result"
    }
   ],
   "source": [
    "df"
   ],
   "metadata": {
    "collapsed": false,
    "ExecuteTime": {
     "end_time": "2023-12-13T15:52:38.585968Z",
     "start_time": "2023-12-13T15:52:38.486019900Z"
    }
   },
   "id": "4044e96c48cb6a99"
  },
  {
   "cell_type": "code",
   "execution_count": 16,
   "outputs": [
    {
     "data": {
      "text/plain": "              NoDisp    ValeurFonciere         NoVoie             CP  \\\ncount  175017.000000          175017.0  174137.000000  175017.000000   \nmean        1.047887   50256379.015221     468.383549   33402.674677   \nstd         0.365134  161287868.905562    1822.357863     263.844566   \nmin         1.000000     -2147483648.0       1.000000   33000.000000   \n25%         1.000000        16500000.0       9.000000   33185.000000   \n50%         1.000000        26000000.0      23.000000   33380.000000   \n75%         1.000000        41575000.0      70.000000   33610.000000   \nmax        43.000000      2090000000.0    9999.000000   33990.000000   \n\n       CodeDepartement    CodeCommune  PrefixeSection         NoPlan  \\\ncount         175017.0  175017.000000      888.000000  175017.000000   \nmean              33.0     226.435781      211.127252     375.886428   \nstd                0.0     171.022436      173.697104     504.774861   \nmin               33.0       1.000000       41.000000       1.000000   \n25%               33.0      63.000000       41.000000      88.000000   \n50%               33.0     200.000000      107.000000     203.000000   \n75%               33.0     339.000000      346.250000     455.000000   \nmax               33.0     555.000000      495.000000    6250.000000   \n\n       SurfaceCarrez1erLot  SurfaceCarrez2emeLot  ...  SurfaceCarrez3emeLot  \\\ncount         30653.000000           2974.000000  ...            397.000000   \nmean           5667.154145           6058.263618  ...           5573.095718   \nstd            5569.021462           2672.573584  ...           3028.258151   \nmin             144.000000            189.000000  ...            804.000000   \n25%            3747.000000           4214.000000  ...           3581.000000   \n50%            5203.000000           6097.500000  ...           5756.000000   \n75%            6972.000000           7533.000000  ...           6783.000000   \nmax          620200.000000          31000.000000  ...          26234.000000   \n\n       QuatriemeLot  SurfaceCarrez4emeLot  CinquiemeLot  SurfaceCarrez5emeLot  \\\ncount    348.000000            114.000000     153.00000             83.000000   \nmean      61.212644           3733.894737      56.30719           2833.313253   \nstd      279.931240           3065.943806      78.43622           2509.206574   \nmin        2.000000            600.000000       2.00000            600.000000   \n25%        6.000000           2099.000000       7.00000           2379.000000   \n50%       20.000000           2099.000000      41.00000           2379.000000   \n75%       91.000000           4547.000000      93.00000           2379.000000   \nmax     5078.000000          15670.000000     867.00000          14470.000000   \n\n          NombreLots  CodeTypeLocal  SurfaceReelleBati  \\\ncount  175017.000000  175017.000000      175011.000000   \nmean        0.397601       1.375998          86.619047   \nstd         0.651137       0.484381          48.932895   \nmin         0.000000       1.000000           1.000000   \n25%         0.000000       1.000000          53.000000   \n50%         0.000000       1.000000          80.000000   \n75%         1.000000       2.000000         108.000000   \nmax        17.000000       2.000000        1000.000000   \n\n       NombrePiecesPrincipales  SurfaceTerrain  \ncount            175011.000000   115570.000000  \nmean                  3.538698     3095.653621  \nstd                   1.548442    19125.360711  \nmin                   0.000000        1.000000  \n25%                   2.000000      281.000000  \n50%                   4.000000      522.000000  \n75%                   4.000000      936.000000  \nmax                  54.000000   382680.000000  \n\n[8 rows x 21 columns]",
      "text/html": "<div>\n<style scoped>\n    .dataframe tbody tr th:only-of-type {\n        vertical-align: middle;\n    }\n\n    .dataframe tbody tr th {\n        vertical-align: top;\n    }\n\n    .dataframe thead th {\n        text-align: right;\n    }\n</style>\n<table border=\"1\" class=\"dataframe\">\n  <thead>\n    <tr style=\"text-align: right;\">\n      <th></th>\n      <th>NoDisp</th>\n      <th>ValeurFonciere</th>\n      <th>NoVoie</th>\n      <th>CP</th>\n      <th>CodeDepartement</th>\n      <th>CodeCommune</th>\n      <th>PrefixeSection</th>\n      <th>NoPlan</th>\n      <th>SurfaceCarrez1erLot</th>\n      <th>SurfaceCarrez2emeLot</th>\n      <th>...</th>\n      <th>SurfaceCarrez3emeLot</th>\n      <th>QuatriemeLot</th>\n      <th>SurfaceCarrez4emeLot</th>\n      <th>CinquiemeLot</th>\n      <th>SurfaceCarrez5emeLot</th>\n      <th>NombreLots</th>\n      <th>CodeTypeLocal</th>\n      <th>SurfaceReelleBati</th>\n      <th>NombrePiecesPrincipales</th>\n      <th>SurfaceTerrain</th>\n    </tr>\n  </thead>\n  <tbody>\n    <tr>\n      <th>count</th>\n      <td>175017.000000</td>\n      <td>175017.0</td>\n      <td>174137.000000</td>\n      <td>175017.000000</td>\n      <td>175017.0</td>\n      <td>175017.000000</td>\n      <td>888.000000</td>\n      <td>175017.000000</td>\n      <td>30653.000000</td>\n      <td>2974.000000</td>\n      <td>...</td>\n      <td>397.000000</td>\n      <td>348.000000</td>\n      <td>114.000000</td>\n      <td>153.00000</td>\n      <td>83.000000</td>\n      <td>175017.000000</td>\n      <td>175017.000000</td>\n      <td>175011.000000</td>\n      <td>175011.000000</td>\n      <td>115570.000000</td>\n    </tr>\n    <tr>\n      <th>mean</th>\n      <td>1.047887</td>\n      <td>50256379.015221</td>\n      <td>468.383549</td>\n      <td>33402.674677</td>\n      <td>33.0</td>\n      <td>226.435781</td>\n      <td>211.127252</td>\n      <td>375.886428</td>\n      <td>5667.154145</td>\n      <td>6058.263618</td>\n      <td>...</td>\n      <td>5573.095718</td>\n      <td>61.212644</td>\n      <td>3733.894737</td>\n      <td>56.30719</td>\n      <td>2833.313253</td>\n      <td>0.397601</td>\n      <td>1.375998</td>\n      <td>86.619047</td>\n      <td>3.538698</td>\n      <td>3095.653621</td>\n    </tr>\n    <tr>\n      <th>std</th>\n      <td>0.365134</td>\n      <td>161287868.905562</td>\n      <td>1822.357863</td>\n      <td>263.844566</td>\n      <td>0.0</td>\n      <td>171.022436</td>\n      <td>173.697104</td>\n      <td>504.774861</td>\n      <td>5569.021462</td>\n      <td>2672.573584</td>\n      <td>...</td>\n      <td>3028.258151</td>\n      <td>279.931240</td>\n      <td>3065.943806</td>\n      <td>78.43622</td>\n      <td>2509.206574</td>\n      <td>0.651137</td>\n      <td>0.484381</td>\n      <td>48.932895</td>\n      <td>1.548442</td>\n      <td>19125.360711</td>\n    </tr>\n    <tr>\n      <th>min</th>\n      <td>1.000000</td>\n      <td>-2147483648.0</td>\n      <td>1.000000</td>\n      <td>33000.000000</td>\n      <td>33.0</td>\n      <td>1.000000</td>\n      <td>41.000000</td>\n      <td>1.000000</td>\n      <td>144.000000</td>\n      <td>189.000000</td>\n      <td>...</td>\n      <td>804.000000</td>\n      <td>2.000000</td>\n      <td>600.000000</td>\n      <td>2.00000</td>\n      <td>600.000000</td>\n      <td>0.000000</td>\n      <td>1.000000</td>\n      <td>1.000000</td>\n      <td>0.000000</td>\n      <td>1.000000</td>\n    </tr>\n    <tr>\n      <th>25%</th>\n      <td>1.000000</td>\n      <td>16500000.0</td>\n      <td>9.000000</td>\n      <td>33185.000000</td>\n      <td>33.0</td>\n      <td>63.000000</td>\n      <td>41.000000</td>\n      <td>88.000000</td>\n      <td>3747.000000</td>\n      <td>4214.000000</td>\n      <td>...</td>\n      <td>3581.000000</td>\n      <td>6.000000</td>\n      <td>2099.000000</td>\n      <td>7.00000</td>\n      <td>2379.000000</td>\n      <td>0.000000</td>\n      <td>1.000000</td>\n      <td>53.000000</td>\n      <td>2.000000</td>\n      <td>281.000000</td>\n    </tr>\n    <tr>\n      <th>50%</th>\n      <td>1.000000</td>\n      <td>26000000.0</td>\n      <td>23.000000</td>\n      <td>33380.000000</td>\n      <td>33.0</td>\n      <td>200.000000</td>\n      <td>107.000000</td>\n      <td>203.000000</td>\n      <td>5203.000000</td>\n      <td>6097.500000</td>\n      <td>...</td>\n      <td>5756.000000</td>\n      <td>20.000000</td>\n      <td>2099.000000</td>\n      <td>41.00000</td>\n      <td>2379.000000</td>\n      <td>0.000000</td>\n      <td>1.000000</td>\n      <td>80.000000</td>\n      <td>4.000000</td>\n      <td>522.000000</td>\n    </tr>\n    <tr>\n      <th>75%</th>\n      <td>1.000000</td>\n      <td>41575000.0</td>\n      <td>70.000000</td>\n      <td>33610.000000</td>\n      <td>33.0</td>\n      <td>339.000000</td>\n      <td>346.250000</td>\n      <td>455.000000</td>\n      <td>6972.000000</td>\n      <td>7533.000000</td>\n      <td>...</td>\n      <td>6783.000000</td>\n      <td>91.000000</td>\n      <td>4547.000000</td>\n      <td>93.00000</td>\n      <td>2379.000000</td>\n      <td>1.000000</td>\n      <td>2.000000</td>\n      <td>108.000000</td>\n      <td>4.000000</td>\n      <td>936.000000</td>\n    </tr>\n    <tr>\n      <th>max</th>\n      <td>43.000000</td>\n      <td>2090000000.0</td>\n      <td>9999.000000</td>\n      <td>33990.000000</td>\n      <td>33.0</td>\n      <td>555.000000</td>\n      <td>495.000000</td>\n      <td>6250.000000</td>\n      <td>620200.000000</td>\n      <td>31000.000000</td>\n      <td>...</td>\n      <td>26234.000000</td>\n      <td>5078.000000</td>\n      <td>15670.000000</td>\n      <td>867.00000</td>\n      <td>14470.000000</td>\n      <td>17.000000</td>\n      <td>2.000000</td>\n      <td>1000.000000</td>\n      <td>54.000000</td>\n      <td>382680.000000</td>\n    </tr>\n  </tbody>\n</table>\n<p>8 rows × 21 columns</p>\n</div>"
     },
     "execution_count": 16,
     "metadata": {},
     "output_type": "execute_result"
    }
   ],
   "source": [
    "df.describe()"
   ],
   "metadata": {
    "collapsed": false,
    "ExecuteTime": {
     "end_time": "2023-12-13T15:52:45.039279600Z",
     "start_time": "2023-12-13T15:52:44.846509600Z"
    }
   },
   "id": "c45280910c5c20b4"
  },
  {
   "cell_type": "code",
   "execution_count": 17,
   "outputs": [
    {
     "ename": "TypeError",
     "evalue": "unhashable type: 'Series'",
     "output_type": "error",
     "traceback": [
      "\u001B[1;31m---------------------------------------------------------------------------\u001B[0m",
      "\u001B[1;31mTypeError\u001B[0m                                 Traceback (most recent call last)",
      "\u001B[1;32m~\\AppData\\Local\\Temp\\ipykernel_27140\\2077678430.py\u001B[0m in \u001B[0;36m?\u001B[1;34m()\u001B[0m\n\u001B[1;32m----> 1\u001B[1;33m \u001B[0mdf\u001B[0m\u001B[1;33m.\u001B[0m\u001B[0mloc\u001B[0m\u001B[1;33m(\u001B[0m\u001B[1;33m(\u001B[0m\u001B[0mdf\u001B[0m\u001B[1;33m[\u001B[0m\u001B[1;34m'ValeurFonciere'\u001B[0m\u001B[1;33m]\u001B[0m \u001B[1;33m<\u001B[0m \u001B[1;36m1500000\u001B[0m\u001B[1;33m)\u001B[0m \u001B[1;33m&\u001B[0m \u001B[1;33m(\u001B[0m\u001B[0mdf\u001B[0m\u001B[1;33m[\u001B[0m\u001B[1;34m'ValeurFonciere'\u001B[0m\u001B[1;33m]\u001B[0m \u001B[1;33m>\u001B[0m \u001B[1;36m50000\u001B[0m\u001B[1;33m)\u001B[0m\u001B[1;33m)\u001B[0m\u001B[1;33m\u001B[0m\u001B[1;33m\u001B[0m\u001B[0m\n\u001B[0m",
      "\u001B[1;32m~\\.conda\\envs\\EXPLO_DVF\\lib\\site-packages\\pandas\\core\\indexing.py\u001B[0m in \u001B[0;36m?\u001B[1;34m(self, axis)\u001B[0m\n\u001B[0;32m    718\u001B[0m         \u001B[1;31m# we need to return a copy of ourselves\u001B[0m\u001B[1;33m\u001B[0m\u001B[1;33m\u001B[0m\u001B[0m\n\u001B[0;32m    719\u001B[0m         \u001B[0mnew_self\u001B[0m \u001B[1;33m=\u001B[0m \u001B[0mtype\u001B[0m\u001B[1;33m(\u001B[0m\u001B[0mself\u001B[0m\u001B[1;33m)\u001B[0m\u001B[1;33m(\u001B[0m\u001B[0mself\u001B[0m\u001B[1;33m.\u001B[0m\u001B[0mname\u001B[0m\u001B[1;33m,\u001B[0m \u001B[0mself\u001B[0m\u001B[1;33m.\u001B[0m\u001B[0mobj\u001B[0m\u001B[1;33m)\u001B[0m\u001B[1;33m\u001B[0m\u001B[1;33m\u001B[0m\u001B[0m\n\u001B[0;32m    720\u001B[0m \u001B[1;33m\u001B[0m\u001B[0m\n\u001B[0;32m    721\u001B[0m         \u001B[1;32mif\u001B[0m \u001B[0maxis\u001B[0m \u001B[1;32mis\u001B[0m \u001B[1;32mnot\u001B[0m \u001B[1;32mNone\u001B[0m\u001B[1;33m:\u001B[0m\u001B[1;33m\u001B[0m\u001B[1;33m\u001B[0m\u001B[0m\n\u001B[1;32m--> 722\u001B[1;33m             \u001B[0maxis_int_none\u001B[0m \u001B[1;33m=\u001B[0m \u001B[0mself\u001B[0m\u001B[1;33m.\u001B[0m\u001B[0mobj\u001B[0m\u001B[1;33m.\u001B[0m\u001B[0m_get_axis_number\u001B[0m\u001B[1;33m(\u001B[0m\u001B[0maxis\u001B[0m\u001B[1;33m)\u001B[0m\u001B[1;33m\u001B[0m\u001B[1;33m\u001B[0m\u001B[0m\n\u001B[0m\u001B[0;32m    723\u001B[0m         \u001B[1;32melse\u001B[0m\u001B[1;33m:\u001B[0m\u001B[1;33m\u001B[0m\u001B[1;33m\u001B[0m\u001B[0m\n\u001B[0;32m    724\u001B[0m             \u001B[0maxis_int_none\u001B[0m \u001B[1;33m=\u001B[0m \u001B[0maxis\u001B[0m\u001B[1;33m\u001B[0m\u001B[1;33m\u001B[0m\u001B[0m\n\u001B[0;32m    725\u001B[0m         \u001B[0mnew_self\u001B[0m\u001B[1;33m.\u001B[0m\u001B[0maxis\u001B[0m \u001B[1;33m=\u001B[0m \u001B[0maxis_int_none\u001B[0m\u001B[1;33m\u001B[0m\u001B[1;33m\u001B[0m\u001B[0m\n",
      "\u001B[1;32m~\\.conda\\envs\\EXPLO_DVF\\lib\\site-packages\\pandas\\core\\generic.py\u001B[0m in \u001B[0;36m?\u001B[1;34m(cls, axis)\u001B[0m\n\u001B[0;32m    549\u001B[0m     \u001B[1;33m@\u001B[0m\u001B[0mclassmethod\u001B[0m\u001B[1;33m\u001B[0m\u001B[1;33m\u001B[0m\u001B[0m\n\u001B[0;32m    550\u001B[0m     \u001B[1;32mdef\u001B[0m \u001B[0m_get_axis_number\u001B[0m\u001B[1;33m(\u001B[0m\u001B[0mcls\u001B[0m\u001B[1;33m,\u001B[0m \u001B[0maxis\u001B[0m\u001B[1;33m:\u001B[0m \u001B[0mAxis\u001B[0m\u001B[1;33m)\u001B[0m \u001B[1;33m->\u001B[0m \u001B[0mAxisInt\u001B[0m\u001B[1;33m:\u001B[0m\u001B[1;33m\u001B[0m\u001B[1;33m\u001B[0m\u001B[0m\n\u001B[0;32m    551\u001B[0m         \u001B[1;32mtry\u001B[0m\u001B[1;33m:\u001B[0m\u001B[1;33m\u001B[0m\u001B[1;33m\u001B[0m\u001B[0m\n\u001B[0;32m    552\u001B[0m             \u001B[1;32mreturn\u001B[0m \u001B[0mcls\u001B[0m\u001B[1;33m.\u001B[0m\u001B[0m_AXIS_TO_AXIS_NUMBER\u001B[0m\u001B[1;33m[\u001B[0m\u001B[0maxis\u001B[0m\u001B[1;33m]\u001B[0m\u001B[1;33m\u001B[0m\u001B[1;33m\u001B[0m\u001B[0m\n\u001B[1;32m--> 553\u001B[1;33m         \u001B[1;32mexcept\u001B[0m \u001B[0mKeyError\u001B[0m\u001B[1;33m:\u001B[0m\u001B[1;33m\u001B[0m\u001B[1;33m\u001B[0m\u001B[0m\n\u001B[0m\u001B[0;32m    554\u001B[0m             \u001B[1;32mraise\u001B[0m \u001B[0mValueError\u001B[0m\u001B[1;33m(\u001B[0m\u001B[1;34mf\"No axis named {axis} for object type {cls.__name__}\"\u001B[0m\u001B[1;33m)\u001B[0m\u001B[1;33m\u001B[0m\u001B[1;33m\u001B[0m\u001B[0m\n",
      "\u001B[1;31mTypeError\u001B[0m: unhashable type: 'Series'"
     ]
    }
   ],
   "source": [
    "df.loc((df['ValeurFonciere'] < 1500000) & (df['ValeurFonciere'] > 50000))"
   ],
   "metadata": {
    "collapsed": false,
    "ExecuteTime": {
     "end_time": "2023-12-13T15:54:47.295143100Z",
     "start_time": "2023-12-13T15:54:47.240348600Z"
    }
   },
   "id": "576403fc85f57d8"
  },
  {
   "cell_type": "code",
   "execution_count": null,
   "outputs": [],
   "source": [],
   "metadata": {
    "collapsed": false
   },
   "id": "5b03dcb847b7272"
  }
 ],
 "metadata": {
  "kernelspec": {
   "display_name": "Python 3",
   "language": "python",
   "name": "python3"
  },
  "language_info": {
   "codemirror_mode": {
    "name": "ipython",
    "version": 2
   },
   "file_extension": ".py",
   "mimetype": "text/x-python",
   "name": "python",
   "nbconvert_exporter": "python",
   "pygments_lexer": "ipython2",
   "version": "2.7.6"
  }
 },
 "nbformat": 4,
 "nbformat_minor": 5
}
