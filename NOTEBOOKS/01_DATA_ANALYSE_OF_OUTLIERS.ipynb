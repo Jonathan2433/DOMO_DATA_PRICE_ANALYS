{
 "cells": [
  {
   "cell_type": "markdown",
   "source": [
    "# IMPORT DES LIBRAIRIES "
   ],
   "metadata": {
    "collapsed": false
   },
   "id": "978d8a924d544431"
  },
  {
   "cell_type": "code",
   "execution_count": 486,
   "id": "initial_id",
   "metadata": {
    "collapsed": true,
    "ExecuteTime": {
     "end_time": "2024-03-29T14:37:19.982276600Z",
     "start_time": "2024-03-29T14:37:19.685156500Z"
    }
   },
   "outputs": [],
   "source": [
    "import pandas as pd\n",
    "import seaborn as sns\n",
    "import matplotlib.pyplot as plt\n",
    "import numpy as np\n",
    "import plotly.express as px"
   ]
  },
  {
   "cell_type": "markdown",
   "source": [
    "# OUVERTURE DU JEU DE DONNEES"
   ],
   "metadata": {
    "collapsed": false
   },
   "id": "35397929e33d8a1e"
  },
  {
   "cell_type": "code",
   "execution_count": 487,
   "outputs": [
    {
     "name": "stderr",
     "output_type": "stream",
     "text": [
      "C:\\Users\\jonat\\AppData\\Local\\Temp\\ipykernel_11460\\3720063734.py:1: DtypeWarning:\n",
      "\n",
      "Columns (15,17) have mixed types. Specify dtype option on import or set low_memory=False.\n",
      "\n"
     ]
    },
    {
     "data": {
      "text/plain": "   NoDisp DateMutation  ValeurFonciere  NoVoie  BTQ TypeVoie CodeVoie  \\\n0       1   2021-04-26        311650.0      16  NaN      RUE     0270   \n1       1   2021-04-26        122000.0      28  NaN      CRS     0840   \n2       1   2021-04-23        420612.0      47  NaN      RUE     0144   \n3       1   2021-04-19        167000.0       1  NaN      RUE     0030   \n4       1   2021-05-05        450000.0      11  NaN      ALL     1180   \n\n                   Voie     CP           Commune  ...  NatureCultureSpeciale  \\\n0  DE LA GRANGE DIMIERE  33850           LEOGNAN  ...                    NaN   \n1             DE VERDUN  33470     GUJAN MESTRAS  ...                    NaN   \n2       JEAN MARIE PELT  33380              MIOS  ...                    NaN   \n3          ARMAND DANEY  33470     GUJAN MESTRAS  ...                    NaN   \n4   FRERES DUPUY CAZAUX  33260  LA TESTE-DE-BUCH  ...                    NaN   \n\n   SurfaceTerrain                 slice quarter  Year Month  AvecTerrain  \\\n0             0.0  [300000.0, 400000.0)       2  2021     4        False   \n1             0.0  [100000.0, 150000.0)       2  2021     4        False   \n2           607.0  [400000.0, 500000.0)       2  2021     4         True   \n3             0.0  [150000.0, 200000.0)       2  2021     4        False   \n4           684.0  [400000.0, 500000.0)       2  2021     5         True   \n\n   SurfaceBatiCat  SurfaceCarrez  Localisation  \n0    (80.0, 90.0]          84.07    33238000AA  \n1   (0.999, 35.0]           0.00    33199000BO  \n2  (118.0, 144.0]           0.00    33284000CT  \n3    (47.0, 60.0]          49.14    33199000BO  \n4  (100.0, 118.0]           0.00    33529000CT  \n\n[5 rows x 40 columns]",
      "text/html": "<div>\n<style scoped>\n    .dataframe tbody tr th:only-of-type {\n        vertical-align: middle;\n    }\n\n    .dataframe tbody tr th {\n        vertical-align: top;\n    }\n\n    .dataframe thead th {\n        text-align: right;\n    }\n</style>\n<table border=\"1\" class=\"dataframe\">\n  <thead>\n    <tr style=\"text-align: right;\">\n      <th></th>\n      <th>NoDisp</th>\n      <th>DateMutation</th>\n      <th>ValeurFonciere</th>\n      <th>NoVoie</th>\n      <th>BTQ</th>\n      <th>TypeVoie</th>\n      <th>CodeVoie</th>\n      <th>Voie</th>\n      <th>CP</th>\n      <th>Commune</th>\n      <th>...</th>\n      <th>NatureCultureSpeciale</th>\n      <th>SurfaceTerrain</th>\n      <th>slice</th>\n      <th>quarter</th>\n      <th>Year</th>\n      <th>Month</th>\n      <th>AvecTerrain</th>\n      <th>SurfaceBatiCat</th>\n      <th>SurfaceCarrez</th>\n      <th>Localisation</th>\n    </tr>\n  </thead>\n  <tbody>\n    <tr>\n      <th>0</th>\n      <td>1</td>\n      <td>2021-04-26</td>\n      <td>311650.0</td>\n      <td>16</td>\n      <td>NaN</td>\n      <td>RUE</td>\n      <td>0270</td>\n      <td>DE LA GRANGE DIMIERE</td>\n      <td>33850</td>\n      <td>LEOGNAN</td>\n      <td>...</td>\n      <td>NaN</td>\n      <td>0.0</td>\n      <td>[300000.0, 400000.0)</td>\n      <td>2</td>\n      <td>2021</td>\n      <td>4</td>\n      <td>False</td>\n      <td>(80.0, 90.0]</td>\n      <td>84.07</td>\n      <td>33238000AA</td>\n    </tr>\n    <tr>\n      <th>1</th>\n      <td>1</td>\n      <td>2021-04-26</td>\n      <td>122000.0</td>\n      <td>28</td>\n      <td>NaN</td>\n      <td>CRS</td>\n      <td>0840</td>\n      <td>DE VERDUN</td>\n      <td>33470</td>\n      <td>GUJAN MESTRAS</td>\n      <td>...</td>\n      <td>NaN</td>\n      <td>0.0</td>\n      <td>[100000.0, 150000.0)</td>\n      <td>2</td>\n      <td>2021</td>\n      <td>4</td>\n      <td>False</td>\n      <td>(0.999, 35.0]</td>\n      <td>0.00</td>\n      <td>33199000BO</td>\n    </tr>\n    <tr>\n      <th>2</th>\n      <td>1</td>\n      <td>2021-04-23</td>\n      <td>420612.0</td>\n      <td>47</td>\n      <td>NaN</td>\n      <td>RUE</td>\n      <td>0144</td>\n      <td>JEAN MARIE PELT</td>\n      <td>33380</td>\n      <td>MIOS</td>\n      <td>...</td>\n      <td>NaN</td>\n      <td>607.0</td>\n      <td>[400000.0, 500000.0)</td>\n      <td>2</td>\n      <td>2021</td>\n      <td>4</td>\n      <td>True</td>\n      <td>(118.0, 144.0]</td>\n      <td>0.00</td>\n      <td>33284000CT</td>\n    </tr>\n    <tr>\n      <th>3</th>\n      <td>1</td>\n      <td>2021-04-19</td>\n      <td>167000.0</td>\n      <td>1</td>\n      <td>NaN</td>\n      <td>RUE</td>\n      <td>0030</td>\n      <td>ARMAND DANEY</td>\n      <td>33470</td>\n      <td>GUJAN MESTRAS</td>\n      <td>...</td>\n      <td>NaN</td>\n      <td>0.0</td>\n      <td>[150000.0, 200000.0)</td>\n      <td>2</td>\n      <td>2021</td>\n      <td>4</td>\n      <td>False</td>\n      <td>(47.0, 60.0]</td>\n      <td>49.14</td>\n      <td>33199000BO</td>\n    </tr>\n    <tr>\n      <th>4</th>\n      <td>1</td>\n      <td>2021-05-05</td>\n      <td>450000.0</td>\n      <td>11</td>\n      <td>NaN</td>\n      <td>ALL</td>\n      <td>1180</td>\n      <td>FRERES DUPUY CAZAUX</td>\n      <td>33260</td>\n      <td>LA TESTE-DE-BUCH</td>\n      <td>...</td>\n      <td>NaN</td>\n      <td>684.0</td>\n      <td>[400000.0, 500000.0)</td>\n      <td>2</td>\n      <td>2021</td>\n      <td>5</td>\n      <td>True</td>\n      <td>(100.0, 118.0]</td>\n      <td>0.00</td>\n      <td>33529000CT</td>\n    </tr>\n  </tbody>\n</table>\n<p>5 rows × 40 columns</p>\n</div>"
     },
     "execution_count": 487,
     "metadata": {},
     "output_type": "execute_result"
    }
   ],
   "source": [
    "df = pd.read_csv('../DATA/OUT/dataset_with_data_prepocessing.csv')\n",
    "df.head()"
   ],
   "metadata": {
    "collapsed": false,
    "ExecuteTime": {
     "end_time": "2024-03-29T14:37:20.551394100Z",
     "start_time": "2024-03-29T14:37:19.695478600Z"
    }
   },
   "id": "abec96124d763f13"
  },
  {
   "cell_type": "markdown",
   "source": [
    "# CREATION D'UN ID PAR INDIVIDU"
   ],
   "metadata": {
    "collapsed": false
   },
   "id": "2731868b6eefdb5a"
  },
  {
   "cell_type": "code",
   "execution_count": 488,
   "outputs": [
    {
     "data": {
      "text/plain": "   ID  NoDisp DateMutation  ValeurFonciere  NoVoie  BTQ TypeVoie CodeVoie  \\\n0   1       1   2021-04-26        311650.0      16  NaN      RUE     0270   \n1   2       1   2021-04-26        122000.0      28  NaN      CRS     0840   \n2   3       1   2021-04-23        420612.0      47  NaN      RUE     0144   \n3   4       1   2021-04-19        167000.0       1  NaN      RUE     0030   \n4   5       1   2021-05-05        450000.0      11  NaN      ALL     1180   \n\n                   Voie     CP  ... NatureCultureSpeciale  SurfaceTerrain  \\\n0  DE LA GRANGE DIMIERE  33850  ...                   NaN             0.0   \n1             DE VERDUN  33470  ...                   NaN             0.0   \n2       JEAN MARIE PELT  33380  ...                   NaN           607.0   \n3          ARMAND DANEY  33470  ...                   NaN             0.0   \n4   FRERES DUPUY CAZAUX  33260  ...                   NaN           684.0   \n\n                  slice  quarter  Year  Month AvecTerrain  SurfaceBatiCat  \\\n0  [300000.0, 400000.0)        2  2021      4       False    (80.0, 90.0]   \n1  [100000.0, 150000.0)        2  2021      4       False   (0.999, 35.0]   \n2  [400000.0, 500000.0)        2  2021      4        True  (118.0, 144.0]   \n3  [150000.0, 200000.0)        2  2021      4       False    (47.0, 60.0]   \n4  [400000.0, 500000.0)        2  2021      5        True  (100.0, 118.0]   \n\n  SurfaceCarrez  Localisation  \n0         84.07    33238000AA  \n1          0.00    33199000BO  \n2          0.00    33284000CT  \n3         49.14    33199000BO  \n4          0.00    33529000CT  \n\n[5 rows x 41 columns]",
      "text/html": "<div>\n<style scoped>\n    .dataframe tbody tr th:only-of-type {\n        vertical-align: middle;\n    }\n\n    .dataframe tbody tr th {\n        vertical-align: top;\n    }\n\n    .dataframe thead th {\n        text-align: right;\n    }\n</style>\n<table border=\"1\" class=\"dataframe\">\n  <thead>\n    <tr style=\"text-align: right;\">\n      <th></th>\n      <th>ID</th>\n      <th>NoDisp</th>\n      <th>DateMutation</th>\n      <th>ValeurFonciere</th>\n      <th>NoVoie</th>\n      <th>BTQ</th>\n      <th>TypeVoie</th>\n      <th>CodeVoie</th>\n      <th>Voie</th>\n      <th>CP</th>\n      <th>...</th>\n      <th>NatureCultureSpeciale</th>\n      <th>SurfaceTerrain</th>\n      <th>slice</th>\n      <th>quarter</th>\n      <th>Year</th>\n      <th>Month</th>\n      <th>AvecTerrain</th>\n      <th>SurfaceBatiCat</th>\n      <th>SurfaceCarrez</th>\n      <th>Localisation</th>\n    </tr>\n  </thead>\n  <tbody>\n    <tr>\n      <th>0</th>\n      <td>1</td>\n      <td>1</td>\n      <td>2021-04-26</td>\n      <td>311650.0</td>\n      <td>16</td>\n      <td>NaN</td>\n      <td>RUE</td>\n      <td>0270</td>\n      <td>DE LA GRANGE DIMIERE</td>\n      <td>33850</td>\n      <td>...</td>\n      <td>NaN</td>\n      <td>0.0</td>\n      <td>[300000.0, 400000.0)</td>\n      <td>2</td>\n      <td>2021</td>\n      <td>4</td>\n      <td>False</td>\n      <td>(80.0, 90.0]</td>\n      <td>84.07</td>\n      <td>33238000AA</td>\n    </tr>\n    <tr>\n      <th>1</th>\n      <td>2</td>\n      <td>1</td>\n      <td>2021-04-26</td>\n      <td>122000.0</td>\n      <td>28</td>\n      <td>NaN</td>\n      <td>CRS</td>\n      <td>0840</td>\n      <td>DE VERDUN</td>\n      <td>33470</td>\n      <td>...</td>\n      <td>NaN</td>\n      <td>0.0</td>\n      <td>[100000.0, 150000.0)</td>\n      <td>2</td>\n      <td>2021</td>\n      <td>4</td>\n      <td>False</td>\n      <td>(0.999, 35.0]</td>\n      <td>0.00</td>\n      <td>33199000BO</td>\n    </tr>\n    <tr>\n      <th>2</th>\n      <td>3</td>\n      <td>1</td>\n      <td>2021-04-23</td>\n      <td>420612.0</td>\n      <td>47</td>\n      <td>NaN</td>\n      <td>RUE</td>\n      <td>0144</td>\n      <td>JEAN MARIE PELT</td>\n      <td>33380</td>\n      <td>...</td>\n      <td>NaN</td>\n      <td>607.0</td>\n      <td>[400000.0, 500000.0)</td>\n      <td>2</td>\n      <td>2021</td>\n      <td>4</td>\n      <td>True</td>\n      <td>(118.0, 144.0]</td>\n      <td>0.00</td>\n      <td>33284000CT</td>\n    </tr>\n    <tr>\n      <th>3</th>\n      <td>4</td>\n      <td>1</td>\n      <td>2021-04-19</td>\n      <td>167000.0</td>\n      <td>1</td>\n      <td>NaN</td>\n      <td>RUE</td>\n      <td>0030</td>\n      <td>ARMAND DANEY</td>\n      <td>33470</td>\n      <td>...</td>\n      <td>NaN</td>\n      <td>0.0</td>\n      <td>[150000.0, 200000.0)</td>\n      <td>2</td>\n      <td>2021</td>\n      <td>4</td>\n      <td>False</td>\n      <td>(47.0, 60.0]</td>\n      <td>49.14</td>\n      <td>33199000BO</td>\n    </tr>\n    <tr>\n      <th>4</th>\n      <td>5</td>\n      <td>1</td>\n      <td>2021-05-05</td>\n      <td>450000.0</td>\n      <td>11</td>\n      <td>NaN</td>\n      <td>ALL</td>\n      <td>1180</td>\n      <td>FRERES DUPUY CAZAUX</td>\n      <td>33260</td>\n      <td>...</td>\n      <td>NaN</td>\n      <td>684.0</td>\n      <td>[400000.0, 500000.0)</td>\n      <td>2</td>\n      <td>2021</td>\n      <td>5</td>\n      <td>True</td>\n      <td>(100.0, 118.0]</td>\n      <td>0.00</td>\n      <td>33529000CT</td>\n    </tr>\n  </tbody>\n</table>\n<p>5 rows × 41 columns</p>\n</div>"
     },
     "execution_count": 488,
     "metadata": {},
     "output_type": "execute_result"
    }
   ],
   "source": [
    "# Ajout d'une colonne ID qui sera un identifiant unique pour chaque ligne (commençant à 1)\n",
    "df['ID'] = range(1, len(df) + 1)\n",
    "\n",
    "# Vérification de l'ajout de la colonne ID\n",
    "df[['ID'] + df.columns.tolist()[:-1]].head()"
   ],
   "metadata": {
    "collapsed": false,
    "ExecuteTime": {
     "end_time": "2024-03-29T14:37:20.740576200Z",
     "start_time": "2024-03-29T14:37:20.552902Z"
    }
   },
   "id": "3068f3ef7b4f5366"
  },
  {
   "cell_type": "markdown",
   "source": [
    "# DEFINITION DES OUTLIERS POUR LES SURFACES DE TERRAINS PAR RAPPORT A LEUR PRIX\n",
    "\n",
    "### Calcul D’Outliers :\n",
    "X < q1 - 1.5 x iqr X > q3 + 1.5 x iqr"
   ],
   "metadata": {
    "collapsed": false
   },
   "id": "1fd16fae62b6c43c"
  },
  {
   "cell_type": "markdown",
   "source": [
    "# CALCUL DU PRIX TERRAIN AU M²"
   ],
   "metadata": {
    "collapsed": false
   },
   "id": "ad3776c293118bd5"
  },
  {
   "cell_type": "code",
   "execution_count": 489,
   "outputs": [
    {
     "name": "stderr",
     "output_type": "stream",
     "text": [
      "C:\\Users\\jonat\\AppData\\Local\\Temp\\ipykernel_11460\\1641062933.py:5: SettingWithCopyWarning:\n",
      "\n",
      "\n",
      "A value is trying to be set on a copy of a slice from a DataFrame.\n",
      "Try using .loc[row_indexer,col_indexer] = value instead\n",
      "\n",
      "See the caveats in the documentation: https://pandas.pydata.org/pandas-docs/stable/user_guide/indexing.html#returning-a-view-versus-a-copy\n",
      "\n",
      "C:\\Users\\jonat\\AppData\\Local\\Temp\\ipykernel_11460\\1641062933.py:8: SettingWithCopyWarning:\n",
      "\n",
      "\n",
      "A value is trying to be set on a copy of a slice from a DataFrame\n",
      "\n",
      "See the caveats in the documentation: https://pandas.pydata.org/pandas-docs/stable/user_guide/indexing.html#returning-a-view-versus-a-copy\n",
      "\n"
     ]
    }
   ],
   "source": [
    "# ISOLER LES BIENS AVEC TERRAINS\n",
    "bien_avec_terrain = df.loc[(df['SurfaceTerrain'] > 0)]\n",
    "\n",
    "df['PrixTerrainM2'] = df['ValeurFonciere'] / df['SurfaceTerrain']\n",
    "bien_avec_terrain['PrixTerrainM2'] = bien_avec_terrain['ValeurFonciere'] / bien_avec_terrain['SurfaceTerrain']\n",
    "# Remplacez les valeurs infinies par zéro.\n",
    "df['PrixTerrainM2'].replace(np.inf, 0, inplace=True)\n",
    "bien_avec_terrain['PrixTerrainM2'].replace(np.inf, 0, inplace=True)"
   ],
   "metadata": {
    "collapsed": false,
    "ExecuteTime": {
     "end_time": "2024-03-29T14:37:20.743088800Z",
     "start_time": "2024-03-29T14:37:20.634417900Z"
    }
   },
   "id": "bb7703247b46099c"
  },
  {
   "cell_type": "markdown",
   "source": [
    "# CALCULS DES QUARTILES POUR NOS OUTLIERS"
   ],
   "metadata": {
    "collapsed": false
   },
   "id": "e6c25cd9fc93d608"
  },
  {
   "cell_type": "code",
   "execution_count": 490,
   "outputs": [
    {
     "name": "stdout",
     "output_type": "stream",
     "text": [
      "q1 = 299.6560426709942, q3 = 1302.0833333333333, IQR = 1002.427290662339\n"
     ]
    }
   ],
   "source": [
    "# CALCUL DE NOTRE PREMIER QUARTILE\n",
    "q1_prix_terrain = bien_avec_terrain['PrixTerrainM2'].quantile([.25])\n",
    "q1_prix_terrain = q1_prix_terrain[0.25]\n",
    "q3_prix_terrain = bien_avec_terrain['PrixTerrainM2'].quantile([.75])\n",
    "q3_prix_terrain = q3_prix_terrain[0.75]\n",
    "\n",
    "# CALCUL DE NOTRE ECART INTER QUARTILES\n",
    "iqr_prix_terrain = q3_prix_terrain - q1_prix_terrain\n",
    "\n",
    "print(f\"q1 = {q1_prix_terrain}, q3 = {q3_prix_terrain}, IQR = {iqr_prix_terrain}\")"
   ],
   "metadata": {
    "collapsed": false,
    "ExecuteTime": {
     "end_time": "2024-03-29T14:37:20.856556800Z",
     "start_time": "2024-03-29T14:37:20.727995900Z"
    }
   },
   "id": "ad6eb24d99ddf49e"
  },
  {
   "cell_type": "markdown",
   "source": [
    "# CALCUL DES VALEURS LIMITE OUTLIERS"
   ],
   "metadata": {
    "collapsed": false
   },
   "id": "31d759b484688c66"
  },
  {
   "cell_type": "code",
   "execution_count": 491,
   "outputs": [
    {
     "name": "stdout",
     "output_type": "stream",
     "text": [
      "Outliers Inférieur = -1203.9848933225144\n",
      "Outliers Supérieur = 2805.7242693268417\n"
     ]
    }
   ],
   "source": [
    "outliers_prix_terrain_m2_inferieur = q1_prix_terrain - (1.5 * iqr_prix_terrain)\n",
    "outliers_prix_terrain_m2_superieur = q3_prix_terrain + (1.5 * iqr_prix_terrain)\n",
    "\n",
    "print(f'Outliers Inférieur = {outliers_prix_terrain_m2_inferieur}')\n",
    "print(f'Outliers Supérieur = {outliers_prix_terrain_m2_superieur}')"
   ],
   "metadata": {
    "collapsed": false,
    "ExecuteTime": {
     "end_time": "2024-03-29T14:37:20.887688400Z",
     "start_time": "2024-03-29T14:37:20.757683500Z"
    }
   },
   "id": "2f280b2e4ca16455"
  },
  {
   "cell_type": "markdown",
   "source": [
    "# COMPATAGE DES OUTLIERS"
   ],
   "metadata": {
    "collapsed": false
   },
   "id": "7cf6b765dbc45fd2"
  },
  {
   "cell_type": "code",
   "execution_count": 492,
   "outputs": [
    {
     "name": "stdout",
     "output_type": "stream",
     "text": [
      "Nous aurions donc 13041 outliers.\n"
     ]
    }
   ],
   "source": [
    "nb_outliers_surface_terrain = df.loc[(df['PrixTerrainM2'] > outliers_prix_terrain_m2_superieur) | (df['PrixTerrainM2'] < outliers_prix_terrain_m2_inferieur)].shape\n",
    "print(f'Nous aurions donc {nb_outliers_surface_terrain[0]} outliers.')"
   ],
   "metadata": {
    "collapsed": false,
    "ExecuteTime": {
     "end_time": "2024-03-29T14:37:21.007438300Z",
     "start_time": "2024-03-29T14:37:20.775668100Z"
    }
   },
   "id": "c0284f473298b695"
  },
  {
   "cell_type": "markdown",
   "source": [
    "# STOCKAGE DES OUTLIERS DANS UN NOUVEAU DATAFRAME"
   ],
   "metadata": {
    "collapsed": false
   },
   "id": "d55012d983a986f1"
  },
  {
   "cell_type": "code",
   "execution_count": 493,
   "outputs": [],
   "source": [
    "outliers_surface_terrain = df.loc[(df['PrixTerrainM2'] > outliers_prix_terrain_m2_superieur) | (df['PrixTerrainM2'] < outliers_prix_terrain_m2_inferieur)]"
   ],
   "metadata": {
    "collapsed": false,
    "ExecuteTime": {
     "end_time": "2024-03-29T14:37:21.040434600Z",
     "start_time": "2024-03-29T14:37:20.814685400Z"
    }
   },
   "id": "3a2271cc5086d37c"
  },
  {
   "cell_type": "markdown",
   "source": [
    "# DEFINITION DES OUTLIERS POUR LES SURFACES BATI PAR RAPPORT A LEUR PRIX\n",
    "# CALCUL DU PRIX BATI AU M²"
   ],
   "metadata": {
    "collapsed": false
   },
   "id": "1b4f967cadc367b6"
  },
  {
   "cell_type": "code",
   "execution_count": 494,
   "outputs": [],
   "source": [
    "df['PrixBatiM2'] = df['ValeurFonciere'] / df['SurfaceReelleBati']"
   ],
   "metadata": {
    "collapsed": false,
    "ExecuteTime": {
     "end_time": "2024-03-29T14:37:21.043051100Z",
     "start_time": "2024-03-29T14:37:20.845598200Z"
    }
   },
   "id": "8b5741a292b00c4"
  },
  {
   "cell_type": "markdown",
   "source": [
    "# CALCULS DES QUARTILES POUR NOS OUTLIERS"
   ],
   "metadata": {
    "collapsed": false
   },
   "id": "34290966865e77e7"
  },
  {
   "cell_type": "code",
   "execution_count": 495,
   "outputs": [
    {
     "name": "stdout",
     "output_type": "stream",
     "text": [
      "q1 = 2335.294117647059, q3 = 5000.0, IQR = 2664.705882352941\n"
     ]
    }
   ],
   "source": [
    "# CALCUL DE NOTRE PREMIER QUARTILE\n",
    "q1_prix_bati = df['PrixBatiM2'].quantile([.25])\n",
    "q1_prix_bati = q1_prix_bati[0.25]\n",
    "q3_prix_bati = df['PrixBatiM2'].quantile([.75])\n",
    "q3_prix_bati = q3_prix_bati[0.75]\n",
    "\n",
    "# CALCUL DE NOTRE ECART INTER QUARTILES\n",
    "iqr_prix_bati = q3_prix_bati - q1_prix_bati\n",
    "\n",
    "print(f\"q1 = {q1_prix_bati}, q3 = {q3_prix_bati}, IQR = {iqr_prix_bati}\")"
   ],
   "metadata": {
    "collapsed": false,
    "ExecuteTime": {
     "end_time": "2024-03-29T14:37:21.052550900Z",
     "start_time": "2024-03-29T14:37:20.864836200Z"
    }
   },
   "id": "b8b3d01224d249ef"
  },
  {
   "cell_type": "markdown",
   "source": [
    "# CALCUL DES VALEURS LIMITE OUTLIERS"
   ],
   "metadata": {
    "collapsed": false
   },
   "id": "2bb9580e127c918a"
  },
  {
   "cell_type": "code",
   "execution_count": 496,
   "outputs": [
    {
     "name": "stdout",
     "output_type": "stream",
     "text": [
      "Outliers Inférieur = -1661.7647058823527\n",
      "Outliers Supérieur = 8997.058823529413\n"
     ]
    }
   ],
   "source": [
    "outliers_prix_bati_m2_inferieur = q1_prix_bati - (1.5 * iqr_prix_bati)\n",
    "outliers_prix_bati_m2_superieur = q3_prix_bati + (1.5 * iqr_prix_bati)\n",
    "\n",
    "print(f'Outliers Inférieur = {outliers_prix_bati_m2_inferieur}')\n",
    "print(f'Outliers Supérieur = {outliers_prix_bati_m2_superieur}')"
   ],
   "metadata": {
    "collapsed": false,
    "ExecuteTime": {
     "end_time": "2024-03-29T14:37:21.053056800Z",
     "start_time": "2024-03-29T14:37:20.895544400Z"
    }
   },
   "id": "f9911da870170814"
  },
  {
   "cell_type": "markdown",
   "source": [
    "# COMPATAGE DES OUTLIERS"
   ],
   "metadata": {
    "collapsed": false
   },
   "id": "524139a8ad22c959"
  },
  {
   "cell_type": "code",
   "execution_count": 497,
   "outputs": [
    {
     "name": "stdout",
     "output_type": "stream",
     "text": [
      "Nous aurions donc 17988 outliers.\n"
     ]
    }
   ],
   "source": [
    "nb_outliers_surface_bati = df.loc[(df['PrixBatiM2'] > outliers_prix_bati_m2_superieur) | (df['PrixBatiM2'] < outliers_prix_bati_m2_inferieur)].shape\n",
    "print(f'Nous aurions donc {nb_outliers_surface_bati[0]} outliers.')"
   ],
   "metadata": {
    "collapsed": false,
    "ExecuteTime": {
     "end_time": "2024-03-29T14:37:21.081990Z",
     "start_time": "2024-03-29T14:37:20.907079600Z"
    }
   },
   "id": "4b0ce7a99bcc09e2"
  },
  {
   "cell_type": "markdown",
   "source": [
    "# STOCKAGE DES OUTLIERS DANS UN NOUVEAU DATAFRAME"
   ],
   "metadata": {
    "collapsed": false
   },
   "id": "bd340543e590c9cd"
  },
  {
   "cell_type": "code",
   "execution_count": 498,
   "outputs": [],
   "source": [
    "outliers_surface_bati = df.loc[(df['PrixBatiM2'] > outliers_prix_bati_m2_superieur) | (df['PrixBatiM2'] < outliers_prix_bati_m2_inferieur)]"
   ],
   "metadata": {
    "collapsed": false,
    "ExecuteTime": {
     "end_time": "2024-03-29T14:37:21.081990Z",
     "start_time": "2024-03-29T14:37:20.938279100Z"
    }
   },
   "id": "e741371153da35e5"
  },
  {
   "cell_type": "markdown",
   "source": [
    "# DEFINITION DES OUTLIERS POUR LES SURFACES CARREZ PAR RAPPORT A LEUR PRIX\n",
    "# CALCUL DU PRIX CARREZ AU M²"
   ],
   "metadata": {
    "collapsed": false
   },
   "id": "82234bde843f6d57"
  },
  {
   "cell_type": "code",
   "execution_count": 499,
   "outputs": [],
   "source": [
    "df['SurfaceCarrez'] = df['SurfaceCarrez1erLot'] + df['SurfaceCarrez2emeLot'] + df['SurfaceCarrez3emeLot'] + df['SurfaceCarrez4emeLot'] + df['SurfaceCarrez5emeLot']"
   ],
   "metadata": {
    "collapsed": false,
    "ExecuteTime": {
     "end_time": "2024-03-29T14:37:21.081990Z",
     "start_time": "2024-03-29T14:37:20.970409300Z"
    }
   },
   "id": "86b4c266a9c8ef50"
  },
  {
   "cell_type": "code",
   "execution_count": 500,
   "outputs": [
    {
     "name": "stderr",
     "output_type": "stream",
     "text": [
      "C:\\Users\\jonat\\AppData\\Local\\Temp\\ipykernel_11460\\3913535154.py:5: SettingWithCopyWarning:\n",
      "\n",
      "\n",
      "A value is trying to be set on a copy of a slice from a DataFrame.\n",
      "Try using .loc[row_indexer,col_indexer] = value instead\n",
      "\n",
      "See the caveats in the documentation: https://pandas.pydata.org/pandas-docs/stable/user_guide/indexing.html#returning-a-view-versus-a-copy\n",
      "\n",
      "C:\\Users\\jonat\\AppData\\Local\\Temp\\ipykernel_11460\\3913535154.py:8: SettingWithCopyWarning:\n",
      "\n",
      "\n",
      "A value is trying to be set on a copy of a slice from a DataFrame\n",
      "\n",
      "See the caveats in the documentation: https://pandas.pydata.org/pandas-docs/stable/user_guide/indexing.html#returning-a-view-versus-a-copy\n",
      "\n"
     ]
    }
   ],
   "source": [
    "# ISOLER LES BIENS AVEC UNE SURFACE CARREZ\n",
    "bien_avec_carrez = df.loc[(df['SurfaceCarrez'] > 0)]\n",
    "\n",
    "df['PrixCarrezM2'] = df['ValeurFonciere'] / df['SurfaceCarrez']\n",
    "bien_avec_carrez['PrixCarrezM2'] = bien_avec_carrez['ValeurFonciere'] / bien_avec_carrez['SurfaceCarrez']\n",
    "# Remplacez les valeurs infinies par zéro.\n",
    "df['PrixCarrezM2'].replace(np.inf, 0, inplace=True)\n",
    "bien_avec_carrez['PrixCarrezM2'].replace(np.inf, 0, inplace=True)"
   ],
   "metadata": {
    "collapsed": false,
    "ExecuteTime": {
     "end_time": "2024-03-29T14:37:21.240418500Z",
     "start_time": "2024-03-29T14:37:21.001126Z"
    }
   },
   "id": "af12dbb7fe6c9f00"
  },
  {
   "cell_type": "markdown",
   "source": [
    "# CALCULS DES QUARTILES POUR NOS OUTLIERS"
   ],
   "metadata": {
    "collapsed": false
   },
   "id": "f07456c9551e1a6a"
  },
  {
   "cell_type": "code",
   "execution_count": 501,
   "outputs": [
    {
     "name": "stdout",
     "output_type": "stream",
     "text": [
      "q1 = 2830.0179924446065, q3 = 4811.060153990553, IQR = 1981.0421615459463\n"
     ]
    }
   ],
   "source": [
    "# CALCUL DE NOTRE PREMIER QUARTILE\n",
    "q1_prix_carrez = bien_avec_carrez['PrixCarrezM2'].quantile([.25])\n",
    "q1_prix_carrez = q1_prix_carrez[0.25]\n",
    "q3_prix_carrez = bien_avec_carrez['PrixCarrezM2'].quantile([.75])\n",
    "q3_prix_carrez = q3_prix_carrez[0.75]\n",
    "\n",
    "# CALCUL DE NOTRE ECART INTER QUARTILES\n",
    "iqr_prix_carrez = q3_prix_carrez - q1_prix_carrez\n",
    "\n",
    "print(f\"q1 = {q1_prix_carrez}, q3 = {q3_prix_carrez}, IQR = {iqr_prix_carrez}\")"
   ],
   "metadata": {
    "collapsed": false,
    "ExecuteTime": {
     "end_time": "2024-03-29T14:37:21.277377500Z",
     "start_time": "2024-03-29T14:37:21.065854900Z"
    }
   },
   "id": "6fec03ef00454da6"
  },
  {
   "cell_type": "markdown",
   "source": [
    "# CALCUL DES VALEURS LIMITE OUTLIERS"
   ],
   "metadata": {
    "collapsed": false
   },
   "id": "ab86ed9a8138d3f9"
  },
  {
   "cell_type": "code",
   "execution_count": 502,
   "outputs": [
    {
     "name": "stdout",
     "output_type": "stream",
     "text": [
      "Outliers Inférieur = -141.54524987431296\n",
      "Outliers Supérieur = 7782.623396309473\n"
     ]
    }
   ],
   "source": [
    "outliers_prix_carrez_m2_inferieur = q1_prix_carrez - (1.5 * iqr_prix_carrez)\n",
    "outliers_prix_carrez_m2_superieur = q3_prix_carrez + (1.5 * iqr_prix_carrez)\n",
    "\n",
    "print(f'Outliers Inférieur = {outliers_prix_carrez_m2_inferieur}')\n",
    "print(f'Outliers Supérieur = {outliers_prix_carrez_m2_superieur}')"
   ],
   "metadata": {
    "collapsed": false,
    "ExecuteTime": {
     "end_time": "2024-03-29T14:37:21.277377500Z",
     "start_time": "2024-03-29T14:37:21.088327400Z"
    }
   },
   "id": "acfe852ebb70952a"
  },
  {
   "cell_type": "markdown",
   "source": [
    "# COMPATAGE DES OUTLIERS"
   ],
   "metadata": {
    "collapsed": false
   },
   "id": "9cf445a6be3eb6d5"
  },
  {
   "cell_type": "code",
   "execution_count": 503,
   "outputs": [
    {
     "name": "stdout",
     "output_type": "stream",
     "text": [
      "Nous aurions donc 1379 outliers.\n"
     ]
    }
   ],
   "source": [
    "nb_outliers_surface_carrez = df.loc[(df['PrixCarrezM2'] > outliers_prix_carrez_m2_superieur) | (df['PrixCarrezM2'] < outliers_prix_carrez_m2_inferieur)].shape\n",
    "print(f'Nous aurions donc {nb_outliers_surface_carrez[0]} outliers.')"
   ],
   "metadata": {
    "collapsed": false,
    "ExecuteTime": {
     "end_time": "2024-03-29T14:37:21.278385400Z",
     "start_time": "2024-03-29T14:37:21.112225Z"
    }
   },
   "id": "126705b6b5cbfa38"
  },
  {
   "cell_type": "markdown",
   "source": [
    "# STOCKAGE DES OUTLIERS DANS UN NOUVEAU DATAFRAME"
   ],
   "metadata": {
    "collapsed": false
   },
   "id": "52dab9a792247c95"
  },
  {
   "cell_type": "code",
   "execution_count": 504,
   "outputs": [],
   "source": [
    "outliers_surface_carrez = df.loc[(df['PrixCarrezM2'] > outliers_prix_carrez_m2_superieur) | (df['PrixCarrezM2'] < outliers_prix_carrez_m2_inferieur)]"
   ],
   "metadata": {
    "collapsed": false,
    "ExecuteTime": {
     "end_time": "2024-03-29T14:37:21.294586500Z",
     "start_time": "2024-03-29T14:37:21.133274500Z"
    }
   },
   "id": "e6a66a20487d1e90"
  },
  {
   "cell_type": "markdown",
   "source": [
    "# COMPATEGE DU TOTAL D'OUTLIERS DEPUIS LE DEBUT (DOUBLONS INCLUS)"
   ],
   "metadata": {
    "collapsed": false
   },
   "id": "61e3b75c6d078f2f"
  },
  {
   "cell_type": "code",
   "execution_count": 505,
   "outputs": [
    {
     "data": {
      "text/plain": "32408"
     },
     "execution_count": 505,
     "metadata": {},
     "output_type": "execute_result"
    }
   ],
   "source": [
    "nb_outliers_surface_terrain[0] + nb_outliers_surface_bati[0] + nb_outliers_surface_carrez[0]"
   ],
   "metadata": {
    "collapsed": false,
    "ExecuteTime": {
     "end_time": "2024-03-29T14:37:21.296594800Z",
     "start_time": "2024-03-29T14:37:21.152032100Z"
    }
   },
   "id": "70b7cba541f4d7c5"
  },
  {
   "cell_type": "markdown",
   "source": [
    "# CREATION D'UN DATAFRAME HORS OUTLIERS ET DOUBLONS D'OUTLIERS"
   ],
   "metadata": {
    "collapsed": false
   },
   "id": "1664ceedd6110e71"
  },
  {
   "cell_type": "code",
   "execution_count": 506,
   "outputs": [],
   "source": [
    "# Concaténation des ID des outliers\n",
    "ids_outliers = pd.concat([outliers_surface_bati['ID'], outliers_surface_terrain['ID'], outliers_surface_carrez['ID']])\n",
    "\n",
    "# Suppression des duplicatas\n",
    "ids_outliers = ids_outliers.drop_duplicates()\n",
    "\n",
    "# Filtrage de df pour exclure les outliers\n",
    "df_clean = df[~df['ID'].isin(ids_outliers)]"
   ],
   "metadata": {
    "collapsed": false,
    "ExecuteTime": {
     "end_time": "2024-03-29T14:37:21.392200800Z",
     "start_time": "2024-03-29T14:37:21.170619800Z"
    }
   },
   "id": "c4e0617498083fb9"
  },
  {
   "cell_type": "markdown",
   "source": [
    "# CREATION D'UN CSV DEPUIS CE DATAFRAMES"
   ],
   "metadata": {
    "collapsed": false
   },
   "id": "806b41238b64eec7"
  },
  {
   "cell_type": "code",
   "execution_count": 507,
   "outputs": [],
   "source": [
    "df_clean.to_csv('../DATA/OUT/dataset_hors_outliers_surfaces.csv', index=False)"
   ],
   "metadata": {
    "collapsed": false,
    "ExecuteTime": {
     "end_time": "2024-03-29T14:37:23.662885300Z",
     "start_time": "2024-03-29T14:37:21.244863200Z"
    }
   },
   "id": "a082b0c767fa915e"
  },
  {
   "cell_type": "markdown",
   "source": [
    "# DEFINITION DES OUTLIERS POUR LE NOMBRE DE PIECES PRINCIPALES\n",
    "\n",
    "# CALCULS DES QUARTILES POUR NOS OUTLIERS"
   ],
   "metadata": {
    "collapsed": false
   },
   "id": "bd7fe64230ab9886"
  },
  {
   "cell_type": "code",
   "execution_count": 508,
   "outputs": [
    {
     "name": "stdout",
     "output_type": "stream",
     "text": [
      "q1 = 2.0, q3 = 4.0, IQR = 2.0\n"
     ]
    }
   ],
   "source": [
    "# CALCUL DE NOTRE PREMIER QUARTILE\n",
    "q1_nb_piece = df['NombrePiecesPrincipales'].quantile([.25])\n",
    "q1_nb_piece = q1_nb_piece[0.25]\n",
    "q3_nb_piece = df['NombrePiecesPrincipales'].quantile([.75])\n",
    "q3_nb_piece = q3_nb_piece[0.75]\n",
    "\n",
    "# CALCUL DE NOTRE ECART INTER QUARTILES\n",
    "iqr_nb_piece = q3_nb_piece - q1_nb_piece\n",
    "\n",
    "print(f\"q1 = {q1_nb_piece}, q3 = {q3_nb_piece}, IQR = {iqr_nb_piece}\")"
   ],
   "metadata": {
    "collapsed": false,
    "ExecuteTime": {
     "end_time": "2024-03-29T14:37:23.748308400Z",
     "start_time": "2024-03-29T14:37:23.667925800Z"
    }
   },
   "id": "9466068d7b874c08"
  },
  {
   "cell_type": "markdown",
   "source": [
    "# CALCUL DES VALEURS LIMITE OUTLIERS"
   ],
   "metadata": {
    "collapsed": false
   },
   "id": "23e117a6f4eadf19"
  },
  {
   "cell_type": "code",
   "execution_count": 509,
   "outputs": [
    {
     "name": "stdout",
     "output_type": "stream",
     "text": [
      "Outliers Inférieur = -1.0\n",
      "Outliers Supérieur = 7.0\n"
     ]
    }
   ],
   "source": [
    "outliers_nb_pieces_inferieur = q1_nb_piece - (1.5 * iqr_nb_piece)\n",
    "outliers_nb_pieces_superieur = q3_nb_piece + (1.5 * iqr_nb_piece)\n",
    "\n",
    "print(f'Outliers Inférieur = {outliers_nb_pieces_inferieur}')\n",
    "print(f'Outliers Supérieur = {outliers_nb_pieces_superieur}')"
   ],
   "metadata": {
    "collapsed": false,
    "ExecuteTime": {
     "end_time": "2024-03-29T14:37:23.754924100Z",
     "start_time": "2024-03-29T14:37:23.693136Z"
    }
   },
   "id": "e06ead8bd18b4647"
  },
  {
   "cell_type": "markdown",
   "source": [
    "# COMPATAGE DES OUTLIERS"
   ],
   "metadata": {
    "collapsed": false
   },
   "id": "f1f68f48ab4f7282"
  },
  {
   "cell_type": "code",
   "execution_count": 510,
   "outputs": [
    {
     "name": "stdout",
     "output_type": "stream",
     "text": [
      "Nous aurions donc 2259 outliers.\n"
     ]
    }
   ],
   "source": [
    "nb_outliers_nb_piece = df.loc[(df['NombrePiecesPrincipales'] > outliers_nb_pieces_superieur) | (df['NombrePiecesPrincipales'] < outliers_nb_pieces_inferieur)].shape\n",
    "print(f'Nous aurions donc {nb_outliers_nb_piece[0]} outliers.')"
   ],
   "metadata": {
    "collapsed": false,
    "ExecuteTime": {
     "end_time": "2024-03-29T14:37:23.755987700Z",
     "start_time": "2024-03-29T14:37:23.708299Z"
    }
   },
   "id": "dea3b2a37e21bed9"
  },
  {
   "cell_type": "markdown",
   "source": [
    "# STOCKAGE DES OUTLIERS DANS UN NOUVEAU DATAFRAME"
   ],
   "metadata": {
    "collapsed": false
   },
   "id": "43ca8c120fac6de4"
  },
  {
   "cell_type": "code",
   "execution_count": 511,
   "outputs": [],
   "source": [
    "outliers_nb_pieces = df.loc[(df['NombrePiecesPrincipales'] > outliers_nb_pieces_superieur) | (df['NombrePiecesPrincipales'] < outliers_nb_pieces_inferieur)]"
   ],
   "metadata": {
    "collapsed": false,
    "ExecuteTime": {
     "end_time": "2024-03-29T14:37:23.757754300Z",
     "start_time": "2024-03-29T14:37:23.724833600Z"
    }
   },
   "id": "eb2991dd409a6712"
  },
  {
   "cell_type": "markdown",
   "source": [
    "# CREATION D'UN DATAFRAME HORS OUTLIERS ET DOUBLONS D'OUTLIERS"
   ],
   "metadata": {
    "collapsed": false
   },
   "id": "33f85217b50bc1ab"
  },
  {
   "cell_type": "code",
   "execution_count": 512,
   "outputs": [],
   "source": [
    "# Concaténation des ID des outliers\n",
    "ids_outliers = pd.concat([outliers_surface_bati['ID'], outliers_surface_terrain['ID'], outliers_surface_carrez['ID'], outliers_nb_pieces['ID']])\n",
    "\n",
    "# Suppression des duplicatas\n",
    "ids_outliers = ids_outliers.drop_duplicates()\n",
    "\n",
    "# Filtrage de df pour exclure les outliers\n",
    "df_clean_with_nb_piece = df[~df['ID'].isin(ids_outliers)]"
   ],
   "metadata": {
    "collapsed": false,
    "ExecuteTime": {
     "end_time": "2024-03-29T14:37:23.904594800Z",
     "start_time": "2024-03-29T14:37:23.754924100Z"
    }
   },
   "id": "6e1d2bc47e995450"
  },
  {
   "cell_type": "markdown",
   "source": [
    "# CREATION D'UN CSV DEPUIS CE DATAFRAMES"
   ],
   "metadata": {
    "collapsed": false
   },
   "id": "f59ad575d6d9f7e4"
  },
  {
   "cell_type": "code",
   "execution_count": 513,
   "outputs": [],
   "source": [
    "df_clean_with_nb_piece.to_csv('../DATA/OUT/dataset_hors_outliers_surfaces_and_piece.csv', index=False)"
   ],
   "metadata": {
    "collapsed": false,
    "ExecuteTime": {
     "end_time": "2024-03-29T14:37:25.863233500Z",
     "start_time": "2024-03-29T14:37:23.817950700Z"
    }
   },
   "id": "39884150aec9386f"
  },
  {
   "cell_type": "code",
   "execution_count": null,
   "outputs": [],
   "source": [],
   "metadata": {
    "collapsed": false
   },
   "id": "6f397b4129fb9d27"
  }
 ],
 "metadata": {
  "kernelspec": {
   "display_name": "Python 3",
   "language": "python",
   "name": "python3"
  },
  "language_info": {
   "codemirror_mode": {
    "name": "ipython",
    "version": 2
   },
   "file_extension": ".py",
   "mimetype": "text/x-python",
   "name": "python",
   "nbconvert_exporter": "python",
   "pygments_lexer": "ipython2",
   "version": "2.7.6"
  }
 },
 "nbformat": 4,
 "nbformat_minor": 5
}
