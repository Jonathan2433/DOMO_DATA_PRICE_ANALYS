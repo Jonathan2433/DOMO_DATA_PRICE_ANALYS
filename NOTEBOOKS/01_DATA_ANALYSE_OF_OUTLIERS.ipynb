{
 "cells": [
  {
   "cell_type": "markdown",
   "source": [
    "# IMPORT DES LIBRAIRIES "
   ],
   "metadata": {
    "collapsed": false
   },
   "id": "978d8a924d544431"
  },
  {
   "cell_type": "code",
   "execution_count": 1,
   "id": "initial_id",
   "metadata": {
    "collapsed": true,
    "ExecuteTime": {
     "end_time": "2024-05-22T19:21:40.262005400Z",
     "start_time": "2024-05-22T19:21:40.119966Z"
    }
   },
   "outputs": [],
   "source": [
    "import pandas as pd\n",
    "import seaborn as sns\n",
    "import matplotlib.pyplot as plt\n",
    "import numpy as np\n",
    "import plotly.express as px"
   ]
  },
  {
   "cell_type": "markdown",
   "source": [
    "# OUVERTURE DU JEU DE DONNEES"
   ],
   "metadata": {
    "collapsed": false
   },
   "id": "35397929e33d8a1e"
  },
  {
   "cell_type": "code",
   "execution_count": 2,
   "outputs": [
    {
     "data": {
      "text/plain": "       Prix     DT_Date  SurfaceTerrain  SurfaceBati  SurfaceCarrez  \\\n0  165000.0  2019-01-04             970           70           0.00   \n1  509100.0  2019-01-09             821          193           0.00   \n2   80000.0  2019-01-09               0           16          15.27   \n3  382700.0  2019-01-10            1428          129           0.00   \n4  421000.0  2019-01-08             337          136           0.00   \n\n   NombreLots  NombrePiecesPrincipales  NoDisp  NoVoie  BTQ  ...  \\\n0           4                        0       1      19  NaN  ...   \n1           6                        0       1       5  NaN  ...   \n2           1                        1       1      33  NaN  ...   \n3           4                        0       2       8    B  ...   \n4           6                        0       1      52  NaN  ...   \n\n       CommuneName NatureCultureName NatureCultureSpecialeName  TypeLocalName  \\\n0  MOULIS-EN-MEDOC                 S                       NaN         Maison   \n1          EYSINES                AB                       NaN         Maison   \n2         BORDEAUX               NaN                       NaN    Appartement   \n3         SALAUNES                 S                       NaN         Maison   \n4         BORDEAUX                 S                       NaN         Maison   \n\n                  slice quarter  Year Month AvecTerrain   SurfaceBatiCat  \n0  [150000.0, 200000.0)       1  2019     1        True     (60.0, 70.0]  \n1  [500000.0, 600000.0)       1  2019     1        True  (144.0, 1000.0]  \n2   [50000.0, 100000.0)       1  2019     1       False    (0.999, 35.0]  \n3  [300000.0, 400000.0)       1  2019     1        True   (117.0, 144.0]  \n4  [400000.0, 500000.0)       1  2019     1        True   (117.0, 144.0]  \n\n[5 rows x 24 columns]",
      "text/html": "<div>\n<style scoped>\n    .dataframe tbody tr th:only-of-type {\n        vertical-align: middle;\n    }\n\n    .dataframe tbody tr th {\n        vertical-align: top;\n    }\n\n    .dataframe thead th {\n        text-align: right;\n    }\n</style>\n<table border=\"1\" class=\"dataframe\">\n  <thead>\n    <tr style=\"text-align: right;\">\n      <th></th>\n      <th>Prix</th>\n      <th>DT_Date</th>\n      <th>SurfaceTerrain</th>\n      <th>SurfaceBati</th>\n      <th>SurfaceCarrez</th>\n      <th>NombreLots</th>\n      <th>NombrePiecesPrincipales</th>\n      <th>NoDisp</th>\n      <th>NoVoie</th>\n      <th>BTQ</th>\n      <th>...</th>\n      <th>CommuneName</th>\n      <th>NatureCultureName</th>\n      <th>NatureCultureSpecialeName</th>\n      <th>TypeLocalName</th>\n      <th>slice</th>\n      <th>quarter</th>\n      <th>Year</th>\n      <th>Month</th>\n      <th>AvecTerrain</th>\n      <th>SurfaceBatiCat</th>\n    </tr>\n  </thead>\n  <tbody>\n    <tr>\n      <th>0</th>\n      <td>165000.0</td>\n      <td>2019-01-04</td>\n      <td>970</td>\n      <td>70</td>\n      <td>0.00</td>\n      <td>4</td>\n      <td>0</td>\n      <td>1</td>\n      <td>19</td>\n      <td>NaN</td>\n      <td>...</td>\n      <td>MOULIS-EN-MEDOC</td>\n      <td>S</td>\n      <td>NaN</td>\n      <td>Maison</td>\n      <td>[150000.0, 200000.0)</td>\n      <td>1</td>\n      <td>2019</td>\n      <td>1</td>\n      <td>True</td>\n      <td>(60.0, 70.0]</td>\n    </tr>\n    <tr>\n      <th>1</th>\n      <td>509100.0</td>\n      <td>2019-01-09</td>\n      <td>821</td>\n      <td>193</td>\n      <td>0.00</td>\n      <td>6</td>\n      <td>0</td>\n      <td>1</td>\n      <td>5</td>\n      <td>NaN</td>\n      <td>...</td>\n      <td>EYSINES</td>\n      <td>AB</td>\n      <td>NaN</td>\n      <td>Maison</td>\n      <td>[500000.0, 600000.0)</td>\n      <td>1</td>\n      <td>2019</td>\n      <td>1</td>\n      <td>True</td>\n      <td>(144.0, 1000.0]</td>\n    </tr>\n    <tr>\n      <th>2</th>\n      <td>80000.0</td>\n      <td>2019-01-09</td>\n      <td>0</td>\n      <td>16</td>\n      <td>15.27</td>\n      <td>1</td>\n      <td>1</td>\n      <td>1</td>\n      <td>33</td>\n      <td>NaN</td>\n      <td>...</td>\n      <td>BORDEAUX</td>\n      <td>NaN</td>\n      <td>NaN</td>\n      <td>Appartement</td>\n      <td>[50000.0, 100000.0)</td>\n      <td>1</td>\n      <td>2019</td>\n      <td>1</td>\n      <td>False</td>\n      <td>(0.999, 35.0]</td>\n    </tr>\n    <tr>\n      <th>3</th>\n      <td>382700.0</td>\n      <td>2019-01-10</td>\n      <td>1428</td>\n      <td>129</td>\n      <td>0.00</td>\n      <td>4</td>\n      <td>0</td>\n      <td>2</td>\n      <td>8</td>\n      <td>B</td>\n      <td>...</td>\n      <td>SALAUNES</td>\n      <td>S</td>\n      <td>NaN</td>\n      <td>Maison</td>\n      <td>[300000.0, 400000.0)</td>\n      <td>1</td>\n      <td>2019</td>\n      <td>1</td>\n      <td>True</td>\n      <td>(117.0, 144.0]</td>\n    </tr>\n    <tr>\n      <th>4</th>\n      <td>421000.0</td>\n      <td>2019-01-08</td>\n      <td>337</td>\n      <td>136</td>\n      <td>0.00</td>\n      <td>6</td>\n      <td>0</td>\n      <td>1</td>\n      <td>52</td>\n      <td>NaN</td>\n      <td>...</td>\n      <td>BORDEAUX</td>\n      <td>S</td>\n      <td>NaN</td>\n      <td>Maison</td>\n      <td>[400000.0, 500000.0)</td>\n      <td>1</td>\n      <td>2019</td>\n      <td>1</td>\n      <td>True</td>\n      <td>(117.0, 144.0]</td>\n    </tr>\n  </tbody>\n</table>\n<p>5 rows × 24 columns</p>\n</div>"
     },
     "execution_count": 2,
     "metadata": {},
     "output_type": "execute_result"
    }
   ],
   "source": [
    "df = pd.read_csv('../DATA/OUT/dataset_with_data_prepocessing.csv')\n",
    "df.head()"
   ],
   "metadata": {
    "collapsed": false,
    "ExecuteTime": {
     "end_time": "2024-05-22T19:21:40.602741100Z",
     "start_time": "2024-05-22T19:21:40.263011500Z"
    }
   },
   "id": "abec96124d763f13"
  },
  {
   "cell_type": "markdown",
   "source": [
    "# CREATION D'UN ID PAR INDIVIDU"
   ],
   "metadata": {
    "collapsed": false
   },
   "id": "2731868b6eefdb5a"
  },
  {
   "cell_type": "code",
   "execution_count": 3,
   "outputs": [
    {
     "data": {
      "text/plain": "   ID      Prix     DT_Date  SurfaceTerrain  SurfaceBati  SurfaceCarrez  \\\n0   1  165000.0  2019-01-04             970           70           0.00   \n1   2  509100.0  2019-01-09             821          193           0.00   \n2   3   80000.0  2019-01-09               0           16          15.27   \n3   4  382700.0  2019-01-10            1428          129           0.00   \n4   5  421000.0  2019-01-08             337          136           0.00   \n\n   NombreLots  NombrePiecesPrincipales  NoDisp  NoVoie  ...      CommuneName  \\\n0           4                        0       1      19  ...  MOULIS-EN-MEDOC   \n1           6                        0       1       5  ...          EYSINES   \n2           1                        1       1      33  ...         BORDEAUX   \n3           4                        0       2       8  ...         SALAUNES   \n4           6                        0       1      52  ...         BORDEAUX   \n\n  NatureCultureName NatureCultureSpecialeName TypeLocalName  \\\n0                 S                       NaN        Maison   \n1                AB                       NaN        Maison   \n2               NaN                       NaN   Appartement   \n3                 S                       NaN        Maison   \n4                 S                       NaN        Maison   \n\n                  slice quarter  Year Month AvecTerrain   SurfaceBatiCat  \n0  [150000.0, 200000.0)       1  2019     1        True     (60.0, 70.0]  \n1  [500000.0, 600000.0)       1  2019     1        True  (144.0, 1000.0]  \n2   [50000.0, 100000.0)       1  2019     1       False    (0.999, 35.0]  \n3  [300000.0, 400000.0)       1  2019     1        True   (117.0, 144.0]  \n4  [400000.0, 500000.0)       1  2019     1        True   (117.0, 144.0]  \n\n[5 rows x 25 columns]",
      "text/html": "<div>\n<style scoped>\n    .dataframe tbody tr th:only-of-type {\n        vertical-align: middle;\n    }\n\n    .dataframe tbody tr th {\n        vertical-align: top;\n    }\n\n    .dataframe thead th {\n        text-align: right;\n    }\n</style>\n<table border=\"1\" class=\"dataframe\">\n  <thead>\n    <tr style=\"text-align: right;\">\n      <th></th>\n      <th>ID</th>\n      <th>Prix</th>\n      <th>DT_Date</th>\n      <th>SurfaceTerrain</th>\n      <th>SurfaceBati</th>\n      <th>SurfaceCarrez</th>\n      <th>NombreLots</th>\n      <th>NombrePiecesPrincipales</th>\n      <th>NoDisp</th>\n      <th>NoVoie</th>\n      <th>...</th>\n      <th>CommuneName</th>\n      <th>NatureCultureName</th>\n      <th>NatureCultureSpecialeName</th>\n      <th>TypeLocalName</th>\n      <th>slice</th>\n      <th>quarter</th>\n      <th>Year</th>\n      <th>Month</th>\n      <th>AvecTerrain</th>\n      <th>SurfaceBatiCat</th>\n    </tr>\n  </thead>\n  <tbody>\n    <tr>\n      <th>0</th>\n      <td>1</td>\n      <td>165000.0</td>\n      <td>2019-01-04</td>\n      <td>970</td>\n      <td>70</td>\n      <td>0.00</td>\n      <td>4</td>\n      <td>0</td>\n      <td>1</td>\n      <td>19</td>\n      <td>...</td>\n      <td>MOULIS-EN-MEDOC</td>\n      <td>S</td>\n      <td>NaN</td>\n      <td>Maison</td>\n      <td>[150000.0, 200000.0)</td>\n      <td>1</td>\n      <td>2019</td>\n      <td>1</td>\n      <td>True</td>\n      <td>(60.0, 70.0]</td>\n    </tr>\n    <tr>\n      <th>1</th>\n      <td>2</td>\n      <td>509100.0</td>\n      <td>2019-01-09</td>\n      <td>821</td>\n      <td>193</td>\n      <td>0.00</td>\n      <td>6</td>\n      <td>0</td>\n      <td>1</td>\n      <td>5</td>\n      <td>...</td>\n      <td>EYSINES</td>\n      <td>AB</td>\n      <td>NaN</td>\n      <td>Maison</td>\n      <td>[500000.0, 600000.0)</td>\n      <td>1</td>\n      <td>2019</td>\n      <td>1</td>\n      <td>True</td>\n      <td>(144.0, 1000.0]</td>\n    </tr>\n    <tr>\n      <th>2</th>\n      <td>3</td>\n      <td>80000.0</td>\n      <td>2019-01-09</td>\n      <td>0</td>\n      <td>16</td>\n      <td>15.27</td>\n      <td>1</td>\n      <td>1</td>\n      <td>1</td>\n      <td>33</td>\n      <td>...</td>\n      <td>BORDEAUX</td>\n      <td>NaN</td>\n      <td>NaN</td>\n      <td>Appartement</td>\n      <td>[50000.0, 100000.0)</td>\n      <td>1</td>\n      <td>2019</td>\n      <td>1</td>\n      <td>False</td>\n      <td>(0.999, 35.0]</td>\n    </tr>\n    <tr>\n      <th>3</th>\n      <td>4</td>\n      <td>382700.0</td>\n      <td>2019-01-10</td>\n      <td>1428</td>\n      <td>129</td>\n      <td>0.00</td>\n      <td>4</td>\n      <td>0</td>\n      <td>2</td>\n      <td>8</td>\n      <td>...</td>\n      <td>SALAUNES</td>\n      <td>S</td>\n      <td>NaN</td>\n      <td>Maison</td>\n      <td>[300000.0, 400000.0)</td>\n      <td>1</td>\n      <td>2019</td>\n      <td>1</td>\n      <td>True</td>\n      <td>(117.0, 144.0]</td>\n    </tr>\n    <tr>\n      <th>4</th>\n      <td>5</td>\n      <td>421000.0</td>\n      <td>2019-01-08</td>\n      <td>337</td>\n      <td>136</td>\n      <td>0.00</td>\n      <td>6</td>\n      <td>0</td>\n      <td>1</td>\n      <td>52</td>\n      <td>...</td>\n      <td>BORDEAUX</td>\n      <td>S</td>\n      <td>NaN</td>\n      <td>Maison</td>\n      <td>[400000.0, 500000.0)</td>\n      <td>1</td>\n      <td>2019</td>\n      <td>1</td>\n      <td>True</td>\n      <td>(117.0, 144.0]</td>\n    </tr>\n  </tbody>\n</table>\n<p>5 rows × 25 columns</p>\n</div>"
     },
     "execution_count": 3,
     "metadata": {},
     "output_type": "execute_result"
    }
   ],
   "source": [
    "# Ajout d'une colonne ID qui sera un identifiant unique pour chaque ligne (commençant à 1)\n",
    "df['ID'] = range(1, len(df) + 1)\n",
    "\n",
    "# Vérification de l'ajout de la colonne ID\n",
    "df[['ID'] + df.columns.tolist()[:-1]].head()"
   ],
   "metadata": {
    "collapsed": false,
    "ExecuteTime": {
     "end_time": "2024-05-22T19:21:42.406975100Z",
     "start_time": "2024-05-22T19:21:42.365512100Z"
    }
   },
   "id": "3068f3ef7b4f5366"
  },
  {
   "cell_type": "markdown",
   "source": [
    "# DEFINITION DES OUTLIERS POUR LES SURFACES DE TERRAINS PAR RAPPORT A LEUR PRIX\n",
    "\n",
    "### Calcul D’Outliers :\n",
    "X < q1 - 1.5 x iqr X > q3 + 1.5 x iqr"
   ],
   "metadata": {
    "collapsed": false
   },
   "id": "1fd16fae62b6c43c"
  },
  {
   "cell_type": "markdown",
   "source": [
    "# CALCUL DU PRIX TERRAIN AU M²"
   ],
   "metadata": {
    "collapsed": false
   },
   "id": "ad3776c293118bd5"
  },
  {
   "cell_type": "code",
   "execution_count": 4,
   "outputs": [
    {
     "name": "stderr",
     "output_type": "stream",
     "text": [
      "C:\\Users\\jonat\\AppData\\Local\\Temp\\ipykernel_11836\\3682938769.py:5: SettingWithCopyWarning: \n",
      "A value is trying to be set on a copy of a slice from a DataFrame.\n",
      "Try using .loc[row_indexer,col_indexer] = value instead\n",
      "\n",
      "See the caveats in the documentation: https://pandas.pydata.org/pandas-docs/stable/user_guide/indexing.html#returning-a-view-versus-a-copy\n",
      "  bien_avec_terrain['PrixTerrainM2'] = bien_avec_terrain['Prix'] / bien_avec_terrain['SurfaceTerrain']\n",
      "C:\\Users\\jonat\\AppData\\Local\\Temp\\ipykernel_11836\\3682938769.py:8: SettingWithCopyWarning: \n",
      "A value is trying to be set on a copy of a slice from a DataFrame\n",
      "\n",
      "See the caveats in the documentation: https://pandas.pydata.org/pandas-docs/stable/user_guide/indexing.html#returning-a-view-versus-a-copy\n",
      "  bien_avec_terrain['PrixTerrainM2'].replace(np.inf, 0, inplace=True)\n"
     ]
    }
   ],
   "source": [
    "# ISOLER LES BIENS AVEC TERRAINS\n",
    "bien_avec_terrain = df.loc[(df['SurfaceTerrain'] > 0)]\n",
    "\n",
    "df['PrixTerrainM2'] = df['Prix'] / df['SurfaceTerrain']\n",
    "bien_avec_terrain['PrixTerrainM2'] = bien_avec_terrain['Prix'] / bien_avec_terrain['SurfaceTerrain']\n",
    "# Remplacez les valeurs infinies par zéro.\n",
    "df['PrixTerrainM2'].replace(np.inf, 0, inplace=True)\n",
    "bien_avec_terrain['PrixTerrainM2'].replace(np.inf, 0, inplace=True)"
   ],
   "metadata": {
    "collapsed": false,
    "ExecuteTime": {
     "end_time": "2024-05-22T19:22:07.830139800Z",
     "start_time": "2024-05-22T19:22:07.761598300Z"
    }
   },
   "id": "bb7703247b46099c"
  },
  {
   "cell_type": "markdown",
   "source": [
    "# CALCULS DES QUARTILES POUR NOS OUTLIERS"
   ],
   "metadata": {
    "collapsed": false
   },
   "id": "e6c25cd9fc93d608"
  },
  {
   "cell_type": "code",
   "execution_count": 5,
   "outputs": [
    {
     "name": "stdout",
     "output_type": "stream",
     "text": [
      "q1 = 299.75509592326136, q3 = 1302.2881926269347, IQR = 1002.5330967036733\n"
     ]
    }
   ],
   "source": [
    "# CALCUL DE NOTRE PREMIER QUARTILE\n",
    "q1_prix_terrain = bien_avec_terrain['PrixTerrainM2'].quantile([.25])\n",
    "q1_prix_terrain = q1_prix_terrain[0.25]\n",
    "q3_prix_terrain = bien_avec_terrain['PrixTerrainM2'].quantile([.75])\n",
    "q3_prix_terrain = q3_prix_terrain[0.75]\n",
    "\n",
    "# CALCUL DE NOTRE ECART INTER QUARTILES\n",
    "iqr_prix_terrain = q3_prix_terrain - q1_prix_terrain\n",
    "\n",
    "print(f\"q1 = {q1_prix_terrain}, q3 = {q3_prix_terrain}, IQR = {iqr_prix_terrain}\")"
   ],
   "metadata": {
    "collapsed": false,
    "ExecuteTime": {
     "end_time": "2024-05-22T19:22:17.577859800Z",
     "start_time": "2024-05-22T19:22:17.547665900Z"
    }
   },
   "id": "ad6eb24d99ddf49e"
  },
  {
   "cell_type": "markdown",
   "source": [
    "# CALCUL DES VALEURS LIMITE OUTLIERS"
   ],
   "metadata": {
    "collapsed": false
   },
   "id": "31d759b484688c66"
  },
  {
   "cell_type": "code",
   "execution_count": 6,
   "outputs": [
    {
     "name": "stdout",
     "output_type": "stream",
     "text": [
      "Outliers Inférieur = -1204.0445491322484\n",
      "Outliers Supérieur = 2806.087837682445\n"
     ]
    }
   ],
   "source": [
    "outliers_prix_terrain_m2_inferieur = q1_prix_terrain - (1.5 * iqr_prix_terrain)\n",
    "outliers_prix_terrain_m2_superieur = q3_prix_terrain + (1.5 * iqr_prix_terrain)\n",
    "\n",
    "print(f'Outliers Inférieur = {outliers_prix_terrain_m2_inferieur}')\n",
    "print(f'Outliers Supérieur = {outliers_prix_terrain_m2_superieur}')"
   ],
   "metadata": {
    "collapsed": false,
    "ExecuteTime": {
     "end_time": "2024-05-22T19:22:20.573593Z",
     "start_time": "2024-05-22T19:22:20.556534700Z"
    }
   },
   "id": "2f280b2e4ca16455"
  },
  {
   "cell_type": "markdown",
   "source": [
    "# COMPATAGE DES OUTLIERS"
   ],
   "metadata": {
    "collapsed": false
   },
   "id": "7cf6b765dbc45fd2"
  },
  {
   "cell_type": "code",
   "execution_count": 7,
   "outputs": [
    {
     "name": "stdout",
     "output_type": "stream",
     "text": [
      "Nous aurions donc 13958 outliers.\n"
     ]
    }
   ],
   "source": [
    "nb_outliers_surface_terrain = df.loc[(df['PrixTerrainM2'] > outliers_prix_terrain_m2_superieur) | (df['PrixTerrainM2'] < outliers_prix_terrain_m2_inferieur)].shape\n",
    "print(f'Nous aurions donc {nb_outliers_surface_terrain[0]} outliers.')"
   ],
   "metadata": {
    "collapsed": false,
    "ExecuteTime": {
     "end_time": "2024-05-22T19:22:24.543666700Z",
     "start_time": "2024-05-22T19:22:24.508764300Z"
    }
   },
   "id": "c0284f473298b695"
  },
  {
   "cell_type": "markdown",
   "source": [
    "# STOCKAGE DES OUTLIERS DANS UN NOUVEAU DATAFRAME"
   ],
   "metadata": {
    "collapsed": false
   },
   "id": "d55012d983a986f1"
  },
  {
   "cell_type": "code",
   "execution_count": 8,
   "outputs": [],
   "source": [
    "outliers_surface_terrain = df.loc[(df['PrixTerrainM2'] > outliers_prix_terrain_m2_superieur) | (df['PrixTerrainM2'] < outliers_prix_terrain_m2_inferieur)]"
   ],
   "metadata": {
    "collapsed": false,
    "ExecuteTime": {
     "end_time": "2024-05-22T19:22:29.478708600Z",
     "start_time": "2024-05-22T19:22:29.453372Z"
    }
   },
   "id": "3a2271cc5086d37c"
  },
  {
   "cell_type": "markdown",
   "source": [
    "# DEFINITION DES OUTLIERS POUR LES SURFACES BATI PAR RAPPORT A LEUR PRIX\n",
    "# CALCUL DU PRIX BATI AU M²"
   ],
   "metadata": {
    "collapsed": false
   },
   "id": "1b4f967cadc367b6"
  },
  {
   "cell_type": "code",
   "execution_count": 9,
   "outputs": [],
   "source": [
    "df['PrixBatiM2'] = df['Prix'] / df['SurfaceBati']"
   ],
   "metadata": {
    "collapsed": false,
    "ExecuteTime": {
     "end_time": "2024-05-22T19:22:37.019622Z",
     "start_time": "2024-05-22T19:22:36.993679300Z"
    }
   },
   "id": "8b5741a292b00c4"
  },
  {
   "cell_type": "markdown",
   "source": [
    "# CALCULS DES QUARTILES POUR NOS OUTLIERS"
   ],
   "metadata": {
    "collapsed": false
   },
   "id": "34290966865e77e7"
  },
  {
   "cell_type": "code",
   "execution_count": 10,
   "outputs": [
    {
     "name": "stdout",
     "output_type": "stream",
     "text": [
      "q1 = 2340.425531914894, q3 = 5000.0, IQR = 2659.574468085106\n"
     ]
    }
   ],
   "source": [
    "# CALCUL DE NOTRE PREMIER QUARTILE\n",
    "q1_prix_bati = df['PrixBatiM2'].quantile([.25])\n",
    "q1_prix_bati = q1_prix_bati[0.25]\n",
    "q3_prix_bati = df['PrixBatiM2'].quantile([.75])\n",
    "q3_prix_bati = q3_prix_bati[0.75]\n",
    "\n",
    "# CALCUL DE NOTRE ECART INTER QUARTILES\n",
    "iqr_prix_bati = q3_prix_bati - q1_prix_bati\n",
    "\n",
    "print(f\"q1 = {q1_prix_bati}, q3 = {q3_prix_bati}, IQR = {iqr_prix_bati}\")"
   ],
   "metadata": {
    "collapsed": false,
    "ExecuteTime": {
     "end_time": "2024-05-22T19:22:38.856527800Z",
     "start_time": "2024-05-22T19:22:38.805802300Z"
    }
   },
   "id": "b8b3d01224d249ef"
  },
  {
   "cell_type": "markdown",
   "source": [
    "# CALCUL DES VALEURS LIMITE OUTLIERS"
   ],
   "metadata": {
    "collapsed": false
   },
   "id": "2bb9580e127c918a"
  },
  {
   "cell_type": "code",
   "execution_count": 11,
   "outputs": [
    {
     "name": "stdout",
     "output_type": "stream",
     "text": [
      "Outliers Inférieur = -1648.9361702127658\n",
      "Outliers Supérieur = 8989.361702127659\n"
     ]
    }
   ],
   "source": [
    "outliers_prix_bati_m2_inferieur = q1_prix_bati - (1.5 * iqr_prix_bati)\n",
    "outliers_prix_bati_m2_superieur = q3_prix_bati + (1.5 * iqr_prix_bati)\n",
    "\n",
    "print(f'Outliers Inférieur = {outliers_prix_bati_m2_inferieur}')\n",
    "print(f'Outliers Supérieur = {outliers_prix_bati_m2_superieur}')"
   ],
   "metadata": {
    "collapsed": false,
    "ExecuteTime": {
     "end_time": "2024-05-22T19:22:40.691120Z",
     "start_time": "2024-05-22T19:22:40.679842300Z"
    }
   },
   "id": "f9911da870170814"
  },
  {
   "cell_type": "markdown",
   "source": [
    "# COMPATAGE DES OUTLIERS"
   ],
   "metadata": {
    "collapsed": false
   },
   "id": "524139a8ad22c959"
  },
  {
   "cell_type": "code",
   "execution_count": 12,
   "outputs": [
    {
     "name": "stdout",
     "output_type": "stream",
     "text": [
      "Nous aurions donc 19115 outliers.\n"
     ]
    }
   ],
   "source": [
    "nb_outliers_surface_bati = df.loc[(df['PrixBatiM2'] > outliers_prix_bati_m2_superieur) | (df['PrixBatiM2'] < outliers_prix_bati_m2_inferieur)].shape\n",
    "print(f'Nous aurions donc {nb_outliers_surface_bati[0]} outliers.')"
   ],
   "metadata": {
    "collapsed": false,
    "ExecuteTime": {
     "end_time": "2024-05-22T19:22:42.709658100Z",
     "start_time": "2024-05-22T19:22:42.690921700Z"
    }
   },
   "id": "4b0ce7a99bcc09e2"
  },
  {
   "cell_type": "markdown",
   "source": [
    "# STOCKAGE DES OUTLIERS DANS UN NOUVEAU DATAFRAME"
   ],
   "metadata": {
    "collapsed": false
   },
   "id": "bd340543e590c9cd"
  },
  {
   "cell_type": "code",
   "execution_count": 13,
   "outputs": [],
   "source": [
    "outliers_surface_bati = df.loc[(df['PrixBatiM2'] > outliers_prix_bati_m2_superieur) | (df['PrixBatiM2'] < outliers_prix_bati_m2_inferieur)]"
   ],
   "metadata": {
    "collapsed": false,
    "ExecuteTime": {
     "end_time": "2024-05-22T19:22:45.945945900Z",
     "start_time": "2024-05-22T19:22:45.925543Z"
    }
   },
   "id": "e741371153da35e5"
  },
  {
   "cell_type": "markdown",
   "source": [
    "# DEFINITION DES OUTLIERS POUR LES SURFACES CARREZ PAR RAPPORT A LEUR PRIX\n",
    "# CALCUL DU PRIX CARREZ AU M²"
   ],
   "metadata": {
    "collapsed": false
   },
   "id": "82234bde843f6d57"
  },
  {
   "cell_type": "code",
   "execution_count": 14,
   "outputs": [
    {
     "name": "stderr",
     "output_type": "stream",
     "text": [
      "C:\\Users\\jonat\\AppData\\Local\\Temp\\ipykernel_11836\\3278027763.py:5: SettingWithCopyWarning: \n",
      "A value is trying to be set on a copy of a slice from a DataFrame.\n",
      "Try using .loc[row_indexer,col_indexer] = value instead\n",
      "\n",
      "See the caveats in the documentation: https://pandas.pydata.org/pandas-docs/stable/user_guide/indexing.html#returning-a-view-versus-a-copy\n",
      "  bien_avec_carrez['PrixCarrezM2'] = bien_avec_carrez['Prix'] / bien_avec_carrez['SurfaceCarrez']\n",
      "C:\\Users\\jonat\\AppData\\Local\\Temp\\ipykernel_11836\\3278027763.py:8: SettingWithCopyWarning: \n",
      "A value is trying to be set on a copy of a slice from a DataFrame\n",
      "\n",
      "See the caveats in the documentation: https://pandas.pydata.org/pandas-docs/stable/user_guide/indexing.html#returning-a-view-versus-a-copy\n",
      "  bien_avec_carrez['PrixCarrezM2'].replace(np.inf, 0, inplace=True)\n"
     ]
    }
   ],
   "source": [
    "# ISOLER LES BIENS AVEC UNE SURFACE CARREZ\n",
    "bien_avec_carrez = df.loc[(df['SurfaceCarrez'] > 0)]\n",
    "\n",
    "df['PrixCarrezM2'] = df['Prix'] / df['SurfaceCarrez']\n",
    "bien_avec_carrez['PrixCarrezM2'] = bien_avec_carrez['Prix'] / bien_avec_carrez['SurfaceCarrez']\n",
    "# Remplacez les valeurs infinies par zéro.\n",
    "df['PrixCarrezM2'].replace(np.inf, 0, inplace=True)\n",
    "bien_avec_carrez['PrixCarrezM2'].replace(np.inf, 0, inplace=True)"
   ],
   "metadata": {
    "collapsed": false,
    "ExecuteTime": {
     "end_time": "2024-05-22T19:22:56.467674300Z",
     "start_time": "2024-05-22T19:22:56.438566200Z"
    }
   },
   "id": "af12dbb7fe6c9f00"
  },
  {
   "cell_type": "markdown",
   "source": [
    "# CALCULS DES QUARTILES POUR NOS OUTLIERS"
   ],
   "metadata": {
    "collapsed": false
   },
   "id": "f07456c9551e1a6a"
  },
  {
   "cell_type": "code",
   "execution_count": 15,
   "outputs": [
    {
     "name": "stdout",
     "output_type": "stream",
     "text": [
      "q1 = 2843.0842768949233, q3 = 4813.300775335151, IQR = 1970.216498440228\n"
     ]
    }
   ],
   "source": [
    "# CALCUL DE NOTRE PREMIER QUARTILE\n",
    "q1_prix_carrez = bien_avec_carrez['PrixCarrezM2'].quantile([.25])\n",
    "q1_prix_carrez = q1_prix_carrez[0.25]\n",
    "q3_prix_carrez = bien_avec_carrez['PrixCarrezM2'].quantile([.75])\n",
    "q3_prix_carrez = q3_prix_carrez[0.75]\n",
    "\n",
    "# CALCUL DE NOTRE ECART INTER QUARTILES\n",
    "iqr_prix_carrez = q3_prix_carrez - q1_prix_carrez\n",
    "\n",
    "print(f\"q1 = {q1_prix_carrez}, q3 = {q3_prix_carrez}, IQR = {iqr_prix_carrez}\")"
   ],
   "metadata": {
    "collapsed": false,
    "ExecuteTime": {
     "end_time": "2024-05-22T19:22:59.438021100Z",
     "start_time": "2024-05-22T19:22:59.421782600Z"
    }
   },
   "id": "6fec03ef00454da6"
  },
  {
   "cell_type": "markdown",
   "source": [
    "# CALCUL DES VALEURS LIMITE OUTLIERS"
   ],
   "metadata": {
    "collapsed": false
   },
   "id": "ab86ed9a8138d3f9"
  },
  {
   "cell_type": "code",
   "execution_count": 16,
   "outputs": [
    {
     "name": "stdout",
     "output_type": "stream",
     "text": [
      "Outliers Inférieur = -112.24047076541865\n",
      "Outliers Supérieur = 7768.625522995493\n"
     ]
    }
   ],
   "source": [
    "outliers_prix_carrez_m2_inferieur = q1_prix_carrez - (1.5 * iqr_prix_carrez)\n",
    "outliers_prix_carrez_m2_superieur = q3_prix_carrez + (1.5 * iqr_prix_carrez)\n",
    "\n",
    "print(f'Outliers Inférieur = {outliers_prix_carrez_m2_inferieur}')\n",
    "print(f'Outliers Supérieur = {outliers_prix_carrez_m2_superieur}')"
   ],
   "metadata": {
    "collapsed": false,
    "ExecuteTime": {
     "end_time": "2024-05-22T19:23:01.824812700Z",
     "start_time": "2024-05-22T19:23:01.808645Z"
    }
   },
   "id": "acfe852ebb70952a"
  },
  {
   "cell_type": "markdown",
   "source": [
    "# COMPATAGE DES OUTLIERS"
   ],
   "metadata": {
    "collapsed": false
   },
   "id": "9cf445a6be3eb6d5"
  },
  {
   "cell_type": "code",
   "execution_count": 17,
   "outputs": [
    {
     "name": "stdout",
     "output_type": "stream",
     "text": [
      "Nous aurions donc 1524 outliers.\n"
     ]
    }
   ],
   "source": [
    "nb_outliers_surface_carrez = df.loc[(df['PrixCarrezM2'] > outliers_prix_carrez_m2_superieur) | (df['PrixCarrezM2'] < outliers_prix_carrez_m2_inferieur)].shape\n",
    "print(f'Nous aurions donc {nb_outliers_surface_carrez[0]} outliers.')"
   ],
   "metadata": {
    "collapsed": false,
    "ExecuteTime": {
     "end_time": "2024-05-22T19:23:03.585648800Z",
     "start_time": "2024-05-22T19:23:03.543518400Z"
    }
   },
   "id": "126705b6b5cbfa38"
  },
  {
   "cell_type": "markdown",
   "source": [
    "# STOCKAGE DES OUTLIERS DANS UN NOUVEAU DATAFRAME"
   ],
   "metadata": {
    "collapsed": false
   },
   "id": "52dab9a792247c95"
  },
  {
   "cell_type": "code",
   "execution_count": 18,
   "outputs": [],
   "source": [
    "outliers_surface_carrez = df.loc[(df['PrixCarrezM2'] > outliers_prix_carrez_m2_superieur) | (df['PrixCarrezM2'] < outliers_prix_carrez_m2_inferieur)]"
   ],
   "metadata": {
    "collapsed": false,
    "ExecuteTime": {
     "end_time": "2024-05-22T19:23:05.940952700Z",
     "start_time": "2024-05-22T19:23:05.929810700Z"
    }
   },
   "id": "e6a66a20487d1e90"
  },
  {
   "cell_type": "markdown",
   "source": [
    "# COMPATEGE DU TOTAL D'OUTLIERS DEPUIS LE DEBUT (DOUBLONS INCLUS)"
   ],
   "metadata": {
    "collapsed": false
   },
   "id": "61e3b75c6d078f2f"
  },
  {
   "cell_type": "code",
   "execution_count": 19,
   "outputs": [
    {
     "data": {
      "text/plain": "34597"
     },
     "execution_count": 19,
     "metadata": {},
     "output_type": "execute_result"
    }
   ],
   "source": [
    "nb_outliers_surface_terrain[0] + nb_outliers_surface_bati[0] + nb_outliers_surface_carrez[0]"
   ],
   "metadata": {
    "collapsed": false,
    "ExecuteTime": {
     "end_time": "2024-05-22T19:23:09.338678300Z",
     "start_time": "2024-05-22T19:23:09.323400200Z"
    }
   },
   "id": "70b7cba541f4d7c5"
  },
  {
   "cell_type": "markdown",
   "source": [
    "# CREATION D'UN DATAFRAME HORS OUTLIERS ET DOUBLONS D'OUTLIERS"
   ],
   "metadata": {
    "collapsed": false
   },
   "id": "1664ceedd6110e71"
  },
  {
   "cell_type": "code",
   "execution_count": 20,
   "outputs": [],
   "source": [
    "# Concaténation des ID des outliers\n",
    "ids_outliers = pd.concat([outliers_surface_bati['ID'], outliers_surface_terrain['ID'], outliers_surface_carrez['ID']])\n",
    "\n",
    "# Suppression des duplicatas\n",
    "ids_outliers = ids_outliers.drop_duplicates()\n",
    "\n",
    "# Filtrage de df pour exclure les outliers\n",
    "df_clean = df[~df['ID'].isin(ids_outliers)]"
   ],
   "metadata": {
    "collapsed": false,
    "ExecuteTime": {
     "end_time": "2024-05-22T19:23:12.805502300Z",
     "start_time": "2024-05-22T19:23:12.764396100Z"
    }
   },
   "id": "c4e0617498083fb9"
  },
  {
   "cell_type": "markdown",
   "source": [
    "# CREATION D'UN CSV DEPUIS CE DATAFRAMES"
   ],
   "metadata": {
    "collapsed": false
   },
   "id": "806b41238b64eec7"
  },
  {
   "cell_type": "code",
   "execution_count": 21,
   "outputs": [],
   "source": [
    "df_clean.to_csv('../DATA/OUT/dataset_hors_outliers_surfaces.csv', index=False)"
   ],
   "metadata": {
    "collapsed": false,
    "ExecuteTime": {
     "end_time": "2024-05-22T19:23:16.253655600Z",
     "start_time": "2024-05-22T19:23:15.368616800Z"
    }
   },
   "id": "a082b0c767fa915e"
  },
  {
   "cell_type": "markdown",
   "source": [
    "# DEFINITION DES OUTLIERS POUR LE NOMBRE DE PIECES PRINCIPALES\n",
    "\n",
    "# CALCULS DES QUARTILES POUR NOS OUTLIERS"
   ],
   "metadata": {
    "collapsed": false
   },
   "id": "bd7fe64230ab9886"
  },
  {
   "cell_type": "code",
   "execution_count": 22,
   "outputs": [
    {
     "name": "stdout",
     "output_type": "stream",
     "text": [
      "q1 = 0.0, q3 = 1.0, IQR = 1.0\n"
     ]
    }
   ],
   "source": [
    "# CALCUL DE NOTRE PREMIER QUARTILE\n",
    "q1_nb_piece = df['NombrePiecesPrincipales'].quantile([.25])\n",
    "q1_nb_piece = q1_nb_piece[0.25]\n",
    "q3_nb_piece = df['NombrePiecesPrincipales'].quantile([.75])\n",
    "q3_nb_piece = q3_nb_piece[0.75]\n",
    "\n",
    "# CALCUL DE NOTRE ECART INTER QUARTILES\n",
    "iqr_nb_piece = q3_nb_piece - q1_nb_piece\n",
    "\n",
    "print(f\"q1 = {q1_nb_piece}, q3 = {q3_nb_piece}, IQR = {iqr_nb_piece}\")"
   ],
   "metadata": {
    "collapsed": false,
    "ExecuteTime": {
     "end_time": "2024-05-22T19:23:24.218737300Z",
     "start_time": "2024-05-22T19:23:24.191456600Z"
    }
   },
   "id": "9466068d7b874c08"
  },
  {
   "cell_type": "markdown",
   "source": [
    "# CALCUL DES VALEURS LIMITE OUTLIERS"
   ],
   "metadata": {
    "collapsed": false
   },
   "id": "23e117a6f4eadf19"
  },
  {
   "cell_type": "code",
   "execution_count": 23,
   "outputs": [
    {
     "name": "stdout",
     "output_type": "stream",
     "text": [
      "Outliers Inférieur = -1.5\n",
      "Outliers Supérieur = 2.5\n"
     ]
    }
   ],
   "source": [
    "outliers_nb_pieces_inferieur = q1_nb_piece - (1.5 * iqr_nb_piece)\n",
    "outliers_nb_pieces_superieur = q3_nb_piece + (1.5 * iqr_nb_piece)\n",
    "\n",
    "print(f'Outliers Inférieur = {outliers_nb_pieces_inferieur}')\n",
    "print(f'Outliers Supérieur = {outliers_nb_pieces_superieur}')"
   ],
   "metadata": {
    "collapsed": false,
    "ExecuteTime": {
     "end_time": "2024-05-22T19:23:25.151525600Z",
     "start_time": "2024-05-22T19:23:25.133261Z"
    }
   },
   "id": "e06ead8bd18b4647"
  },
  {
   "cell_type": "markdown",
   "source": [
    "# COMPATAGE DES OUTLIERS"
   ],
   "metadata": {
    "collapsed": false
   },
   "id": "f1f68f48ab4f7282"
  },
  {
   "cell_type": "code",
   "execution_count": 24,
   "outputs": [
    {
     "name": "stdout",
     "output_type": "stream",
     "text": [
      "Nous aurions donc 1786 outliers.\n"
     ]
    }
   ],
   "source": [
    "nb_outliers_nb_piece = df.loc[(df['NombrePiecesPrincipales'] > outliers_nb_pieces_superieur) | (df['NombrePiecesPrincipales'] < outliers_nb_pieces_inferieur)].shape\n",
    "print(f'Nous aurions donc {nb_outliers_nb_piece[0]} outliers.')"
   ],
   "metadata": {
    "collapsed": false,
    "ExecuteTime": {
     "end_time": "2024-05-22T19:23:26.262912500Z",
     "start_time": "2024-05-22T19:23:26.244560900Z"
    }
   },
   "id": "dea3b2a37e21bed9"
  },
  {
   "cell_type": "markdown",
   "source": [
    "# STOCKAGE DES OUTLIERS DANS UN NOUVEAU DATAFRAME"
   ],
   "metadata": {
    "collapsed": false
   },
   "id": "43ca8c120fac6de4"
  },
  {
   "cell_type": "code",
   "execution_count": 25,
   "outputs": [],
   "source": [
    "outliers_nb_pieces = df.loc[(df['NombrePiecesPrincipales'] > outliers_nb_pieces_superieur) | (df['NombrePiecesPrincipales'] < outliers_nb_pieces_inferieur)]"
   ],
   "metadata": {
    "collapsed": false,
    "ExecuteTime": {
     "end_time": "2024-05-22T19:23:27.565532700Z",
     "start_time": "2024-05-22T19:23:27.545746700Z"
    }
   },
   "id": "eb2991dd409a6712"
  },
  {
   "cell_type": "markdown",
   "source": [
    "# CREATION D'UN DATAFRAME HORS OUTLIERS ET DOUBLONS D'OUTLIERS"
   ],
   "metadata": {
    "collapsed": false
   },
   "id": "33f85217b50bc1ab"
  },
  {
   "cell_type": "code",
   "execution_count": 26,
   "outputs": [],
   "source": [
    "# Concaténation des ID des outliers\n",
    "ids_outliers = pd.concat([outliers_surface_bati['ID'], outliers_surface_terrain['ID'], outliers_surface_carrez['ID'], outliers_nb_pieces['ID']])\n",
    "\n",
    "# Suppression des duplicatas\n",
    "ids_outliers = ids_outliers.drop_duplicates()\n",
    "\n",
    "# Filtrage de df pour exclure les outliers\n",
    "df_clean_with_nb_piece = df[~df['ID'].isin(ids_outliers)]"
   ],
   "metadata": {
    "collapsed": false,
    "ExecuteTime": {
     "end_time": "2024-05-22T19:23:30.123817800Z",
     "start_time": "2024-05-22T19:23:30.094954800Z"
    }
   },
   "id": "6e1d2bc47e995450"
  },
  {
   "cell_type": "markdown",
   "source": [
    "# CREATION D'UN CSV DEPUIS CE DATAFRAMES"
   ],
   "metadata": {
    "collapsed": false
   },
   "id": "f59ad575d6d9f7e4"
  },
  {
   "cell_type": "code",
   "execution_count": 27,
   "outputs": [],
   "source": [
    "df_clean_with_nb_piece.to_csv('../DATA/OUT/dataset_hors_outliers_surfaces_and_piece.csv', index=False)"
   ],
   "metadata": {
    "collapsed": false,
    "ExecuteTime": {
     "end_time": "2024-05-22T19:23:35.211422900Z",
     "start_time": "2024-05-22T19:23:34.323711300Z"
    }
   },
   "id": "39884150aec9386f"
  }
 ],
 "metadata": {
  "kernelspec": {
   "display_name": "Python 3",
   "language": "python",
   "name": "python3"
  },
  "language_info": {
   "codemirror_mode": {
    "name": "ipython",
    "version": 2
   },
   "file_extension": ".py",
   "mimetype": "text/x-python",
   "name": "python",
   "nbconvert_exporter": "python",
   "pygments_lexer": "ipython2",
   "version": "2.7.6"
  }
 },
 "nbformat": 4,
 "nbformat_minor": 5
}
